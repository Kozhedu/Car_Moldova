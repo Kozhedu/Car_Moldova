{
  "nbformat": 4,
  "nbformat_minor": 0,
  "metadata": {
    "colab": {
      "provenance": [],
      "authorship_tag": "ABX9TyOPgvvYTosoZ1r4J0QhllE1",
      "include_colab_link": true
    },
    "kernelspec": {
      "name": "python3",
      "display_name": "Python 3"
    },
    "language_info": {
      "name": "python"
    }
  },
  "cells": [
    {
      "cell_type": "markdown",
      "metadata": {
        "id": "view-in-github",
        "colab_type": "text"
      },
      "source": [
        "<a href=\"https://colab.research.google.com/github/Kozhedu/Car_Moldova/blob/main/%D0%94%D0%97_5.ipynb\" target=\"_parent\"><img src=\"https://colab.research.google.com/assets/colab-badge.svg\" alt=\"Open In Colab\"/></a>"
      ]
    },
    {
      "cell_type": "code",
      "execution_count": null,
      "metadata": {
        "id": "wLSPV8m6XBNl"
      },
      "outputs": [],
      "source": [
        "import pandas as pd\n",
        "import numpy as np\n",
        "\n",
        "from sklearn.pipeline import Pipeline\n",
        "from sklearn.compose import ColumnTransformer\n",
        "\n",
        "from sklearn.preprocessing import OneHotEncoder, MinMaxScaler\n",
        "\n",
        "from sklearn.model_selection import train_test_split\n",
        "from sklearn.linear_model import LinearRegression\n",
        "\n",
        "from sklearn import preprocessing as prep \n",
        "\n",
        "from sklearn.metrics import f1_score\n",
        "\n",
        "from sklearn.preprocessing import MinMaxScaler\n",
        "\n",
        "from sklearn.compose import make_column_transformer\n",
        "\n",
        "from sklearn.pipeline import make_pipeline\n",
        "\n",
        "from sklearn.metrics import r2_score\n",
        "\n",
        "from sklearn.model_selection import RandomizedSearchCV\n",
        "import scipy.stats as stats\n",
        "from sklearn.utils.fixes import loguniform\n",
        "\n",
        "from sklearn.model_selection import ShuffleSplit\n",
        "\n",
        "from sklearn.linear_model import Lasso"
      ]
    },
    {
      "cell_type": "markdown",
      "source": [
        "# 1. ОПТИМИЗАЦИЯ ЛИНЕЙНОЙ РЕГРЕССИИ"
      ],
      "metadata": {
        "id": "M1M-GKjhYm-P"
      }
    },
    {
      "cell_type": "markdown",
      "source": [
        "## 1.1. Загружаем чистый набор данных с  новыми признаками"
      ],
      "metadata": {
        "id": "pRq74ZS4Y0aw"
      }
    },
    {
      "cell_type": "code",
      "source": [
        "df = pd.read_csv(\"cars_moldova_categor.csv\")"
      ],
      "metadata": {
        "id": "XerbnegqXGyG"
      },
      "execution_count": null,
      "outputs": []
    },
    {
      "cell_type": "code",
      "source": [
        "df.info()"
      ],
      "metadata": {
        "colab": {
          "base_uri": "https://localhost:8080/"
        },
        "id": "j46s9IQAXXJb",
        "outputId": "1ae021d7-1687-47e1-a386-ee87014d92b9"
      },
      "execution_count": null,
      "outputs": [
        {
          "output_type": "stream",
          "name": "stdout",
          "text": [
            "<class 'pandas.core.frame.DataFrame'>\n",
            "RangeIndex: 32474 entries, 0 to 32473\n",
            "Data columns (total 14 columns):\n",
            " #   Column                Non-Null Count  Dtype  \n",
            "---  ------                --------------  -----  \n",
            " 0   Make                  32474 non-null  object \n",
            " 1   Model                 32474 non-null  object \n",
            " 2   Year                  32474 non-null  int64  \n",
            " 3   Style                 32474 non-null  object \n",
            " 4   Distance              32474 non-null  float64\n",
            " 5   Engine_capacity(cm3)  32474 non-null  float64\n",
            " 6   Fuel_type             32474 non-null  object \n",
            " 7   Transmission          32474 non-null  object \n",
            " 8   Price(euro)           32474 non-null  float64\n",
            " 9   Age                   32474 non-null  int64  \n",
            " 10  km_year               32474 non-null  float64\n",
            " 11  km_year_q             32474 non-null  object \n",
            " 12  Make_val              32474 non-null  int64  \n",
            " 13  Price_mean_make       32474 non-null  float64\n",
            "dtypes: float64(5), int64(3), object(6)\n",
            "memory usage: 3.5+ MB\n"
          ]
        }
      ]
    },
    {
      "cell_type": "code",
      "source": [
        "df.head(2)"
      ],
      "metadata": {
        "colab": {
          "base_uri": "https://localhost:8080/",
          "height": 112
        },
        "id": "ox2lahaBXmTm",
        "outputId": "f551c4e3-ca75-40a5-a26e-e4cfaeb1b01c"
      },
      "execution_count": null,
      "outputs": [
        {
          "output_type": "execute_result",
          "data": {
            "text/plain": [
              "      Make         Model  Year      Style  Distance  Engine_capacity(cm3)  \\\n",
              "0   Toyota         Prius  2011  Hatchback  195000.0                1800.0   \n",
              "1  Renault  Grand Scenic  2014  Universal  135000.0                1500.0   \n",
              "\n",
              "  Fuel_type Transmission  Price(euro)  Age       km_year        km_year_q  \\\n",
              "0    Hybrid    Automatic       7750.0   11  17727.272727     high_mileage   \n",
              "1    Diesel       Manual       8550.0    8  16875.000000  average_mileage   \n",
              "\n",
              "   Make_val  Price_mean_make  \n",
              "0      3091      9629.435781  \n",
              "1      2371      6624.550822  "
            ],
            "text/html": [
              "\n",
              "  <div id=\"df-0d25394d-98dd-42fc-80c2-2da16b7784ee\">\n",
              "    <div class=\"colab-df-container\">\n",
              "      <div>\n",
              "<style scoped>\n",
              "    .dataframe tbody tr th:only-of-type {\n",
              "        vertical-align: middle;\n",
              "    }\n",
              "\n",
              "    .dataframe tbody tr th {\n",
              "        vertical-align: top;\n",
              "    }\n",
              "\n",
              "    .dataframe thead th {\n",
              "        text-align: right;\n",
              "    }\n",
              "</style>\n",
              "<table border=\"1\" class=\"dataframe\">\n",
              "  <thead>\n",
              "    <tr style=\"text-align: right;\">\n",
              "      <th></th>\n",
              "      <th>Make</th>\n",
              "      <th>Model</th>\n",
              "      <th>Year</th>\n",
              "      <th>Style</th>\n",
              "      <th>Distance</th>\n",
              "      <th>Engine_capacity(cm3)</th>\n",
              "      <th>Fuel_type</th>\n",
              "      <th>Transmission</th>\n",
              "      <th>Price(euro)</th>\n",
              "      <th>Age</th>\n",
              "      <th>km_year</th>\n",
              "      <th>km_year_q</th>\n",
              "      <th>Make_val</th>\n",
              "      <th>Price_mean_make</th>\n",
              "    </tr>\n",
              "  </thead>\n",
              "  <tbody>\n",
              "    <tr>\n",
              "      <th>0</th>\n",
              "      <td>Toyota</td>\n",
              "      <td>Prius</td>\n",
              "      <td>2011</td>\n",
              "      <td>Hatchback</td>\n",
              "      <td>195000.0</td>\n",
              "      <td>1800.0</td>\n",
              "      <td>Hybrid</td>\n",
              "      <td>Automatic</td>\n",
              "      <td>7750.0</td>\n",
              "      <td>11</td>\n",
              "      <td>17727.272727</td>\n",
              "      <td>high_mileage</td>\n",
              "      <td>3091</td>\n",
              "      <td>9629.435781</td>\n",
              "    </tr>\n",
              "    <tr>\n",
              "      <th>1</th>\n",
              "      <td>Renault</td>\n",
              "      <td>Grand Scenic</td>\n",
              "      <td>2014</td>\n",
              "      <td>Universal</td>\n",
              "      <td>135000.0</td>\n",
              "      <td>1500.0</td>\n",
              "      <td>Diesel</td>\n",
              "      <td>Manual</td>\n",
              "      <td>8550.0</td>\n",
              "      <td>8</td>\n",
              "      <td>16875.000000</td>\n",
              "      <td>average_mileage</td>\n",
              "      <td>2371</td>\n",
              "      <td>6624.550822</td>\n",
              "    </tr>\n",
              "  </tbody>\n",
              "</table>\n",
              "</div>\n",
              "      <button class=\"colab-df-convert\" onclick=\"convertToInteractive('df-0d25394d-98dd-42fc-80c2-2da16b7784ee')\"\n",
              "              title=\"Convert this dataframe to an interactive table.\"\n",
              "              style=\"display:none;\">\n",
              "        \n",
              "  <svg xmlns=\"http://www.w3.org/2000/svg\" height=\"24px\"viewBox=\"0 0 24 24\"\n",
              "       width=\"24px\">\n",
              "    <path d=\"M0 0h24v24H0V0z\" fill=\"none\"/>\n",
              "    <path d=\"M18.56 5.44l.94 2.06.94-2.06 2.06-.94-2.06-.94-.94-2.06-.94 2.06-2.06.94zm-11 1L8.5 8.5l.94-2.06 2.06-.94-2.06-.94L8.5 2.5l-.94 2.06-2.06.94zm10 10l.94 2.06.94-2.06 2.06-.94-2.06-.94-.94-2.06-.94 2.06-2.06.94z\"/><path d=\"M17.41 7.96l-1.37-1.37c-.4-.4-.92-.59-1.43-.59-.52 0-1.04.2-1.43.59L10.3 9.45l-7.72 7.72c-.78.78-.78 2.05 0 2.83L4 21.41c.39.39.9.59 1.41.59.51 0 1.02-.2 1.41-.59l7.78-7.78 2.81-2.81c.8-.78.8-2.07 0-2.86zM5.41 20L4 18.59l7.72-7.72 1.47 1.35L5.41 20z\"/>\n",
              "  </svg>\n",
              "      </button>\n",
              "      \n",
              "  <style>\n",
              "    .colab-df-container {\n",
              "      display:flex;\n",
              "      flex-wrap:wrap;\n",
              "      gap: 12px;\n",
              "    }\n",
              "\n",
              "    .colab-df-convert {\n",
              "      background-color: #E8F0FE;\n",
              "      border: none;\n",
              "      border-radius: 50%;\n",
              "      cursor: pointer;\n",
              "      display: none;\n",
              "      fill: #1967D2;\n",
              "      height: 32px;\n",
              "      padding: 0 0 0 0;\n",
              "      width: 32px;\n",
              "    }\n",
              "\n",
              "    .colab-df-convert:hover {\n",
              "      background-color: #E2EBFA;\n",
              "      box-shadow: 0px 1px 2px rgba(60, 64, 67, 0.3), 0px 1px 3px 1px rgba(60, 64, 67, 0.15);\n",
              "      fill: #174EA6;\n",
              "    }\n",
              "\n",
              "    [theme=dark] .colab-df-convert {\n",
              "      background-color: #3B4455;\n",
              "      fill: #D2E3FC;\n",
              "    }\n",
              "\n",
              "    [theme=dark] .colab-df-convert:hover {\n",
              "      background-color: #434B5C;\n",
              "      box-shadow: 0px 1px 3px 1px rgba(0, 0, 0, 0.15);\n",
              "      filter: drop-shadow(0px 1px 2px rgba(0, 0, 0, 0.3));\n",
              "      fill: #FFFFFF;\n",
              "    }\n",
              "  </style>\n",
              "\n",
              "      <script>\n",
              "        const buttonEl =\n",
              "          document.querySelector('#df-0d25394d-98dd-42fc-80c2-2da16b7784ee button.colab-df-convert');\n",
              "        buttonEl.style.display =\n",
              "          google.colab.kernel.accessAllowed ? 'block' : 'none';\n",
              "\n",
              "        async function convertToInteractive(key) {\n",
              "          const element = document.querySelector('#df-0d25394d-98dd-42fc-80c2-2da16b7784ee');\n",
              "          const dataTable =\n",
              "            await google.colab.kernel.invokeFunction('convertToInteractive',\n",
              "                                                     [key], {});\n",
              "          if (!dataTable) return;\n",
              "\n",
              "          const docLinkHtml = 'Like what you see? Visit the ' +\n",
              "            '<a target=\"_blank\" href=https://colab.research.google.com/notebooks/data_table.ipynb>data table notebook</a>'\n",
              "            + ' to learn more about interactive tables.';\n",
              "          element.innerHTML = '';\n",
              "          dataTable['output_type'] = 'display_data';\n",
              "          await google.colab.output.renderOutput(dataTable, element);\n",
              "          const docLink = document.createElement('div');\n",
              "          docLink.innerHTML = docLinkHtml;\n",
              "          element.appendChild(docLink);\n",
              "        }\n",
              "      </script>\n",
              "    </div>\n",
              "  </div>\n",
              "  "
            ]
          },
          "metadata": {},
          "execution_count": 6
        }
      ]
    },
    {
      "cell_type": "code",
      "source": [
        "data = df.drop(columns = ['Price(euro)'])\n",
        "target = df['Price(euro)']"
      ],
      "metadata": {
        "id": "iwFvBd7QN9Bc"
      },
      "execution_count": null,
      "outputs": []
    },
    {
      "cell_type": "code",
      "source": [
        "cat_columns = []\n",
        "num_columns = []\n",
        "\n",
        "for column_name in df.columns:\n",
        "    if (df[column_name].dtypes == object):\n",
        "        cat_columns +=[column_name]\n",
        "    else:\n",
        "        num_columns +=[column_name]\n",
        "\n",
        "print('categorical columns:\\t ',cat_columns, '\\n len = ',len(cat_columns))\n",
        "\n",
        "print('numerical columns:\\t ',  num_columns, '\\n len = ',len(num_columns))"
      ],
      "metadata": {
        "colab": {
          "base_uri": "https://localhost:8080/"
        },
        "id": "o2UXqFfKONpu",
        "outputId": "1e4fb010-f808-438b-f4dd-335a609221f0"
      },
      "execution_count": null,
      "outputs": [
        {
          "output_type": "stream",
          "name": "stdout",
          "text": [
            "categorical columns:\t  ['Make', 'Model', 'Style', 'Fuel_type', 'Transmission', 'km_year_q'] \n",
            " len =  6\n",
            "numerical columns:\t  ['Year', 'Distance', 'Engine_capacity(cm3)', 'Price(euro)', 'Age', 'km_year', 'Make_val', 'Price_mean_make'] \n",
            " len =  8\n"
          ]
        }
      ]
    },
    {
      "cell_type": "code",
      "source": [
        "df_num = df.copy()"
      ],
      "metadata": {
        "id": "-LVmjqOjOTgn"
      },
      "execution_count": null,
      "outputs": []
    },
    {
      "cell_type": "code",
      "source": [
        "df_num"
      ],
      "metadata": {
        "colab": {
          "base_uri": "https://localhost:8080/",
          "height": 424
        },
        "id": "3hUNueetVH6s",
        "outputId": "327bcaf2-0e15-42ad-f0b4-06ddabb7fc0f"
      },
      "execution_count": null,
      "outputs": [
        {
          "output_type": "execute_result",
          "data": {
            "text/plain": [
              "             Make         Model  Year      Style  Distance  \\\n",
              "0          Toyota         Prius  2011  Hatchback  195000.0   \n",
              "1         Renault  Grand Scenic  2014  Universal  135000.0   \n",
              "2         Renault        Laguna  2012  Universal  110000.0   \n",
              "3            Opel         Astra  2006  Universal  200000.0   \n",
              "4        Mercedes          Vito  2000   Microvan  300000.0   \n",
              "...           ...           ...   ...        ...       ...   \n",
              "32469  Volkswagen        Passat  2016      Sedan   88000.0   \n",
              "32470  Land Rover    Freelander  2002  Crossover  225000.0   \n",
              "32471       Dacia     Logan Mcv  2015  Universal   89000.0   \n",
              "32472       Mazda             6  2006      Combi  370000.0   \n",
              "32473     Renault  Grand Scenic  2006    Minivan  300000.0   \n",
              "\n",
              "       Engine_capacity(cm3)     Fuel_type Transmission  Price(euro)  Age  \\\n",
              "0                    1800.0        Hybrid    Automatic       7750.0   11   \n",
              "1                    1500.0        Diesel       Manual       8550.0    8   \n",
              "2                    1500.0        Diesel       Manual       6550.0   10   \n",
              "3                    1600.0  Metan/Propan       Manual       4100.0   16   \n",
              "4                    2200.0        Diesel       Manual       3490.0   22   \n",
              "...                     ...           ...          ...          ...  ...   \n",
              "32469                1800.0        Petrol    Automatic      11500.0    6   \n",
              "32470                1800.0  Metan/Propan       Manual       4400.0   20   \n",
              "32471                1500.0        Diesel       Manual       7000.0    7   \n",
              "32472                2000.0        Diesel       Manual       4000.0   16   \n",
              "32473                1500.0        Diesel       Manual       4000.0   16   \n",
              "\n",
              "            km_year        km_year_q  Make_val  Price_mean_make  \n",
              "0      17727.272727     high_mileage      3091      9629.435781  \n",
              "1      16875.000000  average_mileage      2371      6624.550822  \n",
              "2      11000.000000   little_mileage      2371      6624.550822  \n",
              "3      12500.000000  average_mileage      1867      4169.550080  \n",
              "4      13636.363636  average_mileage      3032     12960.053100  \n",
              "...             ...              ...       ...              ...  \n",
              "32469  14666.666667  average_mileage      3450      6839.976522  \n",
              "32470  11250.000000   little_mileage       288     22631.614583  \n",
              "32471  12714.285714  average_mileage      1348      5327.074926  \n",
              "32472  23125.000000     high_mileage       444      5145.808559  \n",
              "32473  18750.000000     high_mileage      2371      6624.550822  \n",
              "\n",
              "[32474 rows x 14 columns]"
            ],
            "text/html": [
              "\n",
              "  <div id=\"df-e4a156c0-cb05-44ed-b5ac-dc96a1eecb68\">\n",
              "    <div class=\"colab-df-container\">\n",
              "      <div>\n",
              "<style scoped>\n",
              "    .dataframe tbody tr th:only-of-type {\n",
              "        vertical-align: middle;\n",
              "    }\n",
              "\n",
              "    .dataframe tbody tr th {\n",
              "        vertical-align: top;\n",
              "    }\n",
              "\n",
              "    .dataframe thead th {\n",
              "        text-align: right;\n",
              "    }\n",
              "</style>\n",
              "<table border=\"1\" class=\"dataframe\">\n",
              "  <thead>\n",
              "    <tr style=\"text-align: right;\">\n",
              "      <th></th>\n",
              "      <th>Make</th>\n",
              "      <th>Model</th>\n",
              "      <th>Year</th>\n",
              "      <th>Style</th>\n",
              "      <th>Distance</th>\n",
              "      <th>Engine_capacity(cm3)</th>\n",
              "      <th>Fuel_type</th>\n",
              "      <th>Transmission</th>\n",
              "      <th>Price(euro)</th>\n",
              "      <th>Age</th>\n",
              "      <th>km_year</th>\n",
              "      <th>km_year_q</th>\n",
              "      <th>Make_val</th>\n",
              "      <th>Price_mean_make</th>\n",
              "    </tr>\n",
              "  </thead>\n",
              "  <tbody>\n",
              "    <tr>\n",
              "      <th>0</th>\n",
              "      <td>Toyota</td>\n",
              "      <td>Prius</td>\n",
              "      <td>2011</td>\n",
              "      <td>Hatchback</td>\n",
              "      <td>195000.0</td>\n",
              "      <td>1800.0</td>\n",
              "      <td>Hybrid</td>\n",
              "      <td>Automatic</td>\n",
              "      <td>7750.0</td>\n",
              "      <td>11</td>\n",
              "      <td>17727.272727</td>\n",
              "      <td>high_mileage</td>\n",
              "      <td>3091</td>\n",
              "      <td>9629.435781</td>\n",
              "    </tr>\n",
              "    <tr>\n",
              "      <th>1</th>\n",
              "      <td>Renault</td>\n",
              "      <td>Grand Scenic</td>\n",
              "      <td>2014</td>\n",
              "      <td>Universal</td>\n",
              "      <td>135000.0</td>\n",
              "      <td>1500.0</td>\n",
              "      <td>Diesel</td>\n",
              "      <td>Manual</td>\n",
              "      <td>8550.0</td>\n",
              "      <td>8</td>\n",
              "      <td>16875.000000</td>\n",
              "      <td>average_mileage</td>\n",
              "      <td>2371</td>\n",
              "      <td>6624.550822</td>\n",
              "    </tr>\n",
              "    <tr>\n",
              "      <th>2</th>\n",
              "      <td>Renault</td>\n",
              "      <td>Laguna</td>\n",
              "      <td>2012</td>\n",
              "      <td>Universal</td>\n",
              "      <td>110000.0</td>\n",
              "      <td>1500.0</td>\n",
              "      <td>Diesel</td>\n",
              "      <td>Manual</td>\n",
              "      <td>6550.0</td>\n",
              "      <td>10</td>\n",
              "      <td>11000.000000</td>\n",
              "      <td>little_mileage</td>\n",
              "      <td>2371</td>\n",
              "      <td>6624.550822</td>\n",
              "    </tr>\n",
              "    <tr>\n",
              "      <th>3</th>\n",
              "      <td>Opel</td>\n",
              "      <td>Astra</td>\n",
              "      <td>2006</td>\n",
              "      <td>Universal</td>\n",
              "      <td>200000.0</td>\n",
              "      <td>1600.0</td>\n",
              "      <td>Metan/Propan</td>\n",
              "      <td>Manual</td>\n",
              "      <td>4100.0</td>\n",
              "      <td>16</td>\n",
              "      <td>12500.000000</td>\n",
              "      <td>average_mileage</td>\n",
              "      <td>1867</td>\n",
              "      <td>4169.550080</td>\n",
              "    </tr>\n",
              "    <tr>\n",
              "      <th>4</th>\n",
              "      <td>Mercedes</td>\n",
              "      <td>Vito</td>\n",
              "      <td>2000</td>\n",
              "      <td>Microvan</td>\n",
              "      <td>300000.0</td>\n",
              "      <td>2200.0</td>\n",
              "      <td>Diesel</td>\n",
              "      <td>Manual</td>\n",
              "      <td>3490.0</td>\n",
              "      <td>22</td>\n",
              "      <td>13636.363636</td>\n",
              "      <td>average_mileage</td>\n",
              "      <td>3032</td>\n",
              "      <td>12960.053100</td>\n",
              "    </tr>\n",
              "    <tr>\n",
              "      <th>...</th>\n",
              "      <td>...</td>\n",
              "      <td>...</td>\n",
              "      <td>...</td>\n",
              "      <td>...</td>\n",
              "      <td>...</td>\n",
              "      <td>...</td>\n",
              "      <td>...</td>\n",
              "      <td>...</td>\n",
              "      <td>...</td>\n",
              "      <td>...</td>\n",
              "      <td>...</td>\n",
              "      <td>...</td>\n",
              "      <td>...</td>\n",
              "      <td>...</td>\n",
              "    </tr>\n",
              "    <tr>\n",
              "      <th>32469</th>\n",
              "      <td>Volkswagen</td>\n",
              "      <td>Passat</td>\n",
              "      <td>2016</td>\n",
              "      <td>Sedan</td>\n",
              "      <td>88000.0</td>\n",
              "      <td>1800.0</td>\n",
              "      <td>Petrol</td>\n",
              "      <td>Automatic</td>\n",
              "      <td>11500.0</td>\n",
              "      <td>6</td>\n",
              "      <td>14666.666667</td>\n",
              "      <td>average_mileage</td>\n",
              "      <td>3450</td>\n",
              "      <td>6839.976522</td>\n",
              "    </tr>\n",
              "    <tr>\n",
              "      <th>32470</th>\n",
              "      <td>Land Rover</td>\n",
              "      <td>Freelander</td>\n",
              "      <td>2002</td>\n",
              "      <td>Crossover</td>\n",
              "      <td>225000.0</td>\n",
              "      <td>1800.0</td>\n",
              "      <td>Metan/Propan</td>\n",
              "      <td>Manual</td>\n",
              "      <td>4400.0</td>\n",
              "      <td>20</td>\n",
              "      <td>11250.000000</td>\n",
              "      <td>little_mileage</td>\n",
              "      <td>288</td>\n",
              "      <td>22631.614583</td>\n",
              "    </tr>\n",
              "    <tr>\n",
              "      <th>32471</th>\n",
              "      <td>Dacia</td>\n",
              "      <td>Logan Mcv</td>\n",
              "      <td>2015</td>\n",
              "      <td>Universal</td>\n",
              "      <td>89000.0</td>\n",
              "      <td>1500.0</td>\n",
              "      <td>Diesel</td>\n",
              "      <td>Manual</td>\n",
              "      <td>7000.0</td>\n",
              "      <td>7</td>\n",
              "      <td>12714.285714</td>\n",
              "      <td>average_mileage</td>\n",
              "      <td>1348</td>\n",
              "      <td>5327.074926</td>\n",
              "    </tr>\n",
              "    <tr>\n",
              "      <th>32472</th>\n",
              "      <td>Mazda</td>\n",
              "      <td>6</td>\n",
              "      <td>2006</td>\n",
              "      <td>Combi</td>\n",
              "      <td>370000.0</td>\n",
              "      <td>2000.0</td>\n",
              "      <td>Diesel</td>\n",
              "      <td>Manual</td>\n",
              "      <td>4000.0</td>\n",
              "      <td>16</td>\n",
              "      <td>23125.000000</td>\n",
              "      <td>high_mileage</td>\n",
              "      <td>444</td>\n",
              "      <td>5145.808559</td>\n",
              "    </tr>\n",
              "    <tr>\n",
              "      <th>32473</th>\n",
              "      <td>Renault</td>\n",
              "      <td>Grand Scenic</td>\n",
              "      <td>2006</td>\n",
              "      <td>Minivan</td>\n",
              "      <td>300000.0</td>\n",
              "      <td>1500.0</td>\n",
              "      <td>Diesel</td>\n",
              "      <td>Manual</td>\n",
              "      <td>4000.0</td>\n",
              "      <td>16</td>\n",
              "      <td>18750.000000</td>\n",
              "      <td>high_mileage</td>\n",
              "      <td>2371</td>\n",
              "      <td>6624.550822</td>\n",
              "    </tr>\n",
              "  </tbody>\n",
              "</table>\n",
              "<p>32474 rows × 14 columns</p>\n",
              "</div>\n",
              "      <button class=\"colab-df-convert\" onclick=\"convertToInteractive('df-e4a156c0-cb05-44ed-b5ac-dc96a1eecb68')\"\n",
              "              title=\"Convert this dataframe to an interactive table.\"\n",
              "              style=\"display:none;\">\n",
              "        \n",
              "  <svg xmlns=\"http://www.w3.org/2000/svg\" height=\"24px\"viewBox=\"0 0 24 24\"\n",
              "       width=\"24px\">\n",
              "    <path d=\"M0 0h24v24H0V0z\" fill=\"none\"/>\n",
              "    <path d=\"M18.56 5.44l.94 2.06.94-2.06 2.06-.94-2.06-.94-.94-2.06-.94 2.06-2.06.94zm-11 1L8.5 8.5l.94-2.06 2.06-.94-2.06-.94L8.5 2.5l-.94 2.06-2.06.94zm10 10l.94 2.06.94-2.06 2.06-.94-2.06-.94-.94-2.06-.94 2.06-2.06.94z\"/><path d=\"M17.41 7.96l-1.37-1.37c-.4-.4-.92-.59-1.43-.59-.52 0-1.04.2-1.43.59L10.3 9.45l-7.72 7.72c-.78.78-.78 2.05 0 2.83L4 21.41c.39.39.9.59 1.41.59.51 0 1.02-.2 1.41-.59l7.78-7.78 2.81-2.81c.8-.78.8-2.07 0-2.86zM5.41 20L4 18.59l7.72-7.72 1.47 1.35L5.41 20z\"/>\n",
              "  </svg>\n",
              "      </button>\n",
              "      \n",
              "  <style>\n",
              "    .colab-df-container {\n",
              "      display:flex;\n",
              "      flex-wrap:wrap;\n",
              "      gap: 12px;\n",
              "    }\n",
              "\n",
              "    .colab-df-convert {\n",
              "      background-color: #E8F0FE;\n",
              "      border: none;\n",
              "      border-radius: 50%;\n",
              "      cursor: pointer;\n",
              "      display: none;\n",
              "      fill: #1967D2;\n",
              "      height: 32px;\n",
              "      padding: 0 0 0 0;\n",
              "      width: 32px;\n",
              "    }\n",
              "\n",
              "    .colab-df-convert:hover {\n",
              "      background-color: #E2EBFA;\n",
              "      box-shadow: 0px 1px 2px rgba(60, 64, 67, 0.3), 0px 1px 3px 1px rgba(60, 64, 67, 0.15);\n",
              "      fill: #174EA6;\n",
              "    }\n",
              "\n",
              "    [theme=dark] .colab-df-convert {\n",
              "      background-color: #3B4455;\n",
              "      fill: #D2E3FC;\n",
              "    }\n",
              "\n",
              "    [theme=dark] .colab-df-convert:hover {\n",
              "      background-color: #434B5C;\n",
              "      box-shadow: 0px 1px 3px 1px rgba(0, 0, 0, 0.15);\n",
              "      filter: drop-shadow(0px 1px 2px rgba(0, 0, 0, 0.3));\n",
              "      fill: #FFFFFF;\n",
              "    }\n",
              "  </style>\n",
              "\n",
              "      <script>\n",
              "        const buttonEl =\n",
              "          document.querySelector('#df-e4a156c0-cb05-44ed-b5ac-dc96a1eecb68 button.colab-df-convert');\n",
              "        buttonEl.style.display =\n",
              "          google.colab.kernel.accessAllowed ? 'block' : 'none';\n",
              "\n",
              "        async function convertToInteractive(key) {\n",
              "          const element = document.querySelector('#df-e4a156c0-cb05-44ed-b5ac-dc96a1eecb68');\n",
              "          const dataTable =\n",
              "            await google.colab.kernel.invokeFunction('convertToInteractive',\n",
              "                                                     [key], {});\n",
              "          if (!dataTable) return;\n",
              "\n",
              "          const docLinkHtml = 'Like what you see? Visit the ' +\n",
              "            '<a target=\"_blank\" href=https://colab.research.google.com/notebooks/data_table.ipynb>data table notebook</a>'\n",
              "            + ' to learn more about interactive tables.';\n",
              "          element.innerHTML = '';\n",
              "          dataTable['output_type'] = 'display_data';\n",
              "          await google.colab.output.renderOutput(dataTable, element);\n",
              "          const docLink = document.createElement('div');\n",
              "          docLink.innerHTML = docLinkHtml;\n",
              "          element.appendChild(docLink);\n",
              "        }\n",
              "      </script>\n",
              "    </div>\n",
              "  </div>\n",
              "  "
            ]
          },
          "metadata": {},
          "execution_count": 62
        }
      ]
    },
    {
      "cell_type": "markdown",
      "source": [
        "## 1.2. Делаем предобработку с помощью Pipeline и One-Hot Encoding."
      ],
      "metadata": {
        "id": "VPYX-ljuZGJj"
      }
    },
    {
      "cell_type": "code",
      "source": [
        "X = df_num.drop('Price(euro)',axis=1)\n",
        "y = df_num['Price(euro)']\n",
        "\n",
        "X_train, X_test, y_train, y_test = train_test_split(X, y, test_size=0.3, random_state=42)"
      ],
      "metadata": {
        "id": "VSLsPqlrOlaa"
      },
      "execution_count": null,
      "outputs": []
    },
    {
      "cell_type": "code",
      "source": [
        "ohe = OneHotEncoder()\n",
        "ohe.fit(X[['Make', 'Model', 'Style', 'Fuel_type', 'Transmission', 'km_year_q']])"
      ],
      "metadata": {
        "colab": {
          "base_uri": "https://localhost:8080/"
        },
        "id": "ZhOjFJSBW5Km",
        "outputId": "9f698e00-3ff3-4364-a63a-008d31ff073c"
      },
      "execution_count": null,
      "outputs": [
        {
          "output_type": "execute_result",
          "data": {
            "text/plain": [
              "OneHotEncoder()"
            ]
          },
          "metadata": {},
          "execution_count": 65
        }
      ]
    },
    {
      "cell_type": "code",
      "source": [
        "ct = make_column_transformer(\n",
        "    (OneHotEncoder(categories = ohe.categories_),['Make', 'Model', 'Style', 'Fuel_type', 'Transmission', 'km_year_q']),\n",
        "    remainder = 'passthrough'\n",
        ")"
      ],
      "metadata": {
        "id": "1Ku3a2EsWuAc"
      },
      "execution_count": null,
      "outputs": []
    },
    {
      "cell_type": "markdown",
      "source": [
        "## 1.3. Обучаем простую модель"
      ],
      "metadata": {
        "id": "Zveqok_3ZgY_"
      }
    },
    {
      "cell_type": "code",
      "source": [
        "pipe = make_pipeline(ct, LinearRegression())"
      ],
      "metadata": {
        "id": "4QPS3GGfXTUx"
      },
      "execution_count": null,
      "outputs": []
    },
    {
      "cell_type": "code",
      "source": [
        "pipe.fit(X_train, y_train)"
      ],
      "metadata": {
        "colab": {
          "base_uri": "https://localhost:8080/"
        },
        "id": "m5PkPXx8XfPb",
        "outputId": "222ec2f1-c331-44ca-8a17-a2300f973d16"
      },
      "execution_count": null,
      "outputs": [
        {
          "output_type": "execute_result",
          "data": {
            "text/plain": [
              "Pipeline(steps=[('columntransformer',\n",
              "                 ColumnTransformer(remainder='passthrough',\n",
              "                                   transformers=[('onehotencoder',\n",
              "                                                  OneHotEncoder(categories=[array(['Alfa Romeo', 'Audi', 'BMW', 'Chevrolet', 'Chrysler', 'Citroen',\n",
              "       'Dacia', 'Daewoo', 'Daihatsu', 'Dodge', 'Fiat', 'Ford', 'GAZ',\n",
              "       'Honda', 'Hyundai', 'Infiniti', 'Jaguar', 'Jeep', 'KIA',\n",
              "       'Land Rover', 'Lexus', 'Lincoln', 'Mazda', 'Mer...\n",
              "       'Microvan', 'Minivan', 'Pickup', 'Roadster', 'SUV', 'Sedan',\n",
              "       'Universal'], dtype=object),\n",
              "                                                                            array(['Diesel', 'Electric', 'Hybrid', 'Metan/Propan', 'Petrol',\n",
              "       'Plug-in Hybrid'], dtype=object),\n",
              "                                                                            array(['Automatic', 'Manual'], dtype=object),\n",
              "                                                                            array(['average_mileage', 'high_mileage', 'little_mileage'], dtype=object)]),\n",
              "                                                  ['Make', 'Model', 'Style',\n",
              "                                                   'Fuel_type', 'Transmission',\n",
              "                                                   'km_year_q'])])),\n",
              "                ('linearregression', LinearRegression())])"
            ]
          },
          "metadata": {},
          "execution_count": 70
        }
      ]
    },
    {
      "cell_type": "code",
      "source": [
        "y_pred = pipe.predict(X_test)"
      ],
      "metadata": {
        "id": "Izm4uVWRXkQV"
      },
      "execution_count": null,
      "outputs": []
    },
    {
      "cell_type": "code",
      "source": [
        "\n",
        "print(f'R2 Score : {r2_score(y_test, y_pred)*100:.2f}%')"
      ],
      "metadata": {
        "colab": {
          "base_uri": "https://localhost:8080/"
        },
        "id": "z-NpFOUCXzui",
        "outputId": "6296e247-fc94-492e-aa15-bbc3dd81de98"
      },
      "execution_count": null,
      "outputs": [
        {
          "output_type": "stream",
          "name": "stdout",
          "text": [
            "R2 Score : 67.65%\n"
          ]
        }
      ]
    },
    {
      "cell_type": "markdown",
      "source": [
        "# 2. ОПТИМИЗАЦИЯ ЛОГИСТИЧЕСКОЙ РЕГРЕССИИ"
      ],
      "metadata": {
        "id": "qVKNGTbNYtvo"
      }
    },
    {
      "cell_type": "code",
      "source": [
        "pipe = Pipeline([\n",
        "    ('preprocessors', preprocessors),\n",
        "    ('model', LogisticRegression(C=0.001, random_state=42))\n",
        "])"
      ],
      "metadata": {
        "id": "1AGGNGalxGg1"
      },
      "execution_count": null,
      "outputs": []
    },
    {
      "cell_type": "code",
      "source": [
        "pipe.fit(X_train, y_train)"
      ],
      "metadata": {
        "id": "aD1KU_lnzuO4"
      },
      "execution_count": null,
      "outputs": []
    },
    {
      "cell_type": "markdown",
      "source": [
        "Оценим Тренировочную и Валидационную модель"
      ],
      "metadata": {
        "id": "HFgaGcZoz03S"
      }
    },
    {
      "cell_type": "code",
      "source": [
        "print(f\"Train F1: {calculate_f1_score(pipe, X_train, y_train):.4f}\")\n",
        "\n",
        "print(f\"Val F1: {calculate_f1_score(pipe, X_test, y_test):.4f}\")"
      ],
      "metadata": {
        "id": "qYna-T2xz0R6"
      },
      "execution_count": null,
      "outputs": []
    }
  ]
}