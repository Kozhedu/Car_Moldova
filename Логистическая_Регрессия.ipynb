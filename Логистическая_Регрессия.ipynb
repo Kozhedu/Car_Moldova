{
  "nbformat": 4,
  "nbformat_minor": 0,
  "metadata": {
    "colab": {
      "provenance": [],
      "authorship_tag": "ABX9TyOWIk72LrNn+swheMq5MUf+",
      "include_colab_link": true
    },
    "kernelspec": {
      "name": "python3",
      "display_name": "Python 3"
    },
    "language_info": {
      "name": "python"
    }
  },
  "cells": [
    {
      "cell_type": "markdown",
      "metadata": {
        "id": "view-in-github",
        "colab_type": "text"
      },
      "source": [
        "<a href=\"https://colab.research.google.com/github/Kozhedu/Car_Moldova/blob/main/%D0%9B%D0%BE%D0%B3%D0%B8%D1%81%D1%82%D0%B8%D1%87%D0%B5%D1%81%D0%BA%D0%B0%D1%8F_%D0%A0%D0%B5%D0%B3%D1%80%D0%B5%D1%81%D1%81%D0%B8%D1%8F.ipynb\" target=\"_parent\"><img src=\"https://colab.research.google.com/assets/colab-badge.svg\" alt=\"Open In Colab\"/></a>"
      ]
    },
    {
      "cell_type": "code",
      "source": [
        "import numpy as np\n",
        "import pandas as pd\n",
        "\n",
        "from sklearn.datasets import make_moons, make_circles\n",
        "\n",
        "import matplotlib.pyplot as plt\n",
        "from matplotlib.colors import ListedColormap\n",
        "import seaborn as sns\n",
        "\n",
        "from sklearn.model_selection import train_test_split\n",
        "\n",
        "from sklearn.linear_model import LogisticRegression\n",
        "from sklearn.model_selection import GridSearchCV\n",
        "\n",
        "from sklearn.metrics import accuracy_score, precision_score, recall_score, f1_score\n",
        "from sklearn.metrics import confusion_matrix\n",
        "from sklearn.metrics import auc, roc_auc_score, roc_curve\n",
        "\n",
        "from sklearn.metrics import accuracy_score as acc\n",
        "from sklearn.metrics import f1_score as f1\n",
        "\n",
        "from sklearn.metrics import classification_report\n",
        "\n",
        "from sklearn.preprocessing import MinMaxScaler"
      ],
      "metadata": {
        "id": "4bo2oLnoTO-P"
      },
      "execution_count": null,
      "outputs": []
    },
    {
      "cell_type": "markdown",
      "source": [
        "Функциии для построения графиков и  таблиц"
      ],
      "metadata": {
        "id": "yIldV4sKSNtl"
      }
    },
    {
      "cell_type": "code",
      "source": [
        "def plot_data(ax,ds,name='',marker = 'o',colors =(\"#FF0000\", '#0000FF'),alpha=0.7, s = 150, facecolor=True):\n",
        "    X, y = ds\n",
        "\n",
        "    cm_bright = ListedColormap(colors)\n",
        "    ax.set_title(name, fontsize = 30)\n",
        "    if facecolor:\n",
        "        ax.scatter(X[:, 0], X[:, 1],\n",
        "                   marker = marker, c=y,\n",
        "                   cmap=cm_bright,s = s,\n",
        "                   alpha =alpha)\n",
        "    else:\n",
        "        ax.scatter(X[:, 0], X[:, 1],\n",
        "                   marker = marker, c=y,\n",
        "                   cmap=cm_bright,s = s,\n",
        "                   facecolor = 'None',\n",
        "                   alpha =alpha)\n",
        "\n",
        "    x_min, x_max = X[:, 0].min() - .5, X[:, 0].max() + .5\n",
        "    y_min, y_max = X[:, 1].min() - .5, X[:, 1].max() + .5\n",
        "    ax.grid(True)\n",
        "    ax.set_xlim(x_min, x_max)\n",
        "    ax.set_ylim(y_min, y_max)\n",
        "    ax.set_xticks(())\n",
        "    ax.set_yticks(())"
      ],
      "metadata": {
        "id": "5ccQWx-hWalW"
      },
      "execution_count": null,
      "outputs": []
    },
    {
      "cell_type": "code",
      "source": [
        "def val(y_test, y_pred):\n",
        "    a_s = accuracy_score(y_test, y_pred).round(2)\n",
        "    r_c = recall_score(y_test, y_pred).round(2)\n",
        "    p_c = precision_score(y_test, y_pred).round(2)\n",
        "    f1 = f1_score(y_test, y_pred).round(2)\n",
        "\n",
        "    all_models = pd.DataFrame({\n",
        "    \"Показатель\" : [\"accuracy_score\", \"recall_score\", \"precision_score\", \"f1_score\"],\n",
        "    \"Значение\" : [a_s, r_c, p_c, f1]\n",
        "})\n",
        "    return all_models"
      ],
      "metadata": {
        "id": "u0qtd_2qSE0S"
      },
      "execution_count": null,
      "outputs": []
    },
    {
      "cell_type": "code",
      "source": [
        "def model (y_test, y_pred):\n",
        "    sns.set_context(context='paper', font_scale=2, rc=None)\n",
        "    group_names = ['True Neg', 'False Pos', 'False Neg', 'True Pos']\n",
        "    group_counts = ['{0:0.0f}'.format(value) for value in confusion_matrix(y_test, y_pred).flatten()]\n",
        "    labels = [f'{v1}\\n{v2}' for v1, v2 in zip(group_names, group_counts)]\n",
        "    labels = np.asarray(labels).reshape(2, 2)\n",
        "    ax = sns.heatmap(confusion_matrix(y_test, y_pred), annot=labels, fmt='', cmap='Blues')\n",
        "    ax.set(title = 'Confusion matrix')\n",
        "    plt.show()\n",
        "\n",
        "    cm=confusion_matrix(y_test,y_pred)\n",
        "    TN=cm[0,0]\n",
        "    TP=cm[1,1]\n",
        "    FN=cm[1,0]\n",
        "    FP=cm[0,1]\n",
        "\n",
        "    print(\"Модель правильно классифицировала \", TN, \" показатель, который принадлежал к классу 0 (истинно отрицательные исходы)\")\n",
        "    print(\"Модель правильно классифицировала \", TP, \" показатель, который принадлежал к классу 1 (истинно положительные исходы)\")\n",
        "    print(\"Модель ошибочно классифицировала \", FP, \" показатель, из класса 0 как класс 1 (ложноположительные исходы)\")\n",
        "    print(\"Модель ошибочно классифицировала \", FN, \" показатель, из класса 1 как класс 0 (ложноотрицательные исходы)\")\n",
        "    print( )\n",
        "    print('Точность модели = TP+TN/(TP+TN+FP+FN) = ',round((TP+TN)/float(TP+TN+FP+FN),4))\n",
        "    print('Чувствительность или доля истинно положительных результатов = TP/(TP+FN) = ',round(TP/float(TP+FN),4))\n",
        "    print('Доля истинно отрицательных результатов = TN/(TN+FP) = ',round(TN/float(TN+FP),4))\n",
        "    print('Положительное прогностическое значение = TP/(TP+FP) = ',round(TP/float(TP+FP),4))\n",
        "    print('Отрицательное прогностическое значение = TN/(TN+FN) = ',round(TN/float(TN+FN),4))"
      ],
      "metadata": {
        "id": "q15yeGy8SGNH"
      },
      "execution_count": null,
      "outputs": []
    },
    {
      "cell_type": "code",
      "source": [
        "def roc (y_test, y_pred, dens=True):\n",
        "    probs = y_pred\n",
        "\n",
        "    fpr, tpr, threshold = roc_curve(y_test, probs)\n",
        "    roc_auc = roc_auc_score(y_test, probs)\n",
        "\n",
        "    plt.figure()\n",
        "    fig, ax = plt.subplots(figsize=(10,5))\n",
        "    plt.plot([0, 1], label='Случайное гадание', linestyle='--')\n",
        "    plt.plot([0,0,1], [0,1,1], lw=2, linestyle=':', color = \"black\", label = 'Идеальное качество')\n",
        "    plt.plot(fpr, tpr, label = 'Сглаженные значения ROC-AUC', color='deeppink')\n",
        "    ax.set_title('Logistic Regression ROC AUC = %0.3f'%roc_auc)\n",
        "    plt.ylabel('True Positive Rate')\n",
        "    plt.xlabel('False Positive Rate')\n",
        "    plt.legend(loc='lower right')\n",
        "    plt.show()\n"
      ],
      "metadata": {
        "id": "bm6EyOdHSVr5"
      },
      "execution_count": null,
      "outputs": []
    },
    {
      "cell_type": "markdown",
      "source": [
        "# 1. Синтетические данные"
      ],
      "metadata": {
        "id": "jgBkiw14C2pX"
      }
    },
    {
      "cell_type": "markdown",
      "source": [
        "## 1.1. Генерация данных - Инь-Ян"
      ],
      "metadata": {
        "id": "_LaRGOCmY_lz"
      }
    },
    {
      "cell_type": "code",
      "source": [
        "X, y = make_moons(n_samples=400, noise=0.20, random_state=42)"
      ],
      "metadata": {
        "id": "FrksASFxUD3S"
      },
      "execution_count": null,
      "outputs": []
    },
    {
      "cell_type": "code",
      "source": [
        "fig = plt.figure(figsize= (10,8))\n",
        "ax = plt.subplot(1, 1, 1)\n",
        "plot_data(ax,(X,y), 'Инь-Ян (Moons)')"
      ],
      "metadata": {
        "colab": {
          "base_uri": "https://localhost:8080/",
          "height": 500
        },
        "id": "iim2eBr4UfLZ",
        "outputId": "deb8fa3d-071b-4bd4-d465-8d04fbec8d6e"
      },
      "execution_count": null,
      "outputs": [
        {
          "output_type": "display_data",
          "data": {
            "text/plain": [
              "<Figure size 720x576 with 1 Axes>"
            ],
            "image/png": "[encoded data removed]"
          },
          "metadata": {}
        }
      ]
    },
    {
      "cell_type": "markdown",
      "source": [
        "### 1.1.1. Модель № 1"
      ],
      "metadata": {
        "id": "IcFCuQjzDB3-"
      }
    },
    {
      "cell_type": "markdown",
      "source": [
        "Создаем полиномы"
      ],
      "metadata": {
        "id": "L1-VdlKgIQpQ"
      }
    },
    {
      "cell_type": "code",
      "source": [
        "def to_polynom(X, order = 2):\n",
        "    order_range = range(order, order+1,1)\n",
        "    out = np.copy(X) \n",
        "    for i in order_range:\n",
        "        out = np.hstack([out, np.power(X,i)])\n",
        "    return out"
      ],
      "metadata": {
        "id": "qt1a7yMtIPUF"
      },
      "execution_count": null,
      "outputs": []
    },
    {
      "cell_type": "code",
      "source": [
        "X = to_polynom(X, order = 2)"
      ],
      "metadata": {
        "id": "bo5T4A3VISs-"
      },
      "execution_count": null,
      "outputs": []
    },
    {
      "cell_type": "code",
      "source": [
        "X_train, X_test, y_train, y_test = train_test_split(X, y, test_size=0.3, random_state=42)"
      ],
      "metadata": {
        "id": "RE45sFaLZ9mX"
      },
      "execution_count": null,
      "outputs": []
    },
    {
      "cell_type": "code",
      "source": [
        "LogReg = LogisticRegression(fit_intercept=True, penalty='l2', solver='saga', C=1, max_iter=100000)"
      ],
      "metadata": {
        "id": "be44WyKpYuqZ"
      },
      "execution_count": null,
      "outputs": []
    },
    {
      "cell_type": "code",
      "source": [
        "LogReg.fit(X_train, y_train)\n",
        "y_pred = LogReg.predict(X_test)"
      ],
      "metadata": {
        "id": "a8G1vnE3jSWG"
      },
      "execution_count": null,
      "outputs": []
    },
    {
      "cell_type": "code",
      "source": [
        "print('Оценка обучающего набора: {:.4f}'.format(LogReg.score(X_train, y_train)))\n",
        "print('Оценка тестового набора: {:.4f}'.format(LogReg.score(X_test, y_test)))\n",
        "\n",
        "val(y_test, y_pred)"
      ],
      "metadata": {
        "colab": {
          "base_uri": "https://localhost:8080/",
          "height": 210
        },
        "id": "SOzJ8hlWSuMq",
        "outputId": "cb325a27-3483-4796-92c9-577600812887"
      },
      "execution_count": null,
      "outputs": [
        {
          "output_type": "stream",
          "name": "stdout",
          "text": [
            "Оценка обучающего набора: 0.8429\n",
            "Оценка тестового набора: 0.8250\n"
          ]
        },
        {
          "output_type": "execute_result",
          "data": {
            "text/plain": [
              "        Показатель  Значение\n",
              "0   accuracy_score      0.82\n",
              "1     recall_score      0.80\n",
              "2  precision_score      0.84\n",
              "3         f1_score      0.82"
            ],
            "text/html": [
              "\n",
              "  <div id=\"df-922bcff1-eb4b-4e76-b429-9f10d6147c45\">\n",
              "    <div class=\"colab-df-container\">\n",
              "      <div>\n",
              "<style scoped>\n",
              "    .dataframe tbody tr th:only-of-type {\n",
              "        vertical-align: middle;\n",
              "    }\n",
              "\n",
              "    .dataframe tbody tr th {\n",
              "        vertical-align: top;\n",
              "    }\n",
              "\n",
              "    .dataframe thead th {\n",
              "        text-align: right;\n",
              "    }\n",
              "</style>\n",
              "<table border=\"1\" class=\"dataframe\">\n",
              "  <thead>\n",
              "    <tr style=\"text-align: right;\">\n",
              "      <th></th>\n",
              "      <th>Показатель</th>\n",
              "      <th>Значение</th>\n",
              "    </tr>\n",
              "  </thead>\n",
              "  <tbody>\n",
              "    <tr>\n",
              "      <th>0</th>\n",
              "      <td>accuracy_score</td>\n",
              "      <td>0.82</td>\n",
              "    </tr>\n",
              "    <tr>\n",
              "      <th>1</th>\n",
              "      <td>recall_score</td>\n",
              "      <td>0.80</td>\n",
              "    </tr>\n",
              "    <tr>\n",
              "      <th>2</th>\n",
              "      <td>precision_score</td>\n",
              "      <td>0.84</td>\n",
              "    </tr>\n",
              "    <tr>\n",
              "      <th>3</th>\n",
              "      <td>f1_score</td>\n",
              "      <td>0.82</td>\n",
              "    </tr>\n",
              "  </tbody>\n",
              "</table>\n",
              "</div>\n",
              "      <button class=\"colab-df-convert\" onclick=\"convertToInteractive('df-922bcff1-eb4b-4e76-b429-9f10d6147c45')\"\n",
              "              title=\"Convert this dataframe to an interactive table.\"\n",
              "              style=\"display:none;\">\n",
              "        \n",
              "  <svg xmlns=\"http://www.w3.org/2000/svg\" height=\"24px\"viewBox=\"0 0 24 24\"\n",
              "       width=\"24px\">\n",
              "    <path d=\"M0 0h24v24H0V0z\" fill=\"none\"/>\n",
              "    <path d=\"M18.56 5.44l.94 2.06.94-2.06 2.06-.94-2.06-.94-.94-2.06-.94 2.06-2.06.94zm-11 1L8.5 8.5l.94-2.06 2.06-.94-2.06-.94L8.5 2.5l-.94 2.06-2.06.94zm10 10l.94 2.06.94-2.06 2.06-.94-2.06-.94-.94-2.06-.94 2.06-2.06.94z\"/><path d=\"M17.41 7.96l-1.37-1.37c-.4-.4-.92-.59-1.43-.59-.52 0-1.04.2-1.43.59L10.3 9.45l-7.72 7.72c-.78.78-.78 2.05 0 2.83L4 21.41c.39.39.9.59 1.41.59.51 0 1.02-.2 1.41-.59l7.78-7.78 2.81-2.81c.8-.78.8-2.07 0-2.86zM5.41 20L4 18.59l7.72-7.72 1.47 1.35L5.41 20z\"/>\n",
              "  </svg>\n",
              "      </button>\n",
              "      \n",
              "  <style>\n",
              "    .colab-df-container {\n",
              "      display:flex;\n",
              "      flex-wrap:wrap;\n",
              "      gap: 12px;\n",
              "    }\n",
              "\n",
              "    .colab-df-convert {\n",
              "      background-color: #E8F0FE;\n",
              "      border: none;\n",
              "      border-radius: 50%;\n",
              "      cursor: pointer;\n",
              "      display: none;\n",
              "      fill: #1967D2;\n",
              "      height: 32px;\n",
              "      padding: 0 0 0 0;\n",
              "      width: 32px;\n",
              "    }\n",
              "\n",
              "    .colab-df-convert:hover {\n",
              "      background-color: #E2EBFA;\n",
              "      box-shadow: 0px 1px 2px rgba(60, 64, 67, 0.3), 0px 1px 3px 1px rgba(60, 64, 67, 0.15);\n",
              "      fill: #174EA6;\n",
              "    }\n",
              "\n",
              "    [theme=dark] .colab-df-convert {\n",
              "      background-color: #3B4455;\n",
              "      fill: #D2E3FC;\n",
              "    }\n",
              "\n",
              "    [theme=dark] .colab-df-convert:hover {\n",
              "      background-color: #434B5C;\n",
              "      box-shadow: 0px 1px 3px 1px rgba(0, 0, 0, 0.15);\n",
              "      filter: drop-shadow(0px 1px 2px rgba(0, 0, 0, 0.3));\n",
              "      fill: #FFFFFF;\n",
              "    }\n",
              "  </style>\n",
              "\n",
              "      <script>\n",
              "        const buttonEl =\n",
              "          document.querySelector('#df-922bcff1-eb4b-4e76-b429-9f10d6147c45 button.colab-df-convert');\n",
              "        buttonEl.style.display =\n",
              "          google.colab.kernel.accessAllowed ? 'block' : 'none';\n",
              "\n",
              "        async function convertToInteractive(key) {\n",
              "          const element = document.querySelector('#df-922bcff1-eb4b-4e76-b429-9f10d6147c45');\n",
              "          const dataTable =\n",
              "            await google.colab.kernel.invokeFunction('convertToInteractive',\n",
              "                                                     [key], {});\n",
              "          if (!dataTable) return;\n",
              "\n",
              "          const docLinkHtml = 'Like what you see? Visit the ' +\n",
              "            '<a target=\"_blank\" href=https://colab.research.google.com/notebooks/data_table.ipynb>data table notebook</a>'\n",
              "            + ' to learn more about interactive tables.';\n",
              "          element.innerHTML = '';\n",
              "          dataTable['output_type'] = 'display_data';\n",
              "          await google.colab.output.renderOutput(dataTable, element);\n",
              "          const docLink = document.createElement('div');\n",
              "          docLink.innerHTML = docLinkHtml;\n",
              "          element.appendChild(docLink);\n",
              "        }\n",
              "      </script>\n",
              "    </div>\n",
              "  </div>\n",
              "  "
            ]
          },
          "metadata": {},
          "execution_count": 313
        }
      ]
    },
    {
      "cell_type": "markdown",
      "source": [
        "Оценка точности обучающего набора и точность тестового набора вполне сопоставимы -  о переобучении речи не идет. \n",
        "\n",
        "В целом результат работы модели очень неплох. Посмотрим на граффик матрицы несоответсвий."
      ],
      "metadata": {
        "id": "Z8sO6JjTXm6G"
      }
    },
    {
      "cell_type": "code",
      "source": [
        "model(y_test, y_pred)"
      ],
      "metadata": {
        "colab": {
          "base_uri": "https://localhost:8080/",
          "height": 470
        },
        "id": "NREHq8AZTAYa",
        "outputId": "b95bb678-9a0b-4b03-a997-2b4d5ffe7d34"
      },
      "execution_count": null,
      "outputs": [
        {
          "output_type": "display_data",
          "data": {
            "text/plain": [
              "<Figure size 432x288 with 2 Axes>"
            ],
            "image/png": "[encoded data removed]"
          },
          "metadata": {
            "needs_background": "light"
          }
        },
        {
          "output_type": "stream",
          "name": "stdout",
          "text": [
            "Модель правильно классифицировала  51  показатель, который принадлежал к классу 0 (истинно отрицательные исходы)\n",
            "Модель правильно классифицировала  48  показатель, который принадлежал к классу 1 (истинно положительные исходы)\n",
            "Модель ошибочно классифицировала  9  показатель, из класса 0 как класс 1 (ложноположительные исходы)\n",
            "Модель ошибочно классифицировала  12  показатель, из класса 1 как класс 0 (ложноотрицательные исходы)\n",
            "\n",
            "Точность модели = TP+TN/(TP+TN+FP+FN) =  0.825\n",
            "Чувствительность или доля истинно положительных результатов = TP/(TP+FN) =  0.8\n",
            "Доля истинно отрицательных результатов = TN/(TN+FP) =  0.85\n",
            "Положительное прогностическое значение = TP/(TP+FP) =  0.8421\n",
            "Отрицательное прогностическое значение = TN/(TN+FN) =  0.8095\n"
          ]
        }
      ]
    },
    {
      "cell_type": "markdown",
      "source": [
        "Модель корректно классифицировала 59 данных - которые относятся к классу 0 (истинно отрицательные) и 56 данных - которые принадлежат к классу 1 (истинно положительные).\n",
        "\n",
        "При этом модель ошибочно классифицировала 4 образцов из класса 0 как класс 1 (ложноположительные исходы) и предсказала, что 1 образцов из класса 1 как класс 0 (ложноотрицательные исходы)."
      ],
      "metadata": {
        "id": "x6uTBh0QdfZH"
      }
    },
    {
      "cell_type": "code",
      "source": [
        "roc(y_test, y_pred)"
      ],
      "metadata": {
        "colab": {
          "base_uri": "https://localhost:8080/",
          "height": 390
        },
        "id": "JGSlkckrTIvZ",
        "outputId": "56082c68-6145-4a9e-e863-1ea81d920b3d"
      },
      "execution_count": null,
      "outputs": [
        {
          "output_type": "display_data",
          "data": {
            "text/plain": [
              "<Figure size 432x288 with 0 Axes>"
            ]
          },
          "metadata": {}
        },
        {
          "output_type": "display_data",
          "data": {
            "text/plain": [
              "<Figure size 720x360 with 1 Axes>"
            ],
            "image/png": "[encoded data removed]"
          },
          "metadata": {
            "needs_background": "light"
          }
        }
      ]
    },
    {
      "cell_type": "markdown",
      "source": [
        "Кривая ROC, так-же указывает, что модель работает хоть и не идельно, но все-же лучше, чем случайное гадание."
      ],
      "metadata": {
        "id": "jpkhBWCSliXF"
      }
    },
    {
      "cell_type": "markdown",
      "source": [
        "### 1.1.2. Модель № 2"
      ],
      "metadata": {
        "id": "A4VKSeySFvK5"
      }
    },
    {
      "cell_type": "code",
      "source": [
        "X2 = to_polynom(X, order = 4)"
      ],
      "metadata": {
        "id": "jn2x9PVdIcMA"
      },
      "execution_count": null,
      "outputs": []
    },
    {
      "cell_type": "code",
      "source": [
        "X_train2, X_test2, y_train2, y_test2 = train_test_split(X2, y, test_size=0.3, random_state=42)"
      ],
      "metadata": {
        "id": "FKlhm2DSGf3t"
      },
      "execution_count": null,
      "outputs": []
    },
    {
      "cell_type": "code",
      "source": [
        "LogReg2 = LogisticRegression(fit_intercept=True, penalty='l1', solver='saga', C=10, max_iter=100000)"
      ],
      "metadata": {
        "id": "GT3TYn-ivrtK"
      },
      "execution_count": null,
      "outputs": []
    },
    {
      "cell_type": "code",
      "source": [
        "LogReg2.fit(X_train2, y_train2)\n",
        "y_pred2 = LogReg2.predict(X_test2)"
      ],
      "metadata": {
        "id": "qa5g59mhGIYE"
      },
      "execution_count": null,
      "outputs": []
    },
    {
      "cell_type": "code",
      "source": [
        "print('Оценка обучающего набора: {:.4f}'.format(LogReg2.score(X_train2, y_train2)))\n",
        "print('Оценка тестового набора: {:.4f}'.format(LogReg2.score(X_test2, y_test2)))\n",
        "\n",
        "val(y_test2, y_pred2)"
      ],
      "metadata": {
        "colab": {
          "base_uri": "https://localhost:8080/",
          "height": 210
        },
        "id": "F25WfbV3GN2H",
        "outputId": "a72cd4a7-ea07-4ac3-a093-51e25018e140"
      },
      "execution_count": null,
      "outputs": [
        {
          "output_type": "stream",
          "name": "stdout",
          "text": [
            "Оценка обучающего набора: 0.8643\n",
            "Оценка тестового набора: 0.8667\n"
          ]
        },
        {
          "output_type": "execute_result",
          "data": {
            "text/plain": [
              "        Показатель  Значение\n",
              "0   accuracy_score      0.87\n",
              "1     recall_score      0.75\n",
              "2  precision_score      0.98\n",
              "3         f1_score      0.85"
            ],
            "text/html": [
              "\n",
              "  <div id=\"df-369e5253-1a08-4c45-b938-d67595a8dd1d\">\n",
              "    <div class=\"colab-df-container\">\n",
              "      <div>\n",
              "<style scoped>\n",
              "    .dataframe tbody tr th:only-of-type {\n",
              "        vertical-align: middle;\n",
              "    }\n",
              "\n",
              "    .dataframe tbody tr th {\n",
              "        vertical-align: top;\n",
              "    }\n",
              "\n",
              "    .dataframe thead th {\n",
              "        text-align: right;\n",
              "    }\n",
              "</style>\n",
              "<table border=\"1\" class=\"dataframe\">\n",
              "  <thead>\n",
              "    <tr style=\"text-align: right;\">\n",
              "      <th></th>\n",
              "      <th>Показатель</th>\n",
              "      <th>Значение</th>\n",
              "    </tr>\n",
              "  </thead>\n",
              "  <tbody>\n",
              "    <tr>\n",
              "      <th>0</th>\n",
              "      <td>accuracy_score</td>\n",
              "      <td>0.87</td>\n",
              "    </tr>\n",
              "    <tr>\n",
              "      <th>1</th>\n",
              "      <td>recall_score</td>\n",
              "      <td>0.75</td>\n",
              "    </tr>\n",
              "    <tr>\n",
              "      <th>2</th>\n",
              "      <td>precision_score</td>\n",
              "      <td>0.98</td>\n",
              "    </tr>\n",
              "    <tr>\n",
              "      <th>3</th>\n",
              "      <td>f1_score</td>\n",
              "      <td>0.85</td>\n",
              "    </tr>\n",
              "  </tbody>\n",
              "</table>\n",
              "</div>\n",
              "      <button class=\"colab-df-convert\" onclick=\"convertToInteractive('df-369e5253-1a08-4c45-b938-d67595a8dd1d')\"\n",
              "              title=\"Convert this dataframe to an interactive table.\"\n",
              "              style=\"display:none;\">\n",
              "        \n",
              "  <svg xmlns=\"http://www.w3.org/2000/svg\" height=\"24px\"viewBox=\"0 0 24 24\"\n",
              "       width=\"24px\">\n",
              "    <path d=\"M0 0h24v24H0V0z\" fill=\"none\"/>\n",
              "    <path d=\"M18.56 5.44l.94 2.06.94-2.06 2.06-.94-2.06-.94-.94-2.06-.94 2.06-2.06.94zm-11 1L8.5 8.5l.94-2.06 2.06-.94-2.06-.94L8.5 2.5l-.94 2.06-2.06.94zm10 10l.94 2.06.94-2.06 2.06-.94-2.06-.94-.94-2.06-.94 2.06-2.06.94z\"/><path d=\"M17.41 7.96l-1.37-1.37c-.4-.4-.92-.59-1.43-.59-.52 0-1.04.2-1.43.59L10.3 9.45l-7.72 7.72c-.78.78-.78 2.05 0 2.83L4 21.41c.39.39.9.59 1.41.59.51 0 1.02-.2 1.41-.59l7.78-7.78 2.81-2.81c.8-.78.8-2.07 0-2.86zM5.41 20L4 18.59l7.72-7.72 1.47 1.35L5.41 20z\"/>\n",
              "  </svg>\n",
              "      </button>\n",
              "      \n",
              "  <style>\n",
              "    .colab-df-container {\n",
              "      display:flex;\n",
              "      flex-wrap:wrap;\n",
              "      gap: 12px;\n",
              "    }\n",
              "\n",
              "    .colab-df-convert {\n",
              "      background-color: #E8F0FE;\n",
              "      border: none;\n",
              "      border-radius: 50%;\n",
              "      cursor: pointer;\n",
              "      display: none;\n",
              "      fill: #1967D2;\n",
              "      height: 32px;\n",
              "      padding: 0 0 0 0;\n",
              "      width: 32px;\n",
              "    }\n",
              "\n",
              "    .colab-df-convert:hover {\n",
              "      background-color: #E2EBFA;\n",
              "      box-shadow: 0px 1px 2px rgba(60, 64, 67, 0.3), 0px 1px 3px 1px rgba(60, 64, 67, 0.15);\n",
              "      fill: #174EA6;\n",
              "    }\n",
              "\n",
              "    [theme=dark] .colab-df-convert {\n",
              "      background-color: #3B4455;\n",
              "      fill: #D2E3FC;\n",
              "    }\n",
              "\n",
              "    [theme=dark] .colab-df-convert:hover {\n",
              "      background-color: #434B5C;\n",
              "      box-shadow: 0px 1px 3px 1px rgba(0, 0, 0, 0.15);\n",
              "      filter: drop-shadow(0px 1px 2px rgba(0, 0, 0, 0.3));\n",
              "      fill: #FFFFFF;\n",
              "    }\n",
              "  </style>\n",
              "\n",
              "      <script>\n",
              "        const buttonEl =\n",
              "          document.querySelector('#df-369e5253-1a08-4c45-b938-d67595a8dd1d button.colab-df-convert');\n",
              "        buttonEl.style.display =\n",
              "          google.colab.kernel.accessAllowed ? 'block' : 'none';\n",
              "\n",
              "        async function convertToInteractive(key) {\n",
              "          const element = document.querySelector('#df-369e5253-1a08-4c45-b938-d67595a8dd1d');\n",
              "          const dataTable =\n",
              "            await google.colab.kernel.invokeFunction('convertToInteractive',\n",
              "                                                     [key], {});\n",
              "          if (!dataTable) return;\n",
              "\n",
              "          const docLinkHtml = 'Like what you see? Visit the ' +\n",
              "            '<a target=\"_blank\" href=https://colab.research.google.com/notebooks/data_table.ipynb>data table notebook</a>'\n",
              "            + ' to learn more about interactive tables.';\n",
              "          element.innerHTML = '';\n",
              "          dataTable['output_type'] = 'display_data';\n",
              "          await google.colab.output.renderOutput(dataTable, element);\n",
              "          const docLink = document.createElement('div');\n",
              "          docLink.innerHTML = docLinkHtml;\n",
              "          element.appendChild(docLink);\n",
              "        }\n",
              "      </script>\n",
              "    </div>\n",
              "  </div>\n",
              "  "
            ]
          },
          "metadata": {},
          "execution_count": 320
        }
      ]
    },
    {
      "cell_type": "code",
      "source": [
        "model(y_test2, y_pred2)"
      ],
      "metadata": {
        "colab": {
          "base_uri": "https://localhost:8080/",
          "height": 470
        },
        "id": "FK3PN-reGT5j",
        "outputId": "398cc5d3-909d-4ffe-bf5c-e7c95e283a7d"
      },
      "execution_count": null,
      "outputs": [
        {
          "output_type": "display_data",
          "data": {
            "text/plain": [
              "<Figure size 432x288 with 2 Axes>"
            ],
            "image/png": "[encoded data removed]"
          },
          "metadata": {
            "needs_background": "light"
          }
        },
        {
          "output_type": "stream",
          "name": "stdout",
          "text": [
            "Модель правильно классифицировала  59  показатель, который принадлежал к классу 0 (истинно отрицательные исходы)\n",
            "Модель правильно классифицировала  45  показатель, который принадлежал к классу 1 (истинно положительные исходы)\n",
            "Модель ошибочно классифицировала  1  показатель, из класса 0 как класс 1 (ложноположительные исходы)\n",
            "Модель ошибочно классифицировала  15  показатель, из класса 1 как класс 0 (ложноотрицательные исходы)\n",
            "\n",
            "Точность модели = TP+TN/(TP+TN+FP+FN) =  0.8667\n",
            "Чувствительность или доля истинно положительных результатов = TP/(TP+FN) =  0.75\n",
            "Доля истинно отрицательных результатов = TN/(TN+FP) =  0.9833\n",
            "Положительное прогностическое значение = TP/(TP+FP) =  0.9783\n",
            "Отрицательное прогностическое значение = TN/(TN+FN) =  0.7973\n"
          ]
        }
      ]
    },
    {
      "cell_type": "code",
      "source": [
        "roc(y_test2, y_pred2)"
      ],
      "metadata": {
        "colab": {
          "base_uri": "https://localhost:8080/",
          "height": 390
        },
        "id": "p0pn4wxbG7hL",
        "outputId": "371dec60-6b1b-434b-a766-5a6760d95597"
      },
      "execution_count": null,
      "outputs": [
        {
          "output_type": "display_data",
          "data": {
            "text/plain": [
              "<Figure size 432x288 with 0 Axes>"
            ]
          },
          "metadata": {}
        },
        {
          "output_type": "display_data",
          "data": {
            "text/plain": [
              "<Figure size 720x360 with 1 Axes>"
            ],
            "image/png": "[encoded data removed]"
          },
          "metadata": {
            "needs_background": "light"
          }
        }
      ]
    },
    {
      "cell_type": "markdown",
      "source": [
        "После внесения изменений модель стала работать немного лучше"
      ],
      "metadata": {
        "id": "IUgjHQr4KcQu"
      }
    },
    {
      "cell_type": "markdown",
      "source": [
        "## 1.2. Генерация данных - Круги"
      ],
      "metadata": {
        "id": "iRHg9TqdHPex"
      }
    },
    {
      "cell_type": "code",
      "source": [
        "X_k, y_k = make_circles(n_samples=400, noise=0.09, random_state=42)"
      ],
      "metadata": {
        "id": "M92LxcV9HaS-"
      },
      "execution_count": null,
      "outputs": []
    },
    {
      "cell_type": "code",
      "source": [
        "fig = plt.figure(figsize= (10,8))\n",
        "ax = plt.subplot(1, 1, 1)\n",
        "plot_data(ax,(X_k, y_k), 'Круги')"
      ],
      "metadata": {
        "colab": {
          "base_uri": "https://localhost:8080/",
          "height": 500
        },
        "id": "8amJ5TeBI_y9",
        "outputId": "ecb0019b-f97d-4046-9219-7afd9b67575d"
      },
      "execution_count": null,
      "outputs": [
        {
          "output_type": "display_data",
          "data": {
            "text/plain": [
              "<Figure size 720x576 with 1 Axes>"
            ],
            "image/png": "[encoded data removed]"
          },
          "metadata": {}
        }
      ]
    },
    {
      "cell_type": "markdown",
      "source": [
        "### 1.2.1. Модель № 1"
      ],
      "metadata": {
        "id": "U_cJ-lE9HZv1"
      }
    },
    {
      "cell_type": "code",
      "source": [
        "X_k_p = to_polynom(X_k, order = 2)"
      ],
      "metadata": {
        "id": "IMmYGkL9kNmM"
      },
      "execution_count": null,
      "outputs": []
    },
    {
      "cell_type": "code",
      "source": [
        "X_train_k, X_test_k, y_train_k, y_test_k = train_test_split(X_k_p, y_k, test_size=0.3, random_state=42)"
      ],
      "metadata": {
        "id": "OpjRE5bFkWIG"
      },
      "execution_count": null,
      "outputs": []
    },
    {
      "cell_type": "code",
      "source": [
        "LogReg_k = LogisticRegression(fit_intercept=True, penalty='l2', solver='saga', C=1.5, max_iter=100000)"
      ],
      "metadata": {
        "id": "TPbH_IF6krPx"
      },
      "execution_count": null,
      "outputs": []
    },
    {
      "cell_type": "code",
      "source": [
        "LogReg_k.fit(X_train_k, y_train_k)\n",
        "y_pred_k = LogReg_k.predict(X_test_k)"
      ],
      "metadata": {
        "id": "8RPLqZj4k00K"
      },
      "execution_count": null,
      "outputs": []
    },
    {
      "cell_type": "code",
      "source": [
        "print('Оценка обучающего набора: {:.4f}'.format(LogReg_k.score(X_train_k, y_train_k)))\n",
        "print('Оценка тестового набора: {:.4f}'.format(LogReg_k.score(X_test_k, y_test_k)))\n",
        "\n",
        "val(y_test_k, y_pred_k)"
      ],
      "metadata": {
        "colab": {
          "base_uri": "https://localhost:8080/",
          "height": 210
        },
        "id": "ZjfvO6J5lGhO",
        "outputId": "9f2ef1e2-2fa0-4f87-80ec-860a6f336b51"
      },
      "execution_count": null,
      "outputs": [
        {
          "output_type": "stream",
          "name": "stdout",
          "text": [
            "Оценка обучающего набора: 0.8821\n",
            "Оценка тестового набора: 0.8333\n"
          ]
        },
        {
          "output_type": "execute_result",
          "data": {
            "text/plain": [
              "        Показатель  Значение\n",
              "0   accuracy_score      0.83\n",
              "1     recall_score      0.83\n",
              "2  precision_score      0.83\n",
              "3         f1_score      0.83"
            ],
            "text/html": [
              "\n",
              "  <div id=\"df-708a69cb-38c0-48f3-b54a-6d73e4814747\">\n",
              "    <div class=\"colab-df-container\">\n",
              "      <div>\n",
              "<style scoped>\n",
              "    .dataframe tbody tr th:only-of-type {\n",
              "        vertical-align: middle;\n",
              "    }\n",
              "\n",
              "    .dataframe tbody tr th {\n",
              "        vertical-align: top;\n",
              "    }\n",
              "\n",
              "    .dataframe thead th {\n",
              "        text-align: right;\n",
              "    }\n",
              "</style>\n",
              "<table border=\"1\" class=\"dataframe\">\n",
              "  <thead>\n",
              "    <tr style=\"text-align: right;\">\n",
              "      <th></th>\n",
              "      <th>Показатель</th>\n",
              "      <th>Значение</th>\n",
              "    </tr>\n",
              "  </thead>\n",
              "  <tbody>\n",
              "    <tr>\n",
              "      <th>0</th>\n",
              "      <td>accuracy_score</td>\n",
              "      <td>0.83</td>\n",
              "    </tr>\n",
              "    <tr>\n",
              "      <th>1</th>\n",
              "      <td>recall_score</td>\n",
              "      <td>0.83</td>\n",
              "    </tr>\n",
              "    <tr>\n",
              "      <th>2</th>\n",
              "      <td>precision_score</td>\n",
              "      <td>0.83</td>\n",
              "    </tr>\n",
              "    <tr>\n",
              "      <th>3</th>\n",
              "      <td>f1_score</td>\n",
              "      <td>0.83</td>\n",
              "    </tr>\n",
              "  </tbody>\n",
              "</table>\n",
              "</div>\n",
              "      <button class=\"colab-df-convert\" onclick=\"convertToInteractive('df-708a69cb-38c0-48f3-b54a-6d73e4814747')\"\n",
              "              title=\"Convert this dataframe to an interactive table.\"\n",
              "              style=\"display:none;\">\n",
              "        \n",
              "  <svg xmlns=\"http://www.w3.org/2000/svg\" height=\"24px\"viewBox=\"0 0 24 24\"\n",
              "       width=\"24px\">\n",
              "    <path d=\"M0 0h24v24H0V0z\" fill=\"none\"/>\n",
              "    <path d=\"M18.56 5.44l.94 2.06.94-2.06 2.06-.94-2.06-.94-.94-2.06-.94 2.06-2.06.94zm-11 1L8.5 8.5l.94-2.06 2.06-.94-2.06-.94L8.5 2.5l-.94 2.06-2.06.94zm10 10l.94 2.06.94-2.06 2.06-.94-2.06-.94-.94-2.06-.94 2.06-2.06.94z\"/><path d=\"M17.41 7.96l-1.37-1.37c-.4-.4-.92-.59-1.43-.59-.52 0-1.04.2-1.43.59L10.3 9.45l-7.72 7.72c-.78.78-.78 2.05 0 2.83L4 21.41c.39.39.9.59 1.41.59.51 0 1.02-.2 1.41-.59l7.78-7.78 2.81-2.81c.8-.78.8-2.07 0-2.86zM5.41 20L4 18.59l7.72-7.72 1.47 1.35L5.41 20z\"/>\n",
              "  </svg>\n",
              "      </button>\n",
              "      \n",
              "  <style>\n",
              "    .colab-df-container {\n",
              "      display:flex;\n",
              "      flex-wrap:wrap;\n",
              "      gap: 12px;\n",
              "    }\n",
              "\n",
              "    .colab-df-convert {\n",
              "      background-color: #E8F0FE;\n",
              "      border: none;\n",
              "      border-radius: 50%;\n",
              "      cursor: pointer;\n",
              "      display: none;\n",
              "      fill: #1967D2;\n",
              "      height: 32px;\n",
              "      padding: 0 0 0 0;\n",
              "      width: 32px;\n",
              "    }\n",
              "\n",
              "    .colab-df-convert:hover {\n",
              "      background-color: #E2EBFA;\n",
              "      box-shadow: 0px 1px 2px rgba(60, 64, 67, 0.3), 0px 1px 3px 1px rgba(60, 64, 67, 0.15);\n",
              "      fill: #174EA6;\n",
              "    }\n",
              "\n",
              "    [theme=dark] .colab-df-convert {\n",
              "      background-color: #3B4455;\n",
              "      fill: #D2E3FC;\n",
              "    }\n",
              "\n",
              "    [theme=dark] .colab-df-convert:hover {\n",
              "      background-color: #434B5C;\n",
              "      box-shadow: 0px 1px 3px 1px rgba(0, 0, 0, 0.15);\n",
              "      filter: drop-shadow(0px 1px 2px rgba(0, 0, 0, 0.3));\n",
              "      fill: #FFFFFF;\n",
              "    }\n",
              "  </style>\n",
              "\n",
              "      <script>\n",
              "        const buttonEl =\n",
              "          document.querySelector('#df-708a69cb-38c0-48f3-b54a-6d73e4814747 button.colab-df-convert');\n",
              "        buttonEl.style.display =\n",
              "          google.colab.kernel.accessAllowed ? 'block' : 'none';\n",
              "\n",
              "        async function convertToInteractive(key) {\n",
              "          const element = document.querySelector('#df-708a69cb-38c0-48f3-b54a-6d73e4814747');\n",
              "          const dataTable =\n",
              "            await google.colab.kernel.invokeFunction('convertToInteractive',\n",
              "                                                     [key], {});\n",
              "          if (!dataTable) return;\n",
              "\n",
              "          const docLinkHtml = 'Like what you see? Visit the ' +\n",
              "            '<a target=\"_blank\" href=https://colab.research.google.com/notebooks/data_table.ipynb>data table notebook</a>'\n",
              "            + ' to learn more about interactive tables.';\n",
              "          element.innerHTML = '';\n",
              "          dataTable['output_type'] = 'display_data';\n",
              "          await google.colab.output.renderOutput(dataTable, element);\n",
              "          const docLink = document.createElement('div');\n",
              "          docLink.innerHTML = docLinkHtml;\n",
              "          element.appendChild(docLink);\n",
              "        }\n",
              "      </script>\n",
              "    </div>\n",
              "  </div>\n",
              "  "
            ]
          },
          "metadata": {},
          "execution_count": 329
        }
      ]
    },
    {
      "cell_type": "code",
      "source": [
        "model(y_test_k, y_pred_k)"
      ],
      "metadata": {
        "colab": {
          "base_uri": "https://localhost:8080/",
          "height": 470
        },
        "id": "f8Gdo8HNlYUo",
        "outputId": "a033e219-cb45-4ec4-cf25-0731f0677964"
      },
      "execution_count": null,
      "outputs": [
        {
          "output_type": "display_data",
          "data": {
            "text/plain": [
              "<Figure size 432x288 with 2 Axes>"
            ],
            "image/png": "[encoded data removed]"
          },
          "metadata": {
            "needs_background": "light"
          }
        },
        {
          "output_type": "stream",
          "name": "stdout",
          "text": [
            "Модель правильно классифицировала  50  показатель, который принадлежал к классу 0 (истинно отрицательные исходы)\n",
            "Модель правильно классифицировала  50  показатель, который принадлежал к классу 1 (истинно положительные исходы)\n",
            "Модель ошибочно классифицировала  10  показатель, из класса 0 как класс 1 (ложноположительные исходы)\n",
            "Модель ошибочно классифицировала  10  показатель, из класса 1 как класс 0 (ложноотрицательные исходы)\n",
            "\n",
            "Точность модели = TP+TN/(TP+TN+FP+FN) =  0.8333\n",
            "Чувствительность или доля истинно положительных результатов = TP/(TP+FN) =  0.8333\n",
            "Доля истинно отрицательных результатов = TN/(TN+FP) =  0.8333\n",
            "Положительное прогностическое значение = TP/(TP+FP) =  0.8333\n",
            "Отрицательное прогностическое значение = TN/(TN+FN) =  0.8333\n"
          ]
        }
      ]
    },
    {
      "cell_type": "code",
      "source": [
        "roc(y_test_k, y_pred_k)"
      ],
      "metadata": {
        "colab": {
          "base_uri": "https://localhost:8080/",
          "height": 390
        },
        "id": "s8uTLtoolhRx",
        "outputId": "950bc23d-a5e0-40b8-a16d-81f8c4de84e8"
      },
      "execution_count": null,
      "outputs": [
        {
          "output_type": "display_data",
          "data": {
            "text/plain": [
              "<Figure size 432x288 with 0 Axes>"
            ]
          },
          "metadata": {}
        },
        {
          "output_type": "display_data",
          "data": {
            "text/plain": [
              "<Figure size 720x360 with 1 Axes>"
            ],
            "image/png": "[encoded data removed]"
          },
          "metadata": {
            "needs_background": "light"
          }
        }
      ]
    },
    {
      "cell_type": "markdown",
      "source": [
        "Модель работает неплохо. Попробуем отрегулировать полиномы и параметры модели"
      ],
      "metadata": {
        "id": "P5HmSs93Ku7K"
      }
    },
    {
      "cell_type": "markdown",
      "source": [
        "### 1.2.2. Модель № 2"
      ],
      "metadata": {
        "id": "Z24szkAylqTr"
      }
    },
    {
      "cell_type": "code",
      "source": [
        "X_k_p2 = to_polynom(X_k, order = 4)"
      ],
      "metadata": {
        "id": "cG9VqYlOlw0U"
      },
      "execution_count": null,
      "outputs": []
    },
    {
      "cell_type": "code",
      "source": [
        "X_train_k2, X_test_k2, y_train_k2, y_test_k2 = train_test_split(X_k_p2, y_k, test_size=0.3, random_state=42)"
      ],
      "metadata": {
        "id": "45tdkuC5l1JE"
      },
      "execution_count": null,
      "outputs": []
    },
    {
      "cell_type": "code",
      "source": [
        "LogReg_k2 = LogisticRegression(fit_intercept=True, penalty='l1', solver='saga', C=10, max_iter=100000)"
      ],
      "metadata": {
        "id": "pAFuji5PmEXv"
      },
      "execution_count": null,
      "outputs": []
    },
    {
      "cell_type": "code",
      "source": [
        "LogReg_k2.fit(X_train_k2, y_train_k2)\n",
        "y_pred_k2 = LogReg_k2.predict(X_test_k2)"
      ],
      "metadata": {
        "id": "B2cHyaCxmJ7w"
      },
      "execution_count": null,
      "outputs": []
    },
    {
      "cell_type": "code",
      "source": [
        "print('Оценка обучающего набора: {:.4f}'.format(LogReg_k2.score(X_train_k2, y_train_k2)))\n",
        "print('Оценка тестового набора: {:.4f}'.format(LogReg_k2.score(X_test_k2, y_test_k2)))\n",
        "\n",
        "val(y_test_k2, y_pred_k2)"
      ],
      "metadata": {
        "colab": {
          "base_uri": "https://localhost:8080/",
          "height": 210
        },
        "id": "1_Pn59bcmPvy",
        "outputId": "f03266d9-74c0-4f76-c7ae-f7e6bc3f16fa"
      },
      "execution_count": null,
      "outputs": [
        {
          "output_type": "stream",
          "name": "stdout",
          "text": [
            "Оценка обучающего набора: 0.8143\n",
            "Оценка тестового набора: 0.7583\n"
          ]
        },
        {
          "output_type": "execute_result",
          "data": {
            "text/plain": [
              "        Показатель  Значение\n",
              "0   accuracy_score      0.76\n",
              "1     recall_score      0.80\n",
              "2  precision_score      0.74\n",
              "3         f1_score      0.77"
            ],
            "text/html": [
              "\n",
              "  <div id=\"df-17b4da64-f7ee-4d4a-8993-fdac79ee06c3\">\n",
              "    <div class=\"colab-df-container\">\n",
              "      <div>\n",
              "<style scoped>\n",
              "    .dataframe tbody tr th:only-of-type {\n",
              "        vertical-align: middle;\n",
              "    }\n",
              "\n",
              "    .dataframe tbody tr th {\n",
              "        vertical-align: top;\n",
              "    }\n",
              "\n",
              "    .dataframe thead th {\n",
              "        text-align: right;\n",
              "    }\n",
              "</style>\n",
              "<table border=\"1\" class=\"dataframe\">\n",
              "  <thead>\n",
              "    <tr style=\"text-align: right;\">\n",
              "      <th></th>\n",
              "      <th>Показатель</th>\n",
              "      <th>Значение</th>\n",
              "    </tr>\n",
              "  </thead>\n",
              "  <tbody>\n",
              "    <tr>\n",
              "      <th>0</th>\n",
              "      <td>accuracy_score</td>\n",
              "      <td>0.76</td>\n",
              "    </tr>\n",
              "    <tr>\n",
              "      <th>1</th>\n",
              "      <td>recall_score</td>\n",
              "      <td>0.80</td>\n",
              "    </tr>\n",
              "    <tr>\n",
              "      <th>2</th>\n",
              "      <td>precision_score</td>\n",
              "      <td>0.74</td>\n",
              "    </tr>\n",
              "    <tr>\n",
              "      <th>3</th>\n",
              "      <td>f1_score</td>\n",
              "      <td>0.77</td>\n",
              "    </tr>\n",
              "  </tbody>\n",
              "</table>\n",
              "</div>\n",
              "      <button class=\"colab-df-convert\" onclick=\"convertToInteractive('df-17b4da64-f7ee-4d4a-8993-fdac79ee06c3')\"\n",
              "              title=\"Convert this dataframe to an interactive table.\"\n",
              "              style=\"display:none;\">\n",
              "        \n",
              "  <svg xmlns=\"http://www.w3.org/2000/svg\" height=\"24px\"viewBox=\"0 0 24 24\"\n",
              "       width=\"24px\">\n",
              "    <path d=\"M0 0h24v24H0V0z\" fill=\"none\"/>\n",
              "    <path d=\"M18.56 5.44l.94 2.06.94-2.06 2.06-.94-2.06-.94-.94-2.06-.94 2.06-2.06.94zm-11 1L8.5 8.5l.94-2.06 2.06-.94-2.06-.94L8.5 2.5l-.94 2.06-2.06.94zm10 10l.94 2.06.94-2.06 2.06-.94-2.06-.94-.94-2.06-.94 2.06-2.06.94z\"/><path d=\"M17.41 7.96l-1.37-1.37c-.4-.4-.92-.59-1.43-.59-.52 0-1.04.2-1.43.59L10.3 9.45l-7.72 7.72c-.78.78-.78 2.05 0 2.83L4 21.41c.39.39.9.59 1.41.59.51 0 1.02-.2 1.41-.59l7.78-7.78 2.81-2.81c.8-.78.8-2.07 0-2.86zM5.41 20L4 18.59l7.72-7.72 1.47 1.35L5.41 20z\"/>\n",
              "  </svg>\n",
              "      </button>\n",
              "      \n",
              "  <style>\n",
              "    .colab-df-container {\n",
              "      display:flex;\n",
              "      flex-wrap:wrap;\n",
              "      gap: 12px;\n",
              "    }\n",
              "\n",
              "    .colab-df-convert {\n",
              "      background-color: #E8F0FE;\n",
              "      border: none;\n",
              "      border-radius: 50%;\n",
              "      cursor: pointer;\n",
              "      display: none;\n",
              "      fill: #1967D2;\n",
              "      height: 32px;\n",
              "      padding: 0 0 0 0;\n",
              "      width: 32px;\n",
              "    }\n",
              "\n",
              "    .colab-df-convert:hover {\n",
              "      background-color: #E2EBFA;\n",
              "      box-shadow: 0px 1px 2px rgba(60, 64, 67, 0.3), 0px 1px 3px 1px rgba(60, 64, 67, 0.15);\n",
              "      fill: #174EA6;\n",
              "    }\n",
              "\n",
              "    [theme=dark] .colab-df-convert {\n",
              "      background-color: #3B4455;\n",
              "      fill: #D2E3FC;\n",
              "    }\n",
              "\n",
              "    [theme=dark] .colab-df-convert:hover {\n",
              "      background-color: #434B5C;\n",
              "      box-shadow: 0px 1px 3px 1px rgba(0, 0, 0, 0.15);\n",
              "      filter: drop-shadow(0px 1px 2px rgba(0, 0, 0, 0.3));\n",
              "      fill: #FFFFFF;\n",
              "    }\n",
              "  </style>\n",
              "\n",
              "      <script>\n",
              "        const buttonEl =\n",
              "          document.querySelector('#df-17b4da64-f7ee-4d4a-8993-fdac79ee06c3 button.colab-df-convert');\n",
              "        buttonEl.style.display =\n",
              "          google.colab.kernel.accessAllowed ? 'block' : 'none';\n",
              "\n",
              "        async function convertToInteractive(key) {\n",
              "          const element = document.querySelector('#df-17b4da64-f7ee-4d4a-8993-fdac79ee06c3');\n",
              "          const dataTable =\n",
              "            await google.colab.kernel.invokeFunction('convertToInteractive',\n",
              "                                                     [key], {});\n",
              "          if (!dataTable) return;\n",
              "\n",
              "          const docLinkHtml = 'Like what you see? Visit the ' +\n",
              "            '<a target=\"_blank\" href=https://colab.research.google.com/notebooks/data_table.ipynb>data table notebook</a>'\n",
              "            + ' to learn more about interactive tables.';\n",
              "          element.innerHTML = '';\n",
              "          dataTable['output_type'] = 'display_data';\n",
              "          await google.colab.output.renderOutput(dataTable, element);\n",
              "          const docLink = document.createElement('div');\n",
              "          docLink.innerHTML = docLinkHtml;\n",
              "          element.appendChild(docLink);\n",
              "        }\n",
              "      </script>\n",
              "    </div>\n",
              "  </div>\n",
              "  "
            ]
          },
          "metadata": {},
          "execution_count": 336
        }
      ]
    },
    {
      "cell_type": "code",
      "source": [
        "model(y_test_k2, y_pred_k2)"
      ],
      "metadata": {
        "colab": {
          "base_uri": "https://localhost:8080/",
          "height": 470
        },
        "id": "dclIETh8mWLT",
        "outputId": "9861044c-3fa6-49db-cd07-2b0feba4d32e"
      },
      "execution_count": null,
      "outputs": [
        {
          "output_type": "display_data",
          "data": {
            "text/plain": [
              "<Figure size 432x288 with 2 Axes>"
            ],
            "image/png": "[encoded data removed]"
          },
          "metadata": {
            "needs_background": "light"
          }
        },
        {
          "output_type": "stream",
          "name": "stdout",
          "text": [
            "Модель правильно классифицировала  43  показатель, который принадлежал к классу 0 (истинно отрицательные исходы)\n",
            "Модель правильно классифицировала  48  показатель, который принадлежал к классу 1 (истинно положительные исходы)\n",
            "Модель ошибочно классифицировала  17  показатель, из класса 0 как класс 1 (ложноположительные исходы)\n",
            "Модель ошибочно классифицировала  12  показатель, из класса 1 как класс 0 (ложноотрицательные исходы)\n",
            "\n",
            "Точность модели = TP+TN/(TP+TN+FP+FN) =  0.7583\n",
            "Чувствительность или доля истинно положительных результатов = TP/(TP+FN) =  0.8\n",
            "Доля истинно отрицательных результатов = TN/(TN+FP) =  0.7167\n",
            "Положительное прогностическое значение = TP/(TP+FP) =  0.7385\n",
            "Отрицательное прогностическое значение = TN/(TN+FN) =  0.7818\n"
          ]
        }
      ]
    },
    {
      "cell_type": "code",
      "source": [
        "roc(y_test_k2, y_pred_k2)"
      ],
      "metadata": {
        "colab": {
          "base_uri": "https://localhost:8080/",
          "height": 390
        },
        "id": "AzwpRmaqnsHY",
        "outputId": "0c36d1fb-8866-45de-d218-a4cd89148b88"
      },
      "execution_count": null,
      "outputs": [
        {
          "output_type": "display_data",
          "data": {
            "text/plain": [
              "<Figure size 432x288 with 0 Axes>"
            ]
          },
          "metadata": {}
        },
        {
          "output_type": "display_data",
          "data": {
            "text/plain": [
              "<Figure size 720x360 with 1 Axes>"
            ],
            "image/png": "[encoded data removed]"
          },
          "metadata": {
            "needs_background": "light"
          }
        }
      ]
    },
    {
      "cell_type": "markdown",
      "source": [
        "После внесения корректировой модель стала работать значительно хуже"
      ],
      "metadata": {
        "id": "lWFY09CpK4fh"
      }
    },
    {
      "cell_type": "markdown",
      "source": [
        "# 2. Набор данных Cars Moldova"
      ],
      "metadata": {
        "id": "nrYVk04xoOZ1"
      }
    },
    {
      "cell_type": "code",
      "source": [
        "df_i = pd.read_csv(\"cars_moldova_categor.csv\") #очищенных от дубликатов и выбросов, с добавленными признаками из «Задания 1»\n",
        "df_i"
      ],
      "metadata": {
        "colab": {
          "base_uri": "https://localhost:8080/",
          "height": 424
        },
        "id": "vFjnGFW4okJ5",
        "outputId": "aef59ab7-f73f-459f-b2ed-f583a8936a9f"
      },
      "execution_count": null,
      "outputs": [
        {
          "output_type": "execute_result",
          "data": {
            "text/plain": [
              "             Make         Model  Year      Style  Distance  \\\n",
              "0          Toyota         Prius  2011  Hatchback  195000.0   \n",
              "1         Renault  Grand Scenic  2014  Universal  135000.0   \n",
              "2         Renault        Laguna  2012  Universal  110000.0   \n",
              "3            Opel         Astra  2006  Universal  200000.0   \n",
              "4        Mercedes          Vito  2000   Microvan  300000.0   \n",
              "...           ...           ...   ...        ...       ...   \n",
              "32469  Volkswagen        Passat  2016      Sedan   88000.0   \n",
              "32470  Land Rover    Freelander  2002  Crossover  225000.0   \n",
              "32471       Dacia     Logan Mcv  2015  Universal   89000.0   \n",
              "32472       Mazda             6  2006      Combi  370000.0   \n",
              "32473     Renault  Grand Scenic  2006    Minivan  300000.0   \n",
              "\n",
              "       Engine_capacity(cm3)     Fuel_type Transmission  Price(euro)  Age  \\\n",
              "0                    1800.0        Hybrid    Automatic       7750.0   11   \n",
              "1                    1500.0        Diesel       Manual       8550.0    8   \n",
              "2                    1500.0        Diesel       Manual       6550.0   10   \n",
              "3                    1600.0  Metan/Propan       Manual       4100.0   16   \n",
              "4                    2200.0        Diesel       Manual       3490.0   22   \n",
              "...                     ...           ...          ...          ...  ...   \n",
              "32469                1800.0        Petrol    Automatic      11500.0    6   \n",
              "32470                1800.0  Metan/Propan       Manual       4400.0   20   \n",
              "32471                1500.0        Diesel       Manual       7000.0    7   \n",
              "32472                2000.0        Diesel       Manual       4000.0   16   \n",
              "32473                1500.0        Diesel       Manual       4000.0   16   \n",
              "\n",
              "            km_year        km_year_q  Make_val  Price_mean_make  \n",
              "0      17727.272727     high_mileage      3091      9629.435781  \n",
              "1      16875.000000  average_mileage      2371      6624.550822  \n",
              "2      11000.000000   little_mileage      2371      6624.550822  \n",
              "3      12500.000000  average_mileage      1867      4169.550080  \n",
              "4      13636.363636  average_mileage      3032     12960.053100  \n",
              "...             ...              ...       ...              ...  \n",
              "32469  14666.666667  average_mileage      3450      6839.976522  \n",
              "32470  11250.000000   little_mileage       288     22631.614583  \n",
              "32471  12714.285714  average_mileage      1348      5327.074926  \n",
              "32472  23125.000000     high_mileage       444      5145.808559  \n",
              "32473  18750.000000     high_mileage      2371      6624.550822  \n",
              "\n",
              "[32474 rows x 14 columns]"
            ],
            "text/html": [
              "\n",
              "  <div id=\"df-f068225d-74a4-443c-9208-93c7103d0fdd\">\n",
              "    <div class=\"colab-df-container\">\n",
              "      <div>\n",
              "<style scoped>\n",
              "    .dataframe tbody tr th:only-of-type {\n",
              "        vertical-align: middle;\n",
              "    }\n",
              "\n",
              "    .dataframe tbody tr th {\n",
              "        vertical-align: top;\n",
              "    }\n",
              "\n",
              "    .dataframe thead th {\n",
              "        text-align: right;\n",
              "    }\n",
              "</style>\n",
              "<table border=\"1\" class=\"dataframe\">\n",
              "  <thead>\n",
              "    <tr style=\"text-align: right;\">\n",
              "      <th></th>\n",
              "      <th>Make</th>\n",
              "      <th>Model</th>\n",
              "      <th>Year</th>\n",
              "      <th>Style</th>\n",
              "      <th>Distance</th>\n",
              "      <th>Engine_capacity(cm3)</th>\n",
              "      <th>Fuel_type</th>\n",
              "      <th>Transmission</th>\n",
              "      <th>Price(euro)</th>\n",
              "      <th>Age</th>\n",
              "      <th>km_year</th>\n",
              "      <th>km_year_q</th>\n",
              "      <th>Make_val</th>\n",
              "      <th>Price_mean_make</th>\n",
              "    </tr>\n",
              "  </thead>\n",
              "  <tbody>\n",
              "    <tr>\n",
              "      <th>0</th>\n",
              "      <td>Toyota</td>\n",
              "      <td>Prius</td>\n",
              "      <td>2011</td>\n",
              "      <td>Hatchback</td>\n",
              "      <td>195000.0</td>\n",
              "      <td>1800.0</td>\n",
              "      <td>Hybrid</td>\n",
              "      <td>Automatic</td>\n",
              "      <td>7750.0</td>\n",
              "      <td>11</td>\n",
              "      <td>17727.272727</td>\n",
              "      <td>high_mileage</td>\n",
              "      <td>3091</td>\n",
              "      <td>9629.435781</td>\n",
              "    </tr>\n",
              "    <tr>\n",
              "      <th>1</th>\n",
              "      <td>Renault</td>\n",
              "      <td>Grand Scenic</td>\n",
              "      <td>2014</td>\n",
              "      <td>Universal</td>\n",
              "      <td>135000.0</td>\n",
              "      <td>1500.0</td>\n",
              "      <td>Diesel</td>\n",
              "      <td>Manual</td>\n",
              "      <td>8550.0</td>\n",
              "      <td>8</td>\n",
              "      <td>16875.000000</td>\n",
              "      <td>average_mileage</td>\n",
              "      <td>2371</td>\n",
              "      <td>6624.550822</td>\n",
              "    </tr>\n",
              "    <tr>\n",
              "      <th>2</th>\n",
              "      <td>Renault</td>\n",
              "      <td>Laguna</td>\n",
              "      <td>2012</td>\n",
              "      <td>Universal</td>\n",
              "      <td>110000.0</td>\n",
              "      <td>1500.0</td>\n",
              "      <td>Diesel</td>\n",
              "      <td>Manual</td>\n",
              "      <td>6550.0</td>\n",
              "      <td>10</td>\n",
              "      <td>11000.000000</td>\n",
              "      <td>little_mileage</td>\n",
              "      <td>2371</td>\n",
              "      <td>6624.550822</td>\n",
              "    </tr>\n",
              "    <tr>\n",
              "      <th>3</th>\n",
              "      <td>Opel</td>\n",
              "      <td>Astra</td>\n",
              "      <td>2006</td>\n",
              "      <td>Universal</td>\n",
              "      <td>200000.0</td>\n",
              "      <td>1600.0</td>\n",
              "      <td>Metan/Propan</td>\n",
              "      <td>Manual</td>\n",
              "      <td>4100.0</td>\n",
              "      <td>16</td>\n",
              "      <td>12500.000000</td>\n",
              "      <td>average_mileage</td>\n",
              "      <td>1867</td>\n",
              "      <td>4169.550080</td>\n",
              "    </tr>\n",
              "    <tr>\n",
              "      <th>4</th>\n",
              "      <td>Mercedes</td>\n",
              "      <td>Vito</td>\n",
              "      <td>2000</td>\n",
              "      <td>Microvan</td>\n",
              "      <td>300000.0</td>\n",
              "      <td>2200.0</td>\n",
              "      <td>Diesel</td>\n",
              "      <td>Manual</td>\n",
              "      <td>3490.0</td>\n",
              "      <td>22</td>\n",
              "      <td>13636.363636</td>\n",
              "      <td>average_mileage</td>\n",
              "      <td>3032</td>\n",
              "      <td>12960.053100</td>\n",
              "    </tr>\n",
              "    <tr>\n",
              "      <th>...</th>\n",
              "      <td>...</td>\n",
              "      <td>...</td>\n",
              "      <td>...</td>\n",
              "      <td>...</td>\n",
              "      <td>...</td>\n",
              "      <td>...</td>\n",
              "      <td>...</td>\n",
              "      <td>...</td>\n",
              "      <td>...</td>\n",
              "      <td>...</td>\n",
              "      <td>...</td>\n",
              "      <td>...</td>\n",
              "      <td>...</td>\n",
              "      <td>...</td>\n",
              "    </tr>\n",
              "    <tr>\n",
              "      <th>32469</th>\n",
              "      <td>Volkswagen</td>\n",
              "      <td>Passat</td>\n",
              "      <td>2016</td>\n",
              "      <td>Sedan</td>\n",
              "      <td>88000.0</td>\n",
              "      <td>1800.0</td>\n",
              "      <td>Petrol</td>\n",
              "      <td>Automatic</td>\n",
              "      <td>11500.0</td>\n",
              "      <td>6</td>\n",
              "      <td>14666.666667</td>\n",
              "      <td>average_mileage</td>\n",
              "      <td>3450</td>\n",
              "      <td>6839.976522</td>\n",
              "    </tr>\n",
              "    <tr>\n",
              "      <th>32470</th>\n",
              "      <td>Land Rover</td>\n",
              "      <td>Freelander</td>\n",
              "      <td>2002</td>\n",
              "      <td>Crossover</td>\n",
              "      <td>225000.0</td>\n",
              "      <td>1800.0</td>\n",
              "      <td>Metan/Propan</td>\n",
              "      <td>Manual</td>\n",
              "      <td>4400.0</td>\n",
              "      <td>20</td>\n",
              "      <td>11250.000000</td>\n",
              "      <td>little_mileage</td>\n",
              "      <td>288</td>\n",
              "      <td>22631.614583</td>\n",
              "    </tr>\n",
              "    <tr>\n",
              "      <th>32471</th>\n",
              "      <td>Dacia</td>\n",
              "      <td>Logan Mcv</td>\n",
              "      <td>2015</td>\n",
              "      <td>Universal</td>\n",
              "      <td>89000.0</td>\n",
              "      <td>1500.0</td>\n",
              "      <td>Diesel</td>\n",
              "      <td>Manual</td>\n",
              "      <td>7000.0</td>\n",
              "      <td>7</td>\n",
              "      <td>12714.285714</td>\n",
              "      <td>average_mileage</td>\n",
              "      <td>1348</td>\n",
              "      <td>5327.074926</td>\n",
              "    </tr>\n",
              "    <tr>\n",
              "      <th>32472</th>\n",
              "      <td>Mazda</td>\n",
              "      <td>6</td>\n",
              "      <td>2006</td>\n",
              "      <td>Combi</td>\n",
              "      <td>370000.0</td>\n",
              "      <td>2000.0</td>\n",
              "      <td>Diesel</td>\n",
              "      <td>Manual</td>\n",
              "      <td>4000.0</td>\n",
              "      <td>16</td>\n",
              "      <td>23125.000000</td>\n",
              "      <td>high_mileage</td>\n",
              "      <td>444</td>\n",
              "      <td>5145.808559</td>\n",
              "    </tr>\n",
              "    <tr>\n",
              "      <th>32473</th>\n",
              "      <td>Renault</td>\n",
              "      <td>Grand Scenic</td>\n",
              "      <td>2006</td>\n",
              "      <td>Minivan</td>\n",
              "      <td>300000.0</td>\n",
              "      <td>1500.0</td>\n",
              "      <td>Diesel</td>\n",
              "      <td>Manual</td>\n",
              "      <td>4000.0</td>\n",
              "      <td>16</td>\n",
              "      <td>18750.000000</td>\n",
              "      <td>high_mileage</td>\n",
              "      <td>2371</td>\n",
              "      <td>6624.550822</td>\n",
              "    </tr>\n",
              "  </tbody>\n",
              "</table>\n",
              "<p>32474 rows × 14 columns</p>\n",
              "</div>\n",
              "      <button class=\"colab-df-convert\" onclick=\"convertToInteractive('df-f068225d-74a4-443c-9208-93c7103d0fdd')\"\n",
              "              title=\"Convert this dataframe to an interactive table.\"\n",
              "              style=\"display:none;\">\n",
              "        \n",
              "  <svg xmlns=\"http://www.w3.org/2000/svg\" height=\"24px\"viewBox=\"0 0 24 24\"\n",
              "       width=\"24px\">\n",
              "    <path d=\"M0 0h24v24H0V0z\" fill=\"none\"/>\n",
              "    <path d=\"M18.56 5.44l.94 2.06.94-2.06 2.06-.94-2.06-.94-.94-2.06-.94 2.06-2.06.94zm-11 1L8.5 8.5l.94-2.06 2.06-.94-2.06-.94L8.5 2.5l-.94 2.06-2.06.94zm10 10l.94 2.06.94-2.06 2.06-.94-2.06-.94-.94-2.06-.94 2.06-2.06.94z\"/><path d=\"M17.41 7.96l-1.37-1.37c-.4-.4-.92-.59-1.43-.59-.52 0-1.04.2-1.43.59L10.3 9.45l-7.72 7.72c-.78.78-.78 2.05 0 2.83L4 21.41c.39.39.9.59 1.41.59.51 0 1.02-.2 1.41-.59l7.78-7.78 2.81-2.81c.8-.78.8-2.07 0-2.86zM5.41 20L4 18.59l7.72-7.72 1.47 1.35L5.41 20z\"/>\n",
              "  </svg>\n",
              "      </button>\n",
              "      \n",
              "  <style>\n",
              "    .colab-df-container {\n",
              "      display:flex;\n",
              "      flex-wrap:wrap;\n",
              "      gap: 12px;\n",
              "    }\n",
              "\n",
              "    .colab-df-convert {\n",
              "      background-color: #E8F0FE;\n",
              "      border: none;\n",
              "      border-radius: 50%;\n",
              "      cursor: pointer;\n",
              "      display: none;\n",
              "      fill: #1967D2;\n",
              "      height: 32px;\n",
              "      padding: 0 0 0 0;\n",
              "      width: 32px;\n",
              "    }\n",
              "\n",
              "    .colab-df-convert:hover {\n",
              "      background-color: #E2EBFA;\n",
              "      box-shadow: 0px 1px 2px rgba(60, 64, 67, 0.3), 0px 1px 3px 1px rgba(60, 64, 67, 0.15);\n",
              "      fill: #174EA6;\n",
              "    }\n",
              "\n",
              "    [theme=dark] .colab-df-convert {\n",
              "      background-color: #3B4455;\n",
              "      fill: #D2E3FC;\n",
              "    }\n",
              "\n",
              "    [theme=dark] .colab-df-convert:hover {\n",
              "      background-color: #434B5C;\n",
              "      box-shadow: 0px 1px 3px 1px rgba(0, 0, 0, 0.15);\n",
              "      filter: drop-shadow(0px 1px 2px rgba(0, 0, 0, 0.3));\n",
              "      fill: #FFFFFF;\n",
              "    }\n",
              "  </style>\n",
              "\n",
              "      <script>\n",
              "        const buttonEl =\n",
              "          document.querySelector('#df-f068225d-74a4-443c-9208-93c7103d0fdd button.colab-df-convert');\n",
              "        buttonEl.style.display =\n",
              "          google.colab.kernel.accessAllowed ? 'block' : 'none';\n",
              "\n",
              "        async function convertToInteractive(key) {\n",
              "          const element = document.querySelector('#df-f068225d-74a4-443c-9208-93c7103d0fdd');\n",
              "          const dataTable =\n",
              "            await google.colab.kernel.invokeFunction('convertToInteractive',\n",
              "                                                     [key], {});\n",
              "          if (!dataTable) return;\n",
              "\n",
              "          const docLinkHtml = 'Like what you see? Visit the ' +\n",
              "            '<a target=\"_blank\" href=https://colab.research.google.com/notebooks/data_table.ipynb>data table notebook</a>'\n",
              "            + ' to learn more about interactive tables.';\n",
              "          element.innerHTML = '';\n",
              "          dataTable['output_type'] = 'display_data';\n",
              "          await google.colab.output.renderOutput(dataTable, element);\n",
              "          const docLink = document.createElement('div');\n",
              "          docLink.innerHTML = docLinkHtml;\n",
              "          element.appendChild(docLink);\n",
              "        }\n",
              "      </script>\n",
              "    </div>\n",
              "  </div>\n",
              "  "
            ]
          },
          "metadata": {},
          "execution_count": 339
        }
      ]
    },
    {
      "cell_type": "code",
      "source": [
        "df = df_i.copy()"
      ],
      "metadata": {
        "id": "7ZVeBNQxGMrN"
      },
      "execution_count": null,
      "outputs": []
    },
    {
      "cell_type": "markdown",
      "source": [
        "Разбиваем на категориальные и числовые колонки"
      ],
      "metadata": {
        "id": "8Asa1sDC_wny"
      }
    },
    {
      "cell_type": "code",
      "source": [
        "cat_columns = ['Make', 'Model', 'Style', 'Fuel_type', 'Transmission' ,\"km_year_q\"] \n",
        "num_columns = ['Year', 'Distance', 'Engine_capacity(cm3)', 'Price(euro)', \"Age\", 'km_year',\"Make_val\",\"Price_mean_make\"]\n",
        "\n",
        "df_num = df[num_columns].copy()"
      ],
      "metadata": {
        "id": "ntMVXO1lwE57"
      },
      "execution_count": null,
      "outputs": []
    },
    {
      "cell_type": "markdown",
      "source": [
        "Кодируем категориальные данные"
      ],
      "metadata": {
        "id": "07wUaR52_vm6"
      }
    },
    {
      "cell_type": "code",
      "source": [
        "df[cat_columns] = df[cat_columns].astype('category')\n",
        "\n",
        "for _, column_name in enumerate(cat_columns):\n",
        "    df[column_name] =  df[column_name].cat.codes\n",
        "df.head()"
      ],
      "metadata": {
        "colab": {
          "base_uri": "https://localhost:8080/",
          "height": 206
        },
        "id": "l9lwPkVF_rOS",
        "outputId": "f8f9035e-f625-42e2-e6f1-8b309de338f6"
      },
      "execution_count": null,
      "outputs": [
        {
          "output_type": "execute_result",
          "data": {
            "text/plain": [
              "   Make  Model  Year  Style  Distance  Engine_capacity(cm3)  Fuel_type  \\\n",
              "0    41    541  2011      4  195000.0                1800.0          2   \n",
              "1    33    364  2014     11  135000.0                1500.0          0   \n",
              "2    33    425  2012     11  110000.0                1500.0          0   \n",
              "3    28    139  2006     11  200000.0                1600.0          3   \n",
              "4    23    731  2000      5  300000.0                2200.0          0   \n",
              "\n",
              "   Transmission  Price(euro)  Age       km_year  km_year_q  Make_val  \\\n",
              "0             0       7750.0   11  17727.272727          1      3091   \n",
              "1             1       8550.0    8  16875.000000          0      2371   \n",
              "2             1       6550.0   10  11000.000000          2      2371   \n",
              "3             1       4100.0   16  12500.000000          0      1867   \n",
              "4             1       3490.0   22  13636.363636          0      3032   \n",
              "\n",
              "   Price_mean_make  \n",
              "0      9629.435781  \n",
              "1      6624.550822  \n",
              "2      6624.550822  \n",
              "3      4169.550080  \n",
              "4     12960.053100  "
            ],
            "text/html": [
              "\n",
              "  <div id=\"df-da0f1f0e-4e7d-493a-9feb-e7407b6ba7eb\">\n",
              "    <div class=\"colab-df-container\">\n",
              "      <div>\n",
              "<style scoped>\n",
              "    .dataframe tbody tr th:only-of-type {\n",
              "        vertical-align: middle;\n",
              "    }\n",
              "\n",
              "    .dataframe tbody tr th {\n",
              "        vertical-align: top;\n",
              "    }\n",
              "\n",
              "    .dataframe thead th {\n",
              "        text-align: right;\n",
              "    }\n",
              "</style>\n",
              "<table border=\"1\" class=\"dataframe\">\n",
              "  <thead>\n",
              "    <tr style=\"text-align: right;\">\n",
              "      <th></th>\n",
              "      <th>Make</th>\n",
              "      <th>Model</th>\n",
              "      <th>Year</th>\n",
              "      <th>Style</th>\n",
              "      <th>Distance</th>\n",
              "      <th>Engine_capacity(cm3)</th>\n",
              "      <th>Fuel_type</th>\n",
              "      <th>Transmission</th>\n",
              "      <th>Price(euro)</th>\n",
              "      <th>Age</th>\n",
              "      <th>km_year</th>\n",
              "      <th>km_year_q</th>\n",
              "      <th>Make_val</th>\n",
              "      <th>Price_mean_make</th>\n",
              "    </tr>\n",
              "  </thead>\n",
              "  <tbody>\n",
              "    <tr>\n",
              "      <th>0</th>\n",
              "      <td>41</td>\n",
              "      <td>541</td>\n",
              "      <td>2011</td>\n",
              "      <td>4</td>\n",
              "      <td>195000.0</td>\n",
              "      <td>1800.0</td>\n",
              "      <td>2</td>\n",
              "      <td>0</td>\n",
              "      <td>7750.0</td>\n",
              "      <td>11</td>\n",
              "      <td>17727.272727</td>\n",
              "      <td>1</td>\n",
              "      <td>3091</td>\n",
              "      <td>9629.435781</td>\n",
              "    </tr>\n",
              "    <tr>\n",
              "      <th>1</th>\n",
              "      <td>33</td>\n",
              "      <td>364</td>\n",
              "      <td>2014</td>\n",
              "      <td>11</td>\n",
              "      <td>135000.0</td>\n",
              "      <td>1500.0</td>\n",
              "      <td>0</td>\n",
              "      <td>1</td>\n",
              "      <td>8550.0</td>\n",
              "      <td>8</td>\n",
              "      <td>16875.000000</td>\n",
              "      <td>0</td>\n",
              "      <td>2371</td>\n",
              "      <td>6624.550822</td>\n",
              "    </tr>\n",
              "    <tr>\n",
              "      <th>2</th>\n",
              "      <td>33</td>\n",
              "      <td>425</td>\n",
              "      <td>2012</td>\n",
              "      <td>11</td>\n",
              "      <td>110000.0</td>\n",
              "      <td>1500.0</td>\n",
              "      <td>0</td>\n",
              "      <td>1</td>\n",
              "      <td>6550.0</td>\n",
              "      <td>10</td>\n",
              "      <td>11000.000000</td>\n",
              "      <td>2</td>\n",
              "      <td>2371</td>\n",
              "      <td>6624.550822</td>\n",
              "    </tr>\n",
              "    <tr>\n",
              "      <th>3</th>\n",
              "      <td>28</td>\n",
              "      <td>139</td>\n",
              "      <td>2006</td>\n",
              "      <td>11</td>\n",
              "      <td>200000.0</td>\n",
              "      <td>1600.0</td>\n",
              "      <td>3</td>\n",
              "      <td>1</td>\n",
              "      <td>4100.0</td>\n",
              "      <td>16</td>\n",
              "      <td>12500.000000</td>\n",
              "      <td>0</td>\n",
              "      <td>1867</td>\n",
              "      <td>4169.550080</td>\n",
              "    </tr>\n",
              "    <tr>\n",
              "      <th>4</th>\n",
              "      <td>23</td>\n",
              "      <td>731</td>\n",
              "      <td>2000</td>\n",
              "      <td>5</td>\n",
              "      <td>300000.0</td>\n",
              "      <td>2200.0</td>\n",
              "      <td>0</td>\n",
              "      <td>1</td>\n",
              "      <td>3490.0</td>\n",
              "      <td>22</td>\n",
              "      <td>13636.363636</td>\n",
              "      <td>0</td>\n",
              "      <td>3032</td>\n",
              "      <td>12960.053100</td>\n",
              "    </tr>\n",
              "  </tbody>\n",
              "</table>\n",
              "</div>\n",
              "      <button class=\"colab-df-convert\" onclick=\"convertToInteractive('df-da0f1f0e-4e7d-493a-9feb-e7407b6ba7eb')\"\n",
              "              title=\"Convert this dataframe to an interactive table.\"\n",
              "              style=\"display:none;\">\n",
              "        \n",
              "  <svg xmlns=\"http://www.w3.org/2000/svg\" height=\"24px\"viewBox=\"0 0 24 24\"\n",
              "       width=\"24px\">\n",
              "    <path d=\"M0 0h24v24H0V0z\" fill=\"none\"/>\n",
              "    <path d=\"M18.56 5.44l.94 2.06.94-2.06 2.06-.94-2.06-.94-.94-2.06-.94 2.06-2.06.94zm-11 1L8.5 8.5l.94-2.06 2.06-.94-2.06-.94L8.5 2.5l-.94 2.06-2.06.94zm10 10l.94 2.06.94-2.06 2.06-.94-2.06-.94-.94-2.06-.94 2.06-2.06.94z\"/><path d=\"M17.41 7.96l-1.37-1.37c-.4-.4-.92-.59-1.43-.59-.52 0-1.04.2-1.43.59L10.3 9.45l-7.72 7.72c-.78.78-.78 2.05 0 2.83L4 21.41c.39.39.9.59 1.41.59.51 0 1.02-.2 1.41-.59l7.78-7.78 2.81-2.81c.8-.78.8-2.07 0-2.86zM5.41 20L4 18.59l7.72-7.72 1.47 1.35L5.41 20z\"/>\n",
              "  </svg>\n",
              "      </button>\n",
              "      \n",
              "  <style>\n",
              "    .colab-df-container {\n",
              "      display:flex;\n",
              "      flex-wrap:wrap;\n",
              "      gap: 12px;\n",
              "    }\n",
              "\n",
              "    .colab-df-convert {\n",
              "      background-color: #E8F0FE;\n",
              "      border: none;\n",
              "      border-radius: 50%;\n",
              "      cursor: pointer;\n",
              "      display: none;\n",
              "      fill: #1967D2;\n",
              "      height: 32px;\n",
              "      padding: 0 0 0 0;\n",
              "      width: 32px;\n",
              "    }\n",
              "\n",
              "    .colab-df-convert:hover {\n",
              "      background-color: #E2EBFA;\n",
              "      box-shadow: 0px 1px 2px rgba(60, 64, 67, 0.3), 0px 1px 3px 1px rgba(60, 64, 67, 0.15);\n",
              "      fill: #174EA6;\n",
              "    }\n",
              "\n",
              "    [theme=dark] .colab-df-convert {\n",
              "      background-color: #3B4455;\n",
              "      fill: #D2E3FC;\n",
              "    }\n",
              "\n",
              "    [theme=dark] .colab-df-convert:hover {\n",
              "      background-color: #434B5C;\n",
              "      box-shadow: 0px 1px 3px 1px rgba(0, 0, 0, 0.15);\n",
              "      filter: drop-shadow(0px 1px 2px rgba(0, 0, 0, 0.3));\n",
              "      fill: #FFFFFF;\n",
              "    }\n",
              "  </style>\n",
              "\n",
              "      <script>\n",
              "        const buttonEl =\n",
              "          document.querySelector('#df-da0f1f0e-4e7d-493a-9feb-e7407b6ba7eb button.colab-df-convert');\n",
              "        buttonEl.style.display =\n",
              "          google.colab.kernel.accessAllowed ? 'block' : 'none';\n",
              "\n",
              "        async function convertToInteractive(key) {\n",
              "          const element = document.querySelector('#df-da0f1f0e-4e7d-493a-9feb-e7407b6ba7eb');\n",
              "          const dataTable =\n",
              "            await google.colab.kernel.invokeFunction('convertToInteractive',\n",
              "                                                     [key], {});\n",
              "          if (!dataTable) return;\n",
              "\n",
              "          const docLinkHtml = 'Like what you see? Visit the ' +\n",
              "            '<a target=\"_blank\" href=https://colab.research.google.com/notebooks/data_table.ipynb>data table notebook</a>'\n",
              "            + ' to learn more about interactive tables.';\n",
              "          element.innerHTML = '';\n",
              "          dataTable['output_type'] = 'display_data';\n",
              "          await google.colab.output.renderOutput(dataTable, element);\n",
              "          const docLink = document.createElement('div');\n",
              "          docLink.innerHTML = docLinkHtml;\n",
              "          element.appendChild(docLink);\n",
              "        }\n",
              "      </script>\n",
              "    </div>\n",
              "  </div>\n",
              "  "
            ]
          },
          "metadata": {},
          "execution_count": 342
        }
      ]
    },
    {
      "cell_type": "markdown",
      "source": [
        "## 2.1. Mодель логистической регрессии"
      ],
      "metadata": {
        "id": "vSI0kyZFyqmm"
      }
    },
    {
      "cell_type": "markdown",
      "source": [
        "Pазбиваем на тестовую и тренировочную"
      ],
      "metadata": {
        "id": "SIAjITnO7TaO"
      }
    },
    {
      "cell_type": "code",
      "source": [
        "\n",
        "X = df[num_columns]\n",
        "y = df['Transmission']\n",
        "\n",
        "X_train, X_test, y_train, y_test = train_test_split(X, y, test_size=0.25, random_state=42)"
      ],
      "metadata": {
        "id": "rrhohLAfxllD"
      },
      "execution_count": null,
      "outputs": []
    },
    {
      "cell_type": "markdown",
      "source": [
        "Строим модель"
      ],
      "metadata": {
        "id": "hYqBS-XC7VQu"
      }
    },
    {
      "cell_type": "code",
      "source": [
        "Log= LogisticRegression(fit_intercept=True, penalty='l2', solver='saga', C=1, max_iter=100000)"
      ],
      "metadata": {
        "id": "tDEDt-sEy2Jn"
      },
      "execution_count": null,
      "outputs": []
    },
    {
      "cell_type": "code",
      "source": [
        "Log.fit(X_train, y_train)"
      ],
      "metadata": {
        "colab": {
          "base_uri": "https://localhost:8080/"
        },
        "id": "E2eAt6GDzE6a",
        "outputId": "013c9a4d-5468-44e8-b6e8-1b7a846848fe"
      },
      "execution_count": null,
      "outputs": [
        {
          "output_type": "execute_result",
          "data": {
            "text/plain": [
              "LogisticRegression(C=1, max_iter=100000, solver='saga')"
            ]
          },
          "metadata": {},
          "execution_count": 345
        }
      ]
    },
    {
      "cell_type": "markdown",
      "source": [
        "Смотрим результат"
      ],
      "metadata": {
        "id": "EcNZWrxN7ZvG"
      }
    },
    {
      "cell_type": "code",
      "source": [
        "y_pr = Log.predict(X_test)"
      ],
      "metadata": {
        "id": "LwLGeLsP1XnS"
      },
      "execution_count": null,
      "outputs": []
    },
    {
      "cell_type": "code",
      "source": [
        "print('Оценка обучающего набора: {:.4f}'.format(Log.score(X_train, y_train)))\n",
        "print('Оценка тестового набора: {:.4f}'.format(Log.score(X_test, y_test)))\n"
      ],
      "metadata": {
        "colab": {
          "base_uri": "https://localhost:8080/"
        },
        "id": "-H0pLFr42_Nq",
        "outputId": "04c4a6e9-e435-4f7e-a88b-ec574801d314"
      },
      "execution_count": null,
      "outputs": [
        {
          "output_type": "stream",
          "name": "stdout",
          "text": [
            "Оценка обучающего набора: 0.8060\n",
            "Оценка тестового набора: 0.8067\n"
          ]
        }
      ]
    },
    {
      "cell_type": "code",
      "source": [
        "model(y_test, y_pr)"
      ],
      "metadata": {
        "colab": {
          "base_uri": "https://localhost:8080/",
          "height": 470
        },
        "id": "SfhWTxii1tGV",
        "outputId": "cd3faad3-ec89-4470-d050-b86e4cc80008"
      },
      "execution_count": null,
      "outputs": [
        {
          "output_type": "display_data",
          "data": {
            "text/plain": [
              "<Figure size 432x288 with 2 Axes>"
            ],
            "image/png": "[encoded data removed]"
          },
          "metadata": {
            "needs_background": "light"
          }
        },
        {
          "output_type": "stream",
          "name": "stdout",
          "text": [
            "Модель правильно классифицировала  2683  показатель, который принадлежал к классу 0 (истинно отрицательные исходы)\n",
            "Модель правильно классифицировала  3867  показатель, который принадлежал к классу 1 (истинно положительные исходы)\n",
            "Модель ошибочно классифицировала  992  показатель, из класса 0 как класс 1 (ложноположительные исходы)\n",
            "Модель ошибочно классифицировала  577  показатель, из класса 1 как класс 0 (ложноотрицательные исходы)\n",
            "\n",
            "Точность модели = TP+TN/(TP+TN+FP+FN) =  0.8067\n",
            "Чувствительность или доля истинно положительных результатов = TP/(TP+FN) =  0.8702\n",
            "Доля истинно отрицательных результатов = TN/(TN+FP) =  0.7301\n",
            "Положительное прогностическое значение = TP/(TP+FP) =  0.7958\n",
            "Отрицательное прогностическое значение = TN/(TN+FN) =  0.823\n"
          ]
        }
      ]
    },
    {
      "cell_type": "code",
      "source": [
        "print (classification_report(y_test, y_pr, target_names=['Manual','Automatic']))"
      ],
      "metadata": {
        "colab": {
          "base_uri": "https://localhost:8080/"
        },
        "id": "r7NY7k8y3Tau",
        "outputId": "d6eeea3c-0188-4e22-85a2-2e6b4e8e0c7d"
      },
      "execution_count": null,
      "outputs": [
        {
          "output_type": "stream",
          "name": "stdout",
          "text": [
            "              precision    recall  f1-score   support\n",
            "\n",
            "      Manual       0.82      0.73      0.77      3675\n",
            "   Automatic       0.80      0.87      0.83      4444\n",
            "\n",
            "    accuracy                           0.81      8119\n",
            "   macro avg       0.81      0.80      0.80      8119\n",
            "weighted avg       0.81      0.81      0.81      8119\n",
            "\n"
          ]
        }
      ]
    },
    {
      "cell_type": "markdown",
      "source": [
        "## 2.2. Различные типы предварительной обработки"
      ],
      "metadata": {
        "id": "dHxJH9f241YM"
      }
    },
    {
      "cell_type": "markdown",
      "source": [
        "### 2.2.1. Стандартизация"
      ],
      "metadata": {
        "id": "SDq-GNrs5s2d"
      }
    },
    {
      "cell_type": "code",
      "source": [
        "df_scaled = df.copy()\n",
        "M = df[num_columns].mean()\n",
        "STD = df[num_columns].std()\n",
        "df_scaled[num_columns] = (df[num_columns]-M)/STD\n",
        "\n",
        "df_scaled.head()"
      ],
      "metadata": {
        "colab": {
          "base_uri": "https://localhost:8080/",
          "height": 206
        },
        "id": "hsB5Wo385sKc",
        "outputId": "f8778f9f-5777-418a-a863-d9f333cbd3ba"
      },
      "execution_count": null,
      "outputs": [
        {
          "output_type": "execute_result",
          "data": {
            "text/plain": [
              "   Make  Model      Year  Style  Distance  Engine_capacity(cm3)  Fuel_type  \\\n",
              "0    41    541  0.383647      4  0.142253             -0.110171          2   \n",
              "1    33    364  0.797815     11 -0.471631             -0.602326          0   \n",
              "2    33    425  0.521703     11 -0.727415             -0.602326          0   \n",
              "3    28    139 -0.306631     11  0.193409             -0.438275          3   \n",
              "4    23    731 -1.134966      5  1.216548              0.546035          0   \n",
              "\n",
              "   Transmission  Price(euro)       Age   km_year  km_year_q  Make_val  \\\n",
              "0             0    -0.174700 -0.383647  0.389158          1  1.104635   \n",
              "1             1    -0.090635 -0.797815  0.274376          0  0.429772   \n",
              "2             1    -0.300796 -0.521703 -0.516855          2  0.429772   \n",
              "3             1    -0.558242  0.306631 -0.314839          0 -0.042632   \n",
              "4             1    -0.622341  1.134966 -0.161796          0  1.049334   \n",
              "\n",
              "   Price_mean_make  \n",
              "0         0.050383  \n",
              "1        -0.647607  \n",
              "2        -0.647607  \n",
              "3        -1.217868  \n",
              "4         0.824036  "
            ],
            "text/html": [
              "\n",
              "  <div id=\"df-55140a58-d648-4068-a685-60aee8acc8ae\">\n",
              "    <div class=\"colab-df-container\">\n",
              "      <div>\n",
              "<style scoped>\n",
              "    .dataframe tbody tr th:only-of-type {\n",
              "        vertical-align: middle;\n",
              "    }\n",
              "\n",
              "    .dataframe tbody tr th {\n",
              "        vertical-align: top;\n",
              "    }\n",
              "\n",
              "    .dataframe thead th {\n",
              "        text-align: right;\n",
              "    }\n",
              "</style>\n",
              "<table border=\"1\" class=\"dataframe\">\n",
              "  <thead>\n",
              "    <tr style=\"text-align: right;\">\n",
              "      <th></th>\n",
              "      <th>Make</th>\n",
              "      <th>Model</th>\n",
              "      <th>Year</th>\n",
              "      <th>Style</th>\n",
              "      <th>Distance</th>\n",
              "      <th>Engine_capacity(cm3)</th>\n",
              "      <th>Fuel_type</th>\n",
              "      <th>Transmission</th>\n",
              "      <th>Price(euro)</th>\n",
              "      <th>Age</th>\n",
              "      <th>km_year</th>\n",
              "      <th>km_year_q</th>\n",
              "      <th>Make_val</th>\n",
              "      <th>Price_mean_make</th>\n",
              "    </tr>\n",
              "  </thead>\n",
              "  <tbody>\n",
              "    <tr>\n",
              "      <th>0</th>\n",
              "      <td>41</td>\n",
              "      <td>541</td>\n",
              "      <td>0.383647</td>\n",
              "      <td>4</td>\n",
              "      <td>0.142253</td>\n",
              "      <td>-0.110171</td>\n",
              "      <td>2</td>\n",
              "      <td>0</td>\n",
              "      <td>-0.174700</td>\n",
              "      <td>-0.383647</td>\n",
              "      <td>0.389158</td>\n",
              "      <td>1</td>\n",
              "      <td>1.104635</td>\n",
              "      <td>0.050383</td>\n",
              "    </tr>\n",
              "    <tr>\n",
              "      <th>1</th>\n",
              "      <td>33</td>\n",
              "      <td>364</td>\n",
              "      <td>0.797815</td>\n",
              "      <td>11</td>\n",
              "      <td>-0.471631</td>\n",
              "      <td>-0.602326</td>\n",
              "      <td>0</td>\n",
              "      <td>1</td>\n",
              "      <td>-0.090635</td>\n",
              "      <td>-0.797815</td>\n",
              "      <td>0.274376</td>\n",
              "      <td>0</td>\n",
              "      <td>0.429772</td>\n",
              "      <td>-0.647607</td>\n",
              "    </tr>\n",
              "    <tr>\n",
              "      <th>2</th>\n",
              "      <td>33</td>\n",
              "      <td>425</td>\n",
              "      <td>0.521703</td>\n",
              "      <td>11</td>\n",
              "      <td>-0.727415</td>\n",
              "      <td>-0.602326</td>\n",
              "      <td>0</td>\n",
              "      <td>1</td>\n",
              "      <td>-0.300796</td>\n",
              "      <td>-0.521703</td>\n",
              "      <td>-0.516855</td>\n",
              "      <td>2</td>\n",
              "      <td>0.429772</td>\n",
              "      <td>-0.647607</td>\n",
              "    </tr>\n",
              "    <tr>\n",
              "      <th>3</th>\n",
              "      <td>28</td>\n",
              "      <td>139</td>\n",
              "      <td>-0.306631</td>\n",
              "      <td>11</td>\n",
              "      <td>0.193409</td>\n",
              "      <td>-0.438275</td>\n",
              "      <td>3</td>\n",
              "      <td>1</td>\n",
              "      <td>-0.558242</td>\n",
              "      <td>0.306631</td>\n",
              "      <td>-0.314839</td>\n",
              "      <td>0</td>\n",
              "      <td>-0.042632</td>\n",
              "      <td>-1.217868</td>\n",
              "    </tr>\n",
              "    <tr>\n",
              "      <th>4</th>\n",
              "      <td>23</td>\n",
              "      <td>731</td>\n",
              "      <td>-1.134966</td>\n",
              "      <td>5</td>\n",
              "      <td>1.216548</td>\n",
              "      <td>0.546035</td>\n",
              "      <td>0</td>\n",
              "      <td>1</td>\n",
              "      <td>-0.622341</td>\n",
              "      <td>1.134966</td>\n",
              "      <td>-0.161796</td>\n",
              "      <td>0</td>\n",
              "      <td>1.049334</td>\n",
              "      <td>0.824036</td>\n",
              "    </tr>\n",
              "  </tbody>\n",
              "</table>\n",
              "</div>\n",
              "      <button class=\"colab-df-convert\" onclick=\"convertToInteractive('df-55140a58-d648-4068-a685-60aee8acc8ae')\"\n",
              "              title=\"Convert this dataframe to an interactive table.\"\n",
              "              style=\"display:none;\">\n",
              "        \n",
              "  <svg xmlns=\"http://www.w3.org/2000/svg\" height=\"24px\"viewBox=\"0 0 24 24\"\n",
              "       width=\"24px\">\n",
              "    <path d=\"M0 0h24v24H0V0z\" fill=\"none\"/>\n",
              "    <path d=\"M18.56 5.44l.94 2.06.94-2.06 2.06-.94-2.06-.94-.94-2.06-.94 2.06-2.06.94zm-11 1L8.5 8.5l.94-2.06 2.06-.94-2.06-.94L8.5 2.5l-.94 2.06-2.06.94zm10 10l.94 2.06.94-2.06 2.06-.94-2.06-.94-.94-2.06-.94 2.06-2.06.94z\"/><path d=\"M17.41 7.96l-1.37-1.37c-.4-.4-.92-.59-1.43-.59-.52 0-1.04.2-1.43.59L10.3 9.45l-7.72 7.72c-.78.78-.78 2.05 0 2.83L4 21.41c.39.39.9.59 1.41.59.51 0 1.02-.2 1.41-.59l7.78-7.78 2.81-2.81c.8-.78.8-2.07 0-2.86zM5.41 20L4 18.59l7.72-7.72 1.47 1.35L5.41 20z\"/>\n",
              "  </svg>\n",
              "      </button>\n",
              "      \n",
              "  <style>\n",
              "    .colab-df-container {\n",
              "      display:flex;\n",
              "      flex-wrap:wrap;\n",
              "      gap: 12px;\n",
              "    }\n",
              "\n",
              "    .colab-df-convert {\n",
              "      background-color: #E8F0FE;\n",
              "      border: none;\n",
              "      border-radius: 50%;\n",
              "      cursor: pointer;\n",
              "      display: none;\n",
              "      fill: #1967D2;\n",
              "      height: 32px;\n",
              "      padding: 0 0 0 0;\n",
              "      width: 32px;\n",
              "    }\n",
              "\n",
              "    .colab-df-convert:hover {\n",
              "      background-color: #E2EBFA;\n",
              "      box-shadow: 0px 1px 2px rgba(60, 64, 67, 0.3), 0px 1px 3px 1px rgba(60, 64, 67, 0.15);\n",
              "      fill: #174EA6;\n",
              "    }\n",
              "\n",
              "    [theme=dark] .colab-df-convert {\n",
              "      background-color: #3B4455;\n",
              "      fill: #D2E3FC;\n",
              "    }\n",
              "\n",
              "    [theme=dark] .colab-df-convert:hover {\n",
              "      background-color: #434B5C;\n",
              "      box-shadow: 0px 1px 3px 1px rgba(0, 0, 0, 0.15);\n",
              "      filter: drop-shadow(0px 1px 2px rgba(0, 0, 0, 0.3));\n",
              "      fill: #FFFFFF;\n",
              "    }\n",
              "  </style>\n",
              "\n",
              "      <script>\n",
              "        const buttonEl =\n",
              "          document.querySelector('#df-55140a58-d648-4068-a685-60aee8acc8ae button.colab-df-convert');\n",
              "        buttonEl.style.display =\n",
              "          google.colab.kernel.accessAllowed ? 'block' : 'none';\n",
              "\n",
              "        async function convertToInteractive(key) {\n",
              "          const element = document.querySelector('#df-55140a58-d648-4068-a685-60aee8acc8ae');\n",
              "          const dataTable =\n",
              "            await google.colab.kernel.invokeFunction('convertToInteractive',\n",
              "                                                     [key], {});\n",
              "          if (!dataTable) return;\n",
              "\n",
              "          const docLinkHtml = 'Like what you see? Visit the ' +\n",
              "            '<a target=\"_blank\" href=https://colab.research.google.com/notebooks/data_table.ipynb>data table notebook</a>'\n",
              "            + ' to learn more about interactive tables.';\n",
              "          element.innerHTML = '';\n",
              "          dataTable['output_type'] = 'display_data';\n",
              "          await google.colab.output.renderOutput(dataTable, element);\n",
              "          const docLink = document.createElement('div');\n",
              "          docLink.innerHTML = docLinkHtml;\n",
              "          element.appendChild(docLink);\n",
              "        }\n",
              "      </script>\n",
              "    </div>\n",
              "  </div>\n",
              "  "
            ]
          },
          "metadata": {},
          "execution_count": 350
        }
      ]
    },
    {
      "cell_type": "code",
      "source": [
        "X1 = df_scaled[num_columns].values \n",
        "y1 = df_scaled[\"Transmission\"].values \n",
        "features_names = df_scaled[num_columns].columns\n",
        "\n",
        "X1_train, X1_test, y1_train, y1_test = train_test_split(X1, y1, test_size=0.25, random_state=42)\n",
        "\n",
        "\n",
        "scaler  = MinMaxScaler()\n",
        "X1_train = scaler.fit_transform(X1_train)\n",
        "X1_test  = scaler.transform(X1_test) \n",
        "pd.DataFrame(X1_train).tail()"
      ],
      "metadata": {
        "colab": {
          "base_uri": "https://localhost:8080/",
          "height": 206
        },
        "id": "ihEqK-SV_Aij",
        "outputId": "8d40ff43-387c-4a80-e24f-fd326ec5362e"
      },
      "execution_count": null,
      "outputs": [
        {
          "output_type": "execute_result",
          "data": {
            "text/plain": [
              "          0         1         2         3     4         5         6         7\n",
              "24350  0.64  0.269999  0.687500  0.043086  0.36  0.284196  0.353436  0.226527\n",
              "24351  0.88  0.050999  0.375000  0.148297  0.12  0.145697  0.450855  0.240927\n",
              "24352  0.78  0.194999  0.375000  0.096192  0.22  0.324986  0.043491  0.121252\n",
              "24353  0.60  0.002499  0.520833  0.023046  0.40  0.002361  0.878805  0.250410\n",
              "24354  0.48  0.284666  0.374375  0.024048  0.52  0.210849  0.027544  0.032811"
            ],
            "text/html": [
              "\n",
              "  <div id=\"df-991a5ee4-6067-404d-8d67-6e34fcb36a43\">\n",
              "    <div class=\"colab-df-container\">\n",
              "      <div>\n",
              "<style scoped>\n",
              "    .dataframe tbody tr th:only-of-type {\n",
              "        vertical-align: middle;\n",
              "    }\n",
              "\n",
              "    .dataframe tbody tr th {\n",
              "        vertical-align: top;\n",
              "    }\n",
              "\n",
              "    .dataframe thead th {\n",
              "        text-align: right;\n",
              "    }\n",
              "</style>\n",
              "<table border=\"1\" class=\"dataframe\">\n",
              "  <thead>\n",
              "    <tr style=\"text-align: right;\">\n",
              "      <th></th>\n",
              "      <th>0</th>\n",
              "      <th>1</th>\n",
              "      <th>2</th>\n",
              "      <th>3</th>\n",
              "      <th>4</th>\n",
              "      <th>5</th>\n",
              "      <th>6</th>\n",
              "      <th>7</th>\n",
              "    </tr>\n",
              "  </thead>\n",
              "  <tbody>\n",
              "    <tr>\n",
              "      <th>24350</th>\n",
              "      <td>0.64</td>\n",
              "      <td>0.269999</td>\n",
              "      <td>0.687500</td>\n",
              "      <td>0.043086</td>\n",
              "      <td>0.36</td>\n",
              "      <td>0.284196</td>\n",
              "      <td>0.353436</td>\n",
              "      <td>0.226527</td>\n",
              "    </tr>\n",
              "    <tr>\n",
              "      <th>24351</th>\n",
              "      <td>0.88</td>\n",
              "      <td>0.050999</td>\n",
              "      <td>0.375000</td>\n",
              "      <td>0.148297</td>\n",
              "      <td>0.12</td>\n",
              "      <td>0.145697</td>\n",
              "      <td>0.450855</td>\n",
              "      <td>0.240927</td>\n",
              "    </tr>\n",
              "    <tr>\n",
              "      <th>24352</th>\n",
              "      <td>0.78</td>\n",
              "      <td>0.194999</td>\n",
              "      <td>0.375000</td>\n",
              "      <td>0.096192</td>\n",
              "      <td>0.22</td>\n",
              "      <td>0.324986</td>\n",
              "      <td>0.043491</td>\n",
              "      <td>0.121252</td>\n",
              "    </tr>\n",
              "    <tr>\n",
              "      <th>24353</th>\n",
              "      <td>0.60</td>\n",
              "      <td>0.002499</td>\n",
              "      <td>0.520833</td>\n",
              "      <td>0.023046</td>\n",
              "      <td>0.40</td>\n",
              "      <td>0.002361</td>\n",
              "      <td>0.878805</td>\n",
              "      <td>0.250410</td>\n",
              "    </tr>\n",
              "    <tr>\n",
              "      <th>24354</th>\n",
              "      <td>0.48</td>\n",
              "      <td>0.284666</td>\n",
              "      <td>0.374375</td>\n",
              "      <td>0.024048</td>\n",
              "      <td>0.52</td>\n",
              "      <td>0.210849</td>\n",
              "      <td>0.027544</td>\n",
              "      <td>0.032811</td>\n",
              "    </tr>\n",
              "  </tbody>\n",
              "</table>\n",
              "</div>\n",
              "      <button class=\"colab-df-convert\" onclick=\"convertToInteractive('df-991a5ee4-6067-404d-8d67-6e34fcb36a43')\"\n",
              "              title=\"Convert this dataframe to an interactive table.\"\n",
              "              style=\"display:none;\">\n",
              "        \n",
              "  <svg xmlns=\"http://www.w3.org/2000/svg\" height=\"24px\"viewBox=\"0 0 24 24\"\n",
              "       width=\"24px\">\n",
              "    <path d=\"M0 0h24v24H0V0z\" fill=\"none\"/>\n",
              "    <path d=\"M18.56 5.44l.94 2.06.94-2.06 2.06-.94-2.06-.94-.94-2.06-.94 2.06-2.06.94zm-11 1L8.5 8.5l.94-2.06 2.06-.94-2.06-.94L8.5 2.5l-.94 2.06-2.06.94zm10 10l.94 2.06.94-2.06 2.06-.94-2.06-.94-.94-2.06-.94 2.06-2.06.94z\"/><path d=\"M17.41 7.96l-1.37-1.37c-.4-.4-.92-.59-1.43-.59-.52 0-1.04.2-1.43.59L10.3 9.45l-7.72 7.72c-.78.78-.78 2.05 0 2.83L4 21.41c.39.39.9.59 1.41.59.51 0 1.02-.2 1.41-.59l7.78-7.78 2.81-2.81c.8-.78.8-2.07 0-2.86zM5.41 20L4 18.59l7.72-7.72 1.47 1.35L5.41 20z\"/>\n",
              "  </svg>\n",
              "      </button>\n",
              "      \n",
              "  <style>\n",
              "    .colab-df-container {\n",
              "      display:flex;\n",
              "      flex-wrap:wrap;\n",
              "      gap: 12px;\n",
              "    }\n",
              "\n",
              "    .colab-df-convert {\n",
              "      background-color: #E8F0FE;\n",
              "      border: none;\n",
              "      border-radius: 50%;\n",
              "      cursor: pointer;\n",
              "      display: none;\n",
              "      fill: #1967D2;\n",
              "      height: 32px;\n",
              "      padding: 0 0 0 0;\n",
              "      width: 32px;\n",
              "    }\n",
              "\n",
              "    .colab-df-convert:hover {\n",
              "      background-color: #E2EBFA;\n",
              "      box-shadow: 0px 1px 2px rgba(60, 64, 67, 0.3), 0px 1px 3px 1px rgba(60, 64, 67, 0.15);\n",
              "      fill: #174EA6;\n",
              "    }\n",
              "\n",
              "    [theme=dark] .colab-df-convert {\n",
              "      background-color: #3B4455;\n",
              "      fill: #D2E3FC;\n",
              "    }\n",
              "\n",
              "    [theme=dark] .colab-df-convert:hover {\n",
              "      background-color: #434B5C;\n",
              "      box-shadow: 0px 1px 3px 1px rgba(0, 0, 0, 0.15);\n",
              "      filter: drop-shadow(0px 1px 2px rgba(0, 0, 0, 0.3));\n",
              "      fill: #FFFFFF;\n",
              "    }\n",
              "  </style>\n",
              "\n",
              "      <script>\n",
              "        const buttonEl =\n",
              "          document.querySelector('#df-991a5ee4-6067-404d-8d67-6e34fcb36a43 button.colab-df-convert');\n",
              "        buttonEl.style.display =\n",
              "          google.colab.kernel.accessAllowed ? 'block' : 'none';\n",
              "\n",
              "        async function convertToInteractive(key) {\n",
              "          const element = document.querySelector('#df-991a5ee4-6067-404d-8d67-6e34fcb36a43');\n",
              "          const dataTable =\n",
              "            await google.colab.kernel.invokeFunction('convertToInteractive',\n",
              "                                                     [key], {});\n",
              "          if (!dataTable) return;\n",
              "\n",
              "          const docLinkHtml = 'Like what you see? Visit the ' +\n",
              "            '<a target=\"_blank\" href=https://colab.research.google.com/notebooks/data_table.ipynb>data table notebook</a>'\n",
              "            + ' to learn more about interactive tables.';\n",
              "          element.innerHTML = '';\n",
              "          dataTable['output_type'] = 'display_data';\n",
              "          await google.colab.output.renderOutput(dataTable, element);\n",
              "          const docLink = document.createElement('div');\n",
              "          docLink.innerHTML = docLinkHtml;\n",
              "          element.appendChild(docLink);\n",
              "        }\n",
              "      </script>\n",
              "    </div>\n",
              "  </div>\n",
              "  "
            ]
          },
          "metadata": {},
          "execution_count": 351
        }
      ]
    },
    {
      "cell_type": "markdown",
      "source": [
        "Строим модель"
      ],
      "metadata": {
        "id": "7N7YxBKOAwb8"
      }
    },
    {
      "cell_type": "code",
      "source": [
        "Log1= LogisticRegression(fit_intercept=True, penalty='l2', solver='saga', C=1, max_iter=100000)"
      ],
      "metadata": {
        "id": "JtwCgDpBAZiz"
      },
      "execution_count": null,
      "outputs": []
    },
    {
      "cell_type": "code",
      "source": [
        "Log1.fit(X1_train, y1_train)"
      ],
      "metadata": {
        "colab": {
          "base_uri": "https://localhost:8080/"
        },
        "id": "1xF5Fbb6A6G3",
        "outputId": "b16275d9-dcd5-4060-ecfc-8221d8d631fe"
      },
      "execution_count": null,
      "outputs": [
        {
          "output_type": "execute_result",
          "data": {
            "text/plain": [
              "LogisticRegression(C=1, max_iter=100000, solver='saga')"
            ]
          },
          "metadata": {},
          "execution_count": 353
        }
      ]
    },
    {
      "cell_type": "code",
      "source": [
        "y1_pred = Log1.predict(X1_test)"
      ],
      "metadata": {
        "id": "HhgZpJ0bBDro"
      },
      "execution_count": null,
      "outputs": []
    },
    {
      "cell_type": "markdown",
      "source": [
        "Смотрим результат"
      ],
      "metadata": {
        "id": "1ko6dhZRBMm5"
      }
    },
    {
      "cell_type": "code",
      "source": [
        "print('Оценка обучающего набора: {:.4f}'.format(Log1.score(X1_train, y1_train)))\n",
        "print('Оценка тестового набора: {:.4f}'.format(Log1.score(X1_test, y1_test)))"
      ],
      "metadata": {
        "colab": {
          "base_uri": "https://localhost:8080/"
        },
        "id": "md_K28ghBTpa",
        "outputId": "134c582e-6735-4b59-96af-64bcd571158e"
      },
      "execution_count": null,
      "outputs": [
        {
          "output_type": "stream",
          "name": "stdout",
          "text": [
            "Оценка обучающего набора: 0.8124\n",
            "Оценка тестового набора: 0.8173\n"
          ]
        }
      ]
    },
    {
      "cell_type": "code",
      "source": [
        "model(y1_test, y1_pred)"
      ],
      "metadata": {
        "colab": {
          "base_uri": "https://localhost:8080/",
          "height": 470
        },
        "id": "NIwN8kplBTyR",
        "outputId": "dcbeb987-d8b2-4b26-9889-e6520a91b17b"
      },
      "execution_count": null,
      "outputs": [
        {
          "output_type": "display_data",
          "data": {
            "text/plain": [
              "<Figure size 432x288 with 2 Axes>"
            ],
            "image/png": "[encoded data removed]"
          },
          "metadata": {
            "needs_background": "light"
          }
        },
        {
          "output_type": "stream",
          "name": "stdout",
          "text": [
            "Модель правильно классифицировала  2771  показатель, который принадлежал к классу 0 (истинно отрицательные исходы)\n",
            "Модель правильно классифицировала  3865  показатель, который принадлежал к классу 1 (истинно положительные исходы)\n",
            "Модель ошибочно классифицировала  904  показатель, из класса 0 как класс 1 (ложноположительные исходы)\n",
            "Модель ошибочно классифицировала  579  показатель, из класса 1 как класс 0 (ложноотрицательные исходы)\n",
            "\n",
            "Точность модели = TP+TN/(TP+TN+FP+FN) =  0.8173\n",
            "Чувствительность или доля истинно положительных результатов = TP/(TP+FN) =  0.8697\n",
            "Доля истинно отрицательных результатов = TN/(TN+FP) =  0.754\n",
            "Положительное прогностическое значение = TP/(TP+FP) =  0.8104\n",
            "Отрицательное прогностическое значение = TN/(TN+FN) =  0.8272\n"
          ]
        }
      ]
    },
    {
      "cell_type": "code",
      "source": [
        "print (classification_report(y1_test, y1_pred, target_names=['Manual','Automatic']))"
      ],
      "metadata": {
        "colab": {
          "base_uri": "https://localhost:8080/"
        },
        "id": "ujMfHxN2BgrM",
        "outputId": "2dadb85e-e3f1-4f38-9c99-be5c846d298e"
      },
      "execution_count": null,
      "outputs": [
        {
          "output_type": "stream",
          "name": "stdout",
          "text": [
            "              precision    recall  f1-score   support\n",
            "\n",
            "      Manual       0.83      0.75      0.79      3675\n",
            "   Automatic       0.81      0.87      0.84      4444\n",
            "\n",
            "    accuracy                           0.82      8119\n",
            "   macro avg       0.82      0.81      0.81      8119\n",
            "weighted avg       0.82      0.82      0.82      8119\n",
            "\n"
          ]
        }
      ]
    },
    {
      "cell_type": "markdown",
      "source": [
        "### 2.2.2. Нормализация"
      ],
      "metadata": {
        "id": "SN-nBC5vBR8w"
      }
    },
    {
      "cell_type": "code",
      "source": [
        "df_norm  = df.copy()\n",
        "Xmin = df[num_columns].min()\n",
        "Xmax = df[num_columns].max()\n",
        "\n",
        "df_norm[num_columns] = (df[num_columns]- Xmin)/( Xmax - Xmin)\n",
        "df_norm.head()"
      ],
      "metadata": {
        "colab": {
          "base_uri": "https://localhost:8080/",
          "height": 206
        },
        "id": "FuOvIxfhBt9V",
        "outputId": "2d2382bf-76f5-446c-8cf3-677f547fd006"
      },
      "execution_count": null,
      "outputs": [
        {
          "output_type": "execute_result",
          "data": {
            "text/plain": [
              "   Make  Model  Year  Style  Distance  Engine_capacity(cm3)  Fuel_type  \\\n",
              "0    41    541  0.80      4  0.194999              0.333333          2   \n",
              "1    33    364  0.86     11  0.134999              0.270833          0   \n",
              "2    33    425  0.82     11  0.109999              0.270833          0   \n",
              "3    28    139  0.70     11  0.199999              0.291667          3   \n",
              "4    23    731  0.58      5  0.299999              0.416667          0   \n",
              "\n",
              "   Transmission  Price(euro)   Age   km_year  km_year_q  Make_val  \\\n",
              "0             0     0.075651  0.20  0.354533          1  0.895912   \n",
              "1             1     0.083667  0.14  0.337487          0  0.687156   \n",
              "2             1     0.063627  0.18  0.219984          2  0.687156   \n",
              "3             1     0.039078  0.30  0.249985          0  0.541026   \n",
              "4             1     0.032966  0.42  0.272713          0  0.878805   \n",
              "\n",
              "   Price_mean_make  \n",
              "0         0.178389  \n",
              "1         0.113412  \n",
              "2         0.113412  \n",
              "3         0.060325  \n",
              "4         0.250410  "
            ],
            "text/html": [
              "\n",
              "  <div id=\"df-bdfb88ad-6556-4e38-b563-7da3041800d2\">\n",
              "    <div class=\"colab-df-container\">\n",
              "      <div>\n",
              "<style scoped>\n",
              "    .dataframe tbody tr th:only-of-type {\n",
              "        vertical-align: middle;\n",
              "    }\n",
              "\n",
              "    .dataframe tbody tr th {\n",
              "        vertical-align: top;\n",
              "    }\n",
              "\n",
              "    .dataframe thead th {\n",
              "        text-align: right;\n",
              "    }\n",
              "</style>\n",
              "<table border=\"1\" class=\"dataframe\">\n",
              "  <thead>\n",
              "    <tr style=\"text-align: right;\">\n",
              "      <th></th>\n",
              "      <th>Make</th>\n",
              "      <th>Model</th>\n",
              "      <th>Year</th>\n",
              "      <th>Style</th>\n",
              "      <th>Distance</th>\n",
              "      <th>Engine_capacity(cm3)</th>\n",
              "      <th>Fuel_type</th>\n",
              "      <th>Transmission</th>\n",
              "      <th>Price(euro)</th>\n",
              "      <th>Age</th>\n",
              "      <th>km_year</th>\n",
              "      <th>km_year_q</th>\n",
              "      <th>Make_val</th>\n",
              "      <th>Price_mean_make</th>\n",
              "    </tr>\n",
              "  </thead>\n",
              "  <tbody>\n",
              "    <tr>\n",
              "      <th>0</th>\n",
              "      <td>41</td>\n",
              "      <td>541</td>\n",
              "      <td>0.80</td>\n",
              "      <td>4</td>\n",
              "      <td>0.194999</td>\n",
              "      <td>0.333333</td>\n",
              "      <td>2</td>\n",
              "      <td>0</td>\n",
              "      <td>0.075651</td>\n",
              "      <td>0.20</td>\n",
              "      <td>0.354533</td>\n",
              "      <td>1</td>\n",
              "      <td>0.895912</td>\n",
              "      <td>0.178389</td>\n",
              "    </tr>\n",
              "    <tr>\n",
              "      <th>1</th>\n",
              "      <td>33</td>\n",
              "      <td>364</td>\n",
              "      <td>0.86</td>\n",
              "      <td>11</td>\n",
              "      <td>0.134999</td>\n",
              "      <td>0.270833</td>\n",
              "      <td>0</td>\n",
              "      <td>1</td>\n",
              "      <td>0.083667</td>\n",
              "      <td>0.14</td>\n",
              "      <td>0.337487</td>\n",
              "      <td>0</td>\n",
              "      <td>0.687156</td>\n",
              "      <td>0.113412</td>\n",
              "    </tr>\n",
              "    <tr>\n",
              "      <th>2</th>\n",
              "      <td>33</td>\n",
              "      <td>425</td>\n",
              "      <td>0.82</td>\n",
              "      <td>11</td>\n",
              "      <td>0.109999</td>\n",
              "      <td>0.270833</td>\n",
              "      <td>0</td>\n",
              "      <td>1</td>\n",
              "      <td>0.063627</td>\n",
              "      <td>0.18</td>\n",
              "      <td>0.219984</td>\n",
              "      <td>2</td>\n",
              "      <td>0.687156</td>\n",
              "      <td>0.113412</td>\n",
              "    </tr>\n",
              "    <tr>\n",
              "      <th>3</th>\n",
              "      <td>28</td>\n",
              "      <td>139</td>\n",
              "      <td>0.70</td>\n",
              "      <td>11</td>\n",
              "      <td>0.199999</td>\n",
              "      <td>0.291667</td>\n",
              "      <td>3</td>\n",
              "      <td>1</td>\n",
              "      <td>0.039078</td>\n",
              "      <td>0.30</td>\n",
              "      <td>0.249985</td>\n",
              "      <td>0</td>\n",
              "      <td>0.541026</td>\n",
              "      <td>0.060325</td>\n",
              "    </tr>\n",
              "    <tr>\n",
              "      <th>4</th>\n",
              "      <td>23</td>\n",
              "      <td>731</td>\n",
              "      <td>0.58</td>\n",
              "      <td>5</td>\n",
              "      <td>0.299999</td>\n",
              "      <td>0.416667</td>\n",
              "      <td>0</td>\n",
              "      <td>1</td>\n",
              "      <td>0.032966</td>\n",
              "      <td>0.42</td>\n",
              "      <td>0.272713</td>\n",
              "      <td>0</td>\n",
              "      <td>0.878805</td>\n",
              "      <td>0.250410</td>\n",
              "    </tr>\n",
              "  </tbody>\n",
              "</table>\n",
              "</div>\n",
              "      <button class=\"colab-df-convert\" onclick=\"convertToInteractive('df-bdfb88ad-6556-4e38-b563-7da3041800d2')\"\n",
              "              title=\"Convert this dataframe to an interactive table.\"\n",
              "              style=\"display:none;\">\n",
              "        \n",
              "  <svg xmlns=\"http://www.w3.org/2000/svg\" height=\"24px\"viewBox=\"0 0 24 24\"\n",
              "       width=\"24px\">\n",
              "    <path d=\"M0 0h24v24H0V0z\" fill=\"none\"/>\n",
              "    <path d=\"M18.56 5.44l.94 2.06.94-2.06 2.06-.94-2.06-.94-.94-2.06-.94 2.06-2.06.94zm-11 1L8.5 8.5l.94-2.06 2.06-.94-2.06-.94L8.5 2.5l-.94 2.06-2.06.94zm10 10l.94 2.06.94-2.06 2.06-.94-2.06-.94-.94-2.06-.94 2.06-2.06.94z\"/><path d=\"M17.41 7.96l-1.37-1.37c-.4-.4-.92-.59-1.43-.59-.52 0-1.04.2-1.43.59L10.3 9.45l-7.72 7.72c-.78.78-.78 2.05 0 2.83L4 21.41c.39.39.9.59 1.41.59.51 0 1.02-.2 1.41-.59l7.78-7.78 2.81-2.81c.8-.78.8-2.07 0-2.86zM5.41 20L4 18.59l7.72-7.72 1.47 1.35L5.41 20z\"/>\n",
              "  </svg>\n",
              "      </button>\n",
              "      \n",
              "  <style>\n",
              "    .colab-df-container {\n",
              "      display:flex;\n",
              "      flex-wrap:wrap;\n",
              "      gap: 12px;\n",
              "    }\n",
              "\n",
              "    .colab-df-convert {\n",
              "      background-color: #E8F0FE;\n",
              "      border: none;\n",
              "      border-radius: 50%;\n",
              "      cursor: pointer;\n",
              "      display: none;\n",
              "      fill: #1967D2;\n",
              "      height: 32px;\n",
              "      padding: 0 0 0 0;\n",
              "      width: 32px;\n",
              "    }\n",
              "\n",
              "    .colab-df-convert:hover {\n",
              "      background-color: #E2EBFA;\n",
              "      box-shadow: 0px 1px 2px rgba(60, 64, 67, 0.3), 0px 1px 3px 1px rgba(60, 64, 67, 0.15);\n",
              "      fill: #174EA6;\n",
              "    }\n",
              "\n",
              "    [theme=dark] .colab-df-convert {\n",
              "      background-color: #3B4455;\n",
              "      fill: #D2E3FC;\n",
              "    }\n",
              "\n",
              "    [theme=dark] .colab-df-convert:hover {\n",
              "      background-color: #434B5C;\n",
              "      box-shadow: 0px 1px 3px 1px rgba(0, 0, 0, 0.15);\n",
              "      filter: drop-shadow(0px 1px 2px rgba(0, 0, 0, 0.3));\n",
              "      fill: #FFFFFF;\n",
              "    }\n",
              "  </style>\n",
              "\n",
              "      <script>\n",
              "        const buttonEl =\n",
              "          document.querySelector('#df-bdfb88ad-6556-4e38-b563-7da3041800d2 button.colab-df-convert');\n",
              "        buttonEl.style.display =\n",
              "          google.colab.kernel.accessAllowed ? 'block' : 'none';\n",
              "\n",
              "        async function convertToInteractive(key) {\n",
              "          const element = document.querySelector('#df-bdfb88ad-6556-4e38-b563-7da3041800d2');\n",
              "          const dataTable =\n",
              "            await google.colab.kernel.invokeFunction('convertToInteractive',\n",
              "                                                     [key], {});\n",
              "          if (!dataTable) return;\n",
              "\n",
              "          const docLinkHtml = 'Like what you see? Visit the ' +\n",
              "            '<a target=\"_blank\" href=https://colab.research.google.com/notebooks/data_table.ipynb>data table notebook</a>'\n",
              "            + ' to learn more about interactive tables.';\n",
              "          element.innerHTML = '';\n",
              "          dataTable['output_type'] = 'display_data';\n",
              "          await google.colab.output.renderOutput(dataTable, element);\n",
              "          const docLink = document.createElement('div');\n",
              "          docLink.innerHTML = docLinkHtml;\n",
              "          element.appendChild(docLink);\n",
              "        }\n",
              "      </script>\n",
              "    </div>\n",
              "  </div>\n",
              "  "
            ]
          },
          "metadata": {},
          "execution_count": 358
        }
      ]
    },
    {
      "cell_type": "code",
      "source": [
        "\n",
        "X2 = df_norm[num_columns].values \n",
        "y2 = df_norm[\"Transmission\"].values \n",
        "features_names = df_norm[num_columns].columns\n",
        "\n",
        "X2_train, X2_test, y2_train, y2_test = train_test_split(X2, y2, test_size=0.3, random_state=42)\n",
        "\n",
        "\n",
        "scaler  = MinMaxScaler()\n",
        "X2_train = scaler.fit_transform(X2_train)\n",
        "X2_test  = scaler.transform(X2_test) \n",
        "pd.DataFrame(X2_train).tail()"
      ],
      "metadata": {
        "colab": {
          "base_uri": "https://localhost:8080/",
          "height": 206
        },
        "id": "5UmoqZ47BuK0",
        "outputId": "d9344eeb-80e6-4bbc-96cc-3145a2a7d5a8"
      },
      "execution_count": null,
      "outputs": [
        {
          "output_type": "execute_result",
          "data": {
            "text/plain": [
              "          0         1         2         3     4         5         6         7\n",
              "22726  0.64  0.269999  0.687500  0.043086  0.36  0.284196  0.353436  0.226527\n",
              "22727  0.88  0.050999  0.375000  0.148297  0.12  0.145697  0.450855  0.240927\n",
              "22728  0.78  0.194999  0.375000  0.096192  0.22  0.324986  0.043491  0.121252\n",
              "22729  0.60  0.002499  0.520833  0.023046  0.40  0.002361  0.878805  0.250410\n",
              "22730  0.48  0.284666  0.374375  0.024048  0.52  0.210849  0.027544  0.032811"
            ],
            "text/html": [
              "\n",
              "  <div id=\"df-82351ab8-497f-4585-b644-e2bd8885d9de\">\n",
              "    <div class=\"colab-df-container\">\n",
              "      <div>\n",
              "<style scoped>\n",
              "    .dataframe tbody tr th:only-of-type {\n",
              "        vertical-align: middle;\n",
              "    }\n",
              "\n",
              "    .dataframe tbody tr th {\n",
              "        vertical-align: top;\n",
              "    }\n",
              "\n",
              "    .dataframe thead th {\n",
              "        text-align: right;\n",
              "    }\n",
              "</style>\n",
              "<table border=\"1\" class=\"dataframe\">\n",
              "  <thead>\n",
              "    <tr style=\"text-align: right;\">\n",
              "      <th></th>\n",
              "      <th>0</th>\n",
              "      <th>1</th>\n",
              "      <th>2</th>\n",
              "      <th>3</th>\n",
              "      <th>4</th>\n",
              "      <th>5</th>\n",
              "      <th>6</th>\n",
              "      <th>7</th>\n",
              "    </tr>\n",
              "  </thead>\n",
              "  <tbody>\n",
              "    <tr>\n",
              "      <th>22726</th>\n",
              "      <td>0.64</td>\n",
              "      <td>0.269999</td>\n",
              "      <td>0.687500</td>\n",
              "      <td>0.043086</td>\n",
              "      <td>0.36</td>\n",
              "      <td>0.284196</td>\n",
              "      <td>0.353436</td>\n",
              "      <td>0.226527</td>\n",
              "    </tr>\n",
              "    <tr>\n",
              "      <th>22727</th>\n",
              "      <td>0.88</td>\n",
              "      <td>0.050999</td>\n",
              "      <td>0.375000</td>\n",
              "      <td>0.148297</td>\n",
              "      <td>0.12</td>\n",
              "      <td>0.145697</td>\n",
              "      <td>0.450855</td>\n",
              "      <td>0.240927</td>\n",
              "    </tr>\n",
              "    <tr>\n",
              "      <th>22728</th>\n",
              "      <td>0.78</td>\n",
              "      <td>0.194999</td>\n",
              "      <td>0.375000</td>\n",
              "      <td>0.096192</td>\n",
              "      <td>0.22</td>\n",
              "      <td>0.324986</td>\n",
              "      <td>0.043491</td>\n",
              "      <td>0.121252</td>\n",
              "    </tr>\n",
              "    <tr>\n",
              "      <th>22729</th>\n",
              "      <td>0.60</td>\n",
              "      <td>0.002499</td>\n",
              "      <td>0.520833</td>\n",
              "      <td>0.023046</td>\n",
              "      <td>0.40</td>\n",
              "      <td>0.002361</td>\n",
              "      <td>0.878805</td>\n",
              "      <td>0.250410</td>\n",
              "    </tr>\n",
              "    <tr>\n",
              "      <th>22730</th>\n",
              "      <td>0.48</td>\n",
              "      <td>0.284666</td>\n",
              "      <td>0.374375</td>\n",
              "      <td>0.024048</td>\n",
              "      <td>0.52</td>\n",
              "      <td>0.210849</td>\n",
              "      <td>0.027544</td>\n",
              "      <td>0.032811</td>\n",
              "    </tr>\n",
              "  </tbody>\n",
              "</table>\n",
              "</div>\n",
              "      <button class=\"colab-df-convert\" onclick=\"convertToInteractive('df-82351ab8-497f-4585-b644-e2bd8885d9de')\"\n",
              "              title=\"Convert this dataframe to an interactive table.\"\n",
              "              style=\"display:none;\">\n",
              "        \n",
              "  <svg xmlns=\"http://www.w3.org/2000/svg\" height=\"24px\"viewBox=\"0 0 24 24\"\n",
              "       width=\"24px\">\n",
              "    <path d=\"M0 0h24v24H0V0z\" fill=\"none\"/>\n",
              "    <path d=\"M18.56 5.44l.94 2.06.94-2.06 2.06-.94-2.06-.94-.94-2.06-.94 2.06-2.06.94zm-11 1L8.5 8.5l.94-2.06 2.06-.94-2.06-.94L8.5 2.5l-.94 2.06-2.06.94zm10 10l.94 2.06.94-2.06 2.06-.94-2.06-.94-.94-2.06-.94 2.06-2.06.94z\"/><path d=\"M17.41 7.96l-1.37-1.37c-.4-.4-.92-.59-1.43-.59-.52 0-1.04.2-1.43.59L10.3 9.45l-7.72 7.72c-.78.78-.78 2.05 0 2.83L4 21.41c.39.39.9.59 1.41.59.51 0 1.02-.2 1.41-.59l7.78-7.78 2.81-2.81c.8-.78.8-2.07 0-2.86zM5.41 20L4 18.59l7.72-7.72 1.47 1.35L5.41 20z\"/>\n",
              "  </svg>\n",
              "      </button>\n",
              "      \n",
              "  <style>\n",
              "    .colab-df-container {\n",
              "      display:flex;\n",
              "      flex-wrap:wrap;\n",
              "      gap: 12px;\n",
              "    }\n",
              "\n",
              "    .colab-df-convert {\n",
              "      background-color: #E8F0FE;\n",
              "      border: none;\n",
              "      border-radius: 50%;\n",
              "      cursor: pointer;\n",
              "      display: none;\n",
              "      fill: #1967D2;\n",
              "      height: 32px;\n",
              "      padding: 0 0 0 0;\n",
              "      width: 32px;\n",
              "    }\n",
              "\n",
              "    .colab-df-convert:hover {\n",
              "      background-color: #E2EBFA;\n",
              "      box-shadow: 0px 1px 2px rgba(60, 64, 67, 0.3), 0px 1px 3px 1px rgba(60, 64, 67, 0.15);\n",
              "      fill: #174EA6;\n",
              "    }\n",
              "\n",
              "    [theme=dark] .colab-df-convert {\n",
              "      background-color: #3B4455;\n",
              "      fill: #D2E3FC;\n",
              "    }\n",
              "\n",
              "    [theme=dark] .colab-df-convert:hover {\n",
              "      background-color: #434B5C;\n",
              "      box-shadow: 0px 1px 3px 1px rgba(0, 0, 0, 0.15);\n",
              "      filter: drop-shadow(0px 1px 2px rgba(0, 0, 0, 0.3));\n",
              "      fill: #FFFFFF;\n",
              "    }\n",
              "  </style>\n",
              "\n",
              "      <script>\n",
              "        const buttonEl =\n",
              "          document.querySelector('#df-82351ab8-497f-4585-b644-e2bd8885d9de button.colab-df-convert');\n",
              "        buttonEl.style.display =\n",
              "          google.colab.kernel.accessAllowed ? 'block' : 'none';\n",
              "\n",
              "        async function convertToInteractive(key) {\n",
              "          const element = document.querySelector('#df-82351ab8-497f-4585-b644-e2bd8885d9de');\n",
              "          const dataTable =\n",
              "            await google.colab.kernel.invokeFunction('convertToInteractive',\n",
              "                                                     [key], {});\n",
              "          if (!dataTable) return;\n",
              "\n",
              "          const docLinkHtml = 'Like what you see? Visit the ' +\n",
              "            '<a target=\"_blank\" href=https://colab.research.google.com/notebooks/data_table.ipynb>data table notebook</a>'\n",
              "            + ' to learn more about interactive tables.';\n",
              "          element.innerHTML = '';\n",
              "          dataTable['output_type'] = 'display_data';\n",
              "          await google.colab.output.renderOutput(dataTable, element);\n",
              "          const docLink = document.createElement('div');\n",
              "          docLink.innerHTML = docLinkHtml;\n",
              "          element.appendChild(docLink);\n",
              "        }\n",
              "      </script>\n",
              "    </div>\n",
              "  </div>\n",
              "  "
            ]
          },
          "metadata": {},
          "execution_count": 359
        }
      ]
    },
    {
      "cell_type": "markdown",
      "source": [
        "Строим модель"
      ],
      "metadata": {
        "id": "o9hlkleCCdUf"
      }
    },
    {
      "cell_type": "code",
      "source": [
        "Log2= LogisticRegression(fit_intercept=True, penalty='l2', solver='saga', C=1, max_iter=100000)"
      ],
      "metadata": {
        "id": "SZqyrh2nCDa6"
      },
      "execution_count": null,
      "outputs": []
    },
    {
      "cell_type": "code",
      "source": [
        "Log2.fit(X2_train, y2_train)"
      ],
      "metadata": {
        "colab": {
          "base_uri": "https://localhost:8080/"
        },
        "id": "M9yjNuahCkRf",
        "outputId": "c33c617e-2cb9-48d2-d05f-ac678d93486d"
      },
      "execution_count": null,
      "outputs": [
        {
          "output_type": "execute_result",
          "data": {
            "text/plain": [
              "LogisticRegression(C=1, max_iter=100000, solver='saga')"
            ]
          },
          "metadata": {},
          "execution_count": 361
        }
      ]
    },
    {
      "cell_type": "code",
      "source": [
        "y2_pred = Log2.predict(X2_test)"
      ],
      "metadata": {
        "id": "MKTUdqzhCqnI"
      },
      "execution_count": null,
      "outputs": []
    },
    {
      "cell_type": "markdown",
      "source": [
        "Смотрим результат"
      ],
      "metadata": {
        "id": "jIH-2DrfCxdh"
      }
    },
    {
      "cell_type": "code",
      "source": [
        "print('Оценка обучающего набора: {:.4f}'.format(Log2.score(X2_train, y2_train)))\n",
        "print('Оценка тестового набора: {:.4f}'.format(Log2.score(X2_test, y2_test)))"
      ],
      "metadata": {
        "colab": {
          "base_uri": "https://localhost:8080/"
        },
        "id": "DxlySzNsC15A",
        "outputId": "6fb3dc56-86e7-4459-8553-0c64b96ea887"
      },
      "execution_count": null,
      "outputs": [
        {
          "output_type": "stream",
          "name": "stdout",
          "text": [
            "Оценка обучающего набора: 0.8119\n",
            "Оценка тестового набора: 0.8166\n"
          ]
        }
      ]
    },
    {
      "cell_type": "code",
      "source": [
        "model(y2_test, y2_pred)"
      ],
      "metadata": {
        "colab": {
          "base_uri": "https://localhost:8080/",
          "height": 470
        },
        "id": "JW3GAUAhC2Bw",
        "outputId": "fa46e08b-686a-4c01-e1c3-d69684317d37"
      },
      "execution_count": null,
      "outputs": [
        {
          "output_type": "display_data",
          "data": {
            "text/plain": [
              "<Figure size 432x288 with 2 Axes>"
            ],
            "image/png": "[encoded data removed]"
          },
          "metadata": {
            "needs_background": "light"
          }
        },
        {
          "output_type": "stream",
          "name": "stdout",
          "text": [
            "Модель правильно классифицировала  3338  показатель, который принадлежал к классу 0 (истинно отрицательные исходы)\n",
            "Модель правильно классифицировала  4618  показатель, который принадлежал к классу 1 (истинно положительные исходы)\n",
            "Модель ошибочно классифицировала  1084  показатель, из класса 0 как класс 1 (ложноположительные исходы)\n",
            "Модель ошибочно классифицировала  703  показатель, из класса 1 как класс 0 (ложноотрицательные исходы)\n",
            "\n",
            "Точность модели = TP+TN/(TP+TN+FP+FN) =  0.8166\n",
            "Чувствительность или доля истинно положительных результатов = TP/(TP+FN) =  0.8679\n",
            "Доля истинно отрицательных результатов = TN/(TN+FP) =  0.7549\n",
            "Положительное прогностическое значение = TP/(TP+FP) =  0.8099\n",
            "Отрицательное прогностическое значение = TN/(TN+FN) =  0.826\n"
          ]
        }
      ]
    },
    {
      "cell_type": "code",
      "source": [
        "print (classification_report(y2_test, y2_pred, target_names=['Manual','Automatic']))"
      ],
      "metadata": {
        "colab": {
          "base_uri": "https://localhost:8080/"
        },
        "id": "uZnYYW7MDDpk",
        "outputId": "67e2ff7a-99cb-4457-9f4d-85a91f9e123c"
      },
      "execution_count": null,
      "outputs": [
        {
          "output_type": "stream",
          "name": "stdout",
          "text": [
            "              precision    recall  f1-score   support\n",
            "\n",
            "      Manual       0.83      0.75      0.79      4422\n",
            "   Automatic       0.81      0.87      0.84      5321\n",
            "\n",
            "    accuracy                           0.82      9743\n",
            "   macro avg       0.82      0.81      0.81      9743\n",
            "weighted avg       0.82      0.82      0.82      9743\n",
            "\n"
          ]
        }
      ]
    },
    {
      "cell_type": "markdown",
      "source": [
        "### 2.2.3. Добавление категориальных признаков"
      ],
      "metadata": {
        "id": "jawhJG8yDQ9O"
      }
    },
    {
      "cell_type": "code",
      "source": [
        "df_oh = df_i.copy()\n",
        "df_oh"
      ],
      "metadata": {
        "colab": {
          "base_uri": "https://localhost:8080/",
          "height": 424
        },
        "id": "T_hMRhzxDV6P",
        "outputId": "d4491cd5-d201-45a4-fde7-9821546e50a6"
      },
      "execution_count": null,
      "outputs": [
        {
          "output_type": "execute_result",
          "data": {
            "text/plain": [
              "             Make         Model  Year      Style  Distance  \\\n",
              "0          Toyota         Prius  2011  Hatchback  195000.0   \n",
              "1         Renault  Grand Scenic  2014  Universal  135000.0   \n",
              "2         Renault        Laguna  2012  Universal  110000.0   \n",
              "3            Opel         Astra  2006  Universal  200000.0   \n",
              "4        Mercedes          Vito  2000   Microvan  300000.0   \n",
              "...           ...           ...   ...        ...       ...   \n",
              "32469  Volkswagen        Passat  2016      Sedan   88000.0   \n",
              "32470  Land Rover    Freelander  2002  Crossover  225000.0   \n",
              "32471       Dacia     Logan Mcv  2015  Universal   89000.0   \n",
              "32472       Mazda             6  2006      Combi  370000.0   \n",
              "32473     Renault  Grand Scenic  2006    Minivan  300000.0   \n",
              "\n",
              "       Engine_capacity(cm3)     Fuel_type Transmission  Price(euro)  Age  \\\n",
              "0                    1800.0        Hybrid    Automatic       7750.0   11   \n",
              "1                    1500.0        Diesel       Manual       8550.0    8   \n",
              "2                    1500.0        Diesel       Manual       6550.0   10   \n",
              "3                    1600.0  Metan/Propan       Manual       4100.0   16   \n",
              "4                    2200.0        Diesel       Manual       3490.0   22   \n",
              "...                     ...           ...          ...          ...  ...   \n",
              "32469                1800.0        Petrol    Automatic      11500.0    6   \n",
              "32470                1800.0  Metan/Propan       Manual       4400.0   20   \n",
              "32471                1500.0        Diesel       Manual       7000.0    7   \n",
              "32472                2000.0        Diesel       Manual       4000.0   16   \n",
              "32473                1500.0        Diesel       Manual       4000.0   16   \n",
              "\n",
              "            km_year        km_year_q  Make_val  Price_mean_make  \n",
              "0      17727.272727     high_mileage      3091      9629.435781  \n",
              "1      16875.000000  average_mileage      2371      6624.550822  \n",
              "2      11000.000000   little_mileage      2371      6624.550822  \n",
              "3      12500.000000  average_mileage      1867      4169.550080  \n",
              "4      13636.363636  average_mileage      3032     12960.053100  \n",
              "...             ...              ...       ...              ...  \n",
              "32469  14666.666667  average_mileage      3450      6839.976522  \n",
              "32470  11250.000000   little_mileage       288     22631.614583  \n",
              "32471  12714.285714  average_mileage      1348      5327.074926  \n",
              "32472  23125.000000     high_mileage       444      5145.808559  \n",
              "32473  18750.000000     high_mileage      2371      6624.550822  \n",
              "\n",
              "[32474 rows x 14 columns]"
            ],
            "text/html": [
              "\n",
              "  <div id=\"df-18dddd30-f2e4-489e-bf9d-ec63efc15349\">\n",
              "    <div class=\"colab-df-container\">\n",
              "      <div>\n",
              "<style scoped>\n",
              "    .dataframe tbody tr th:only-of-type {\n",
              "        vertical-align: middle;\n",
              "    }\n",
              "\n",
              "    .dataframe tbody tr th {\n",
              "        vertical-align: top;\n",
              "    }\n",
              "\n",
              "    .dataframe thead th {\n",
              "        text-align: right;\n",
              "    }\n",
              "</style>\n",
              "<table border=\"1\" class=\"dataframe\">\n",
              "  <thead>\n",
              "    <tr style=\"text-align: right;\">\n",
              "      <th></th>\n",
              "      <th>Make</th>\n",
              "      <th>Model</th>\n",
              "      <th>Year</th>\n",
              "      <th>Style</th>\n",
              "      <th>Distance</th>\n",
              "      <th>Engine_capacity(cm3)</th>\n",
              "      <th>Fuel_type</th>\n",
              "      <th>Transmission</th>\n",
              "      <th>Price(euro)</th>\n",
              "      <th>Age</th>\n",
              "      <th>km_year</th>\n",
              "      <th>km_year_q</th>\n",
              "      <th>Make_val</th>\n",
              "      <th>Price_mean_make</th>\n",
              "    </tr>\n",
              "  </thead>\n",
              "  <tbody>\n",
              "    <tr>\n",
              "      <th>0</th>\n",
              "      <td>Toyota</td>\n",
              "      <td>Prius</td>\n",
              "      <td>2011</td>\n",
              "      <td>Hatchback</td>\n",
              "      <td>195000.0</td>\n",
              "      <td>1800.0</td>\n",
              "      <td>Hybrid</td>\n",
              "      <td>Automatic</td>\n",
              "      <td>7750.0</td>\n",
              "      <td>11</td>\n",
              "      <td>17727.272727</td>\n",
              "      <td>high_mileage</td>\n",
              "      <td>3091</td>\n",
              "      <td>9629.435781</td>\n",
              "    </tr>\n",
              "    <tr>\n",
              "      <th>1</th>\n",
              "      <td>Renault</td>\n",
              "      <td>Grand Scenic</td>\n",
              "      <td>2014</td>\n",
              "      <td>Universal</td>\n",
              "      <td>135000.0</td>\n",
              "      <td>1500.0</td>\n",
              "      <td>Diesel</td>\n",
              "      <td>Manual</td>\n",
              "      <td>8550.0</td>\n",
              "      <td>8</td>\n",
              "      <td>16875.000000</td>\n",
              "      <td>average_mileage</td>\n",
              "      <td>2371</td>\n",
              "      <td>6624.550822</td>\n",
              "    </tr>\n",
              "    <tr>\n",
              "      <th>2</th>\n",
              "      <td>Renault</td>\n",
              "      <td>Laguna</td>\n",
              "      <td>2012</td>\n",
              "      <td>Universal</td>\n",
              "      <td>110000.0</td>\n",
              "      <td>1500.0</td>\n",
              "      <td>Diesel</td>\n",
              "      <td>Manual</td>\n",
              "      <td>6550.0</td>\n",
              "      <td>10</td>\n",
              "      <td>11000.000000</td>\n",
              "      <td>little_mileage</td>\n",
              "      <td>2371</td>\n",
              "      <td>6624.550822</td>\n",
              "    </tr>\n",
              "    <tr>\n",
              "      <th>3</th>\n",
              "      <td>Opel</td>\n",
              "      <td>Astra</td>\n",
              "      <td>2006</td>\n",
              "      <td>Universal</td>\n",
              "      <td>200000.0</td>\n",
              "      <td>1600.0</td>\n",
              "      <td>Metan/Propan</td>\n",
              "      <td>Manual</td>\n",
              "      <td>4100.0</td>\n",
              "      <td>16</td>\n",
              "      <td>12500.000000</td>\n",
              "      <td>average_mileage</td>\n",
              "      <td>1867</td>\n",
              "      <td>4169.550080</td>\n",
              "    </tr>\n",
              "    <tr>\n",
              "      <th>4</th>\n",
              "      <td>Mercedes</td>\n",
              "      <td>Vito</td>\n",
              "      <td>2000</td>\n",
              "      <td>Microvan</td>\n",
              "      <td>300000.0</td>\n",
              "      <td>2200.0</td>\n",
              "      <td>Diesel</td>\n",
              "      <td>Manual</td>\n",
              "      <td>3490.0</td>\n",
              "      <td>22</td>\n",
              "      <td>13636.363636</td>\n",
              "      <td>average_mileage</td>\n",
              "      <td>3032</td>\n",
              "      <td>12960.053100</td>\n",
              "    </tr>\n",
              "    <tr>\n",
              "      <th>...</th>\n",
              "      <td>...</td>\n",
              "      <td>...</td>\n",
              "      <td>...</td>\n",
              "      <td>...</td>\n",
              "      <td>...</td>\n",
              "      <td>...</td>\n",
              "      <td>...</td>\n",
              "      <td>...</td>\n",
              "      <td>...</td>\n",
              "      <td>...</td>\n",
              "      <td>...</td>\n",
              "      <td>...</td>\n",
              "      <td>...</td>\n",
              "      <td>...</td>\n",
              "    </tr>\n",
              "    <tr>\n",
              "      <th>32469</th>\n",
              "      <td>Volkswagen</td>\n",
              "      <td>Passat</td>\n",
              "      <td>2016</td>\n",
              "      <td>Sedan</td>\n",
              "      <td>88000.0</td>\n",
              "      <td>1800.0</td>\n",
              "      <td>Petrol</td>\n",
              "      <td>Automatic</td>\n",
              "      <td>11500.0</td>\n",
              "      <td>6</td>\n",
              "      <td>14666.666667</td>\n",
              "      <td>average_mileage</td>\n",
              "      <td>3450</td>\n",
              "      <td>6839.976522</td>\n",
              "    </tr>\n",
              "    <tr>\n",
              "      <th>32470</th>\n",
              "      <td>Land Rover</td>\n",
              "      <td>Freelander</td>\n",
              "      <td>2002</td>\n",
              "      <td>Crossover</td>\n",
              "      <td>225000.0</td>\n",
              "      <td>1800.0</td>\n",
              "      <td>Metan/Propan</td>\n",
              "      <td>Manual</td>\n",
              "      <td>4400.0</td>\n",
              "      <td>20</td>\n",
              "      <td>11250.000000</td>\n",
              "      <td>little_mileage</td>\n",
              "      <td>288</td>\n",
              "      <td>22631.614583</td>\n",
              "    </tr>\n",
              "    <tr>\n",
              "      <th>32471</th>\n",
              "      <td>Dacia</td>\n",
              "      <td>Logan Mcv</td>\n",
              "      <td>2015</td>\n",
              "      <td>Universal</td>\n",
              "      <td>89000.0</td>\n",
              "      <td>1500.0</td>\n",
              "      <td>Diesel</td>\n",
              "      <td>Manual</td>\n",
              "      <td>7000.0</td>\n",
              "      <td>7</td>\n",
              "      <td>12714.285714</td>\n",
              "      <td>average_mileage</td>\n",
              "      <td>1348</td>\n",
              "      <td>5327.074926</td>\n",
              "    </tr>\n",
              "    <tr>\n",
              "      <th>32472</th>\n",
              "      <td>Mazda</td>\n",
              "      <td>6</td>\n",
              "      <td>2006</td>\n",
              "      <td>Combi</td>\n",
              "      <td>370000.0</td>\n",
              "      <td>2000.0</td>\n",
              "      <td>Diesel</td>\n",
              "      <td>Manual</td>\n",
              "      <td>4000.0</td>\n",
              "      <td>16</td>\n",
              "      <td>23125.000000</td>\n",
              "      <td>high_mileage</td>\n",
              "      <td>444</td>\n",
              "      <td>5145.808559</td>\n",
              "    </tr>\n",
              "    <tr>\n",
              "      <th>32473</th>\n",
              "      <td>Renault</td>\n",
              "      <td>Grand Scenic</td>\n",
              "      <td>2006</td>\n",
              "      <td>Minivan</td>\n",
              "      <td>300000.0</td>\n",
              "      <td>1500.0</td>\n",
              "      <td>Diesel</td>\n",
              "      <td>Manual</td>\n",
              "      <td>4000.0</td>\n",
              "      <td>16</td>\n",
              "      <td>18750.000000</td>\n",
              "      <td>high_mileage</td>\n",
              "      <td>2371</td>\n",
              "      <td>6624.550822</td>\n",
              "    </tr>\n",
              "  </tbody>\n",
              "</table>\n",
              "<p>32474 rows × 14 columns</p>\n",
              "</div>\n",
              "      <button class=\"colab-df-convert\" onclick=\"convertToInteractive('df-18dddd30-f2e4-489e-bf9d-ec63efc15349')\"\n",
              "              title=\"Convert this dataframe to an interactive table.\"\n",
              "              style=\"display:none;\">\n",
              "        \n",
              "  <svg xmlns=\"http://www.w3.org/2000/svg\" height=\"24px\"viewBox=\"0 0 24 24\"\n",
              "       width=\"24px\">\n",
              "    <path d=\"M0 0h24v24H0V0z\" fill=\"none\"/>\n",
              "    <path d=\"M18.56 5.44l.94 2.06.94-2.06 2.06-.94-2.06-.94-.94-2.06-.94 2.06-2.06.94zm-11 1L8.5 8.5l.94-2.06 2.06-.94-2.06-.94L8.5 2.5l-.94 2.06-2.06.94zm10 10l.94 2.06.94-2.06 2.06-.94-2.06-.94-.94-2.06-.94 2.06-2.06.94z\"/><path d=\"M17.41 7.96l-1.37-1.37c-.4-.4-.92-.59-1.43-.59-.52 0-1.04.2-1.43.59L10.3 9.45l-7.72 7.72c-.78.78-.78 2.05 0 2.83L4 21.41c.39.39.9.59 1.41.59.51 0 1.02-.2 1.41-.59l7.78-7.78 2.81-2.81c.8-.78.8-2.07 0-2.86zM5.41 20L4 18.59l7.72-7.72 1.47 1.35L5.41 20z\"/>\n",
              "  </svg>\n",
              "      </button>\n",
              "      \n",
              "  <style>\n",
              "    .colab-df-container {\n",
              "      display:flex;\n",
              "      flex-wrap:wrap;\n",
              "      gap: 12px;\n",
              "    }\n",
              "\n",
              "    .colab-df-convert {\n",
              "      background-color: #E8F0FE;\n",
              "      border: none;\n",
              "      border-radius: 50%;\n",
              "      cursor: pointer;\n",
              "      display: none;\n",
              "      fill: #1967D2;\n",
              "      height: 32px;\n",
              "      padding: 0 0 0 0;\n",
              "      width: 32px;\n",
              "    }\n",
              "\n",
              "    .colab-df-convert:hover {\n",
              "      background-color: #E2EBFA;\n",
              "      box-shadow: 0px 1px 2px rgba(60, 64, 67, 0.3), 0px 1px 3px 1px rgba(60, 64, 67, 0.15);\n",
              "      fill: #174EA6;\n",
              "    }\n",
              "\n",
              "    [theme=dark] .colab-df-convert {\n",
              "      background-color: #3B4455;\n",
              "      fill: #D2E3FC;\n",
              "    }\n",
              "\n",
              "    [theme=dark] .colab-df-convert:hover {\n",
              "      background-color: #434B5C;\n",
              "      box-shadow: 0px 1px 3px 1px rgba(0, 0, 0, 0.15);\n",
              "      filter: drop-shadow(0px 1px 2px rgba(0, 0, 0, 0.3));\n",
              "      fill: #FFFFFF;\n",
              "    }\n",
              "  </style>\n",
              "\n",
              "      <script>\n",
              "        const buttonEl =\n",
              "          document.querySelector('#df-18dddd30-f2e4-489e-bf9d-ec63efc15349 button.colab-df-convert');\n",
              "        buttonEl.style.display =\n",
              "          google.colab.kernel.accessAllowed ? 'block' : 'none';\n",
              "\n",
              "        async function convertToInteractive(key) {\n",
              "          const element = document.querySelector('#df-18dddd30-f2e4-489e-bf9d-ec63efc15349');\n",
              "          const dataTable =\n",
              "            await google.colab.kernel.invokeFunction('convertToInteractive',\n",
              "                                                     [key], {});\n",
              "          if (!dataTable) return;\n",
              "\n",
              "          const docLinkHtml = 'Like what you see? Visit the ' +\n",
              "            '<a target=\"_blank\" href=https://colab.research.google.com/notebooks/data_table.ipynb>data table notebook</a>'\n",
              "            + ' to learn more about interactive tables.';\n",
              "          element.innerHTML = '';\n",
              "          dataTable['output_type'] = 'display_data';\n",
              "          await google.colab.output.renderOutput(dataTable, element);\n",
              "          const docLink = document.createElement('div');\n",
              "          docLink.innerHTML = docLinkHtml;\n",
              "          element.appendChild(docLink);\n",
              "        }\n",
              "      </script>\n",
              "    </div>\n",
              "  </div>\n",
              "  "
            ]
          },
          "metadata": {},
          "execution_count": 367
        }
      ]
    },
    {
      "cell_type": "code",
      "source": [
        "cat_columns_oh = ['Make', 'Model', 'Style', 'Fuel_type'] "
      ],
      "metadata": {
        "id": "_7vgUuIGIgrj"
      },
      "execution_count": null,
      "outputs": []
    },
    {
      "cell_type": "code",
      "source": [
        "df_dum = df_oh.copy()\n",
        "df_dum = pd.get_dummies(df_dum[cat_columns_oh])\n",
        "df_dum"
      ],
      "metadata": {
        "colab": {
          "base_uri": "https://localhost:8080/",
          "height": 505
        },
        "id": "s7OWQ_qdG_dj",
        "outputId": "9f296737-b1b3-40c1-f0c7-cef39da7c6b3"
      },
      "execution_count": null,
      "outputs": [
        {
          "output_type": "execute_result",
          "data": {
            "text/plain": [
              "       Make_Alfa Romeo  Make_Audi  Make_BMW  Make_Chevrolet  Make_Chrysler  \\\n",
              "0                    0          0         0               0              0   \n",
              "1                    0          0         0               0              0   \n",
              "2                    0          0         0               0              0   \n",
              "3                    0          0         0               0              0   \n",
              "4                    0          0         0               0              0   \n",
              "...                ...        ...       ...             ...            ...   \n",
              "32469                0          0         0               0              0   \n",
              "32470                0          0         0               0              0   \n",
              "32471                0          0         0               0              0   \n",
              "32472                0          0         0               0              0   \n",
              "32473                0          0         0               0              0   \n",
              "\n",
              "       Make_Citroen  Make_Dacia  Make_Daewoo  Make_Daihatsu  Make_Dodge  ...  \\\n",
              "0                 0           0            0              0           0  ...   \n",
              "1                 0           0            0              0           0  ...   \n",
              "2                 0           0            0              0           0  ...   \n",
              "3                 0           0            0              0           0  ...   \n",
              "4                 0           0            0              0           0  ...   \n",
              "...             ...         ...          ...            ...         ...  ...   \n",
              "32469             0           0            0              0           0  ...   \n",
              "32470             0           0            0              0           0  ...   \n",
              "32471             0           1            0              0           0  ...   \n",
              "32472             0           0            0              0           0  ...   \n",
              "32473             0           0            0              0           0  ...   \n",
              "\n",
              "       Style_Roadster  Style_SUV  Style_Sedan  Style_Universal  \\\n",
              "0                   0          0            0                0   \n",
              "1                   0          0            0                1   \n",
              "2                   0          0            0                1   \n",
              "3                   0          0            0                1   \n",
              "4                   0          0            0                0   \n",
              "...               ...        ...          ...              ...   \n",
              "32469               0          0            1                0   \n",
              "32470               0          0            0                0   \n",
              "32471               0          0            0                1   \n",
              "32472               0          0            0                0   \n",
              "32473               0          0            0                0   \n",
              "\n",
              "       Fuel_type_Diesel  Fuel_type_Electric  Fuel_type_Hybrid  \\\n",
              "0                     0                   0                 1   \n",
              "1                     1                   0                 0   \n",
              "2                     1                   0                 0   \n",
              "3                     0                   0                 0   \n",
              "4                     1                   0                 0   \n",
              "...                 ...                 ...               ...   \n",
              "32469                 0                   0                 0   \n",
              "32470                 0                   0                 0   \n",
              "32471                 1                   0                 0   \n",
              "32472                 1                   0                 0   \n",
              "32473                 1                   0                 0   \n",
              "\n",
              "       Fuel_type_Metan/Propan  Fuel_type_Petrol  Fuel_type_Plug-in Hybrid  \n",
              "0                           0                 0                         0  \n",
              "1                           0                 0                         0  \n",
              "2                           0                 0                         0  \n",
              "3                           1                 0                         0  \n",
              "4                           0                 0                         0  \n",
              "...                       ...               ...                       ...  \n",
              "32469                       0                 1                         0  \n",
              "32470                       1                 0                         0  \n",
              "32471                       0                 0                         0  \n",
              "32472                       0                 0                         0  \n",
              "32473                       0                 0                         0  \n",
              "\n",
              "[32474 rows x 845 columns]"
            ],
            "text/html": [
              "\n",
              "  <div id=\"df-0feff7ea-269d-41ab-9fa3-7025915ce347\">\n",
              "    <div class=\"colab-df-container\">\n",
              "      <div>\n",
              "<style scoped>\n",
              "    .dataframe tbody tr th:only-of-type {\n",
              "        vertical-align: middle;\n",
              "    }\n",
              "\n",
              "    .dataframe tbody tr th {\n",
              "        vertical-align: top;\n",
              "    }\n",
              "\n",
              "    .dataframe thead th {\n",
              "        text-align: right;\n",
              "    }\n",
              "</style>\n",
              "<table border=\"1\" class=\"dataframe\">\n",
              "  <thead>\n",
              "    <tr style=\"text-align: right;\">\n",
              "      <th></th>\n",
              "      <th>Make_Alfa Romeo</th>\n",
              "      <th>Make_Audi</th>\n",
              "      <th>Make_BMW</th>\n",
              "      <th>Make_Chevrolet</th>\n",
              "      <th>Make_Chrysler</th>\n",
              "      <th>Make_Citroen</th>\n",
              "      <th>Make_Dacia</th>\n",
              "      <th>Make_Daewoo</th>\n",
              "      <th>Make_Daihatsu</th>\n",
              "      <th>Make_Dodge</th>\n",
              "      <th>...</th>\n",
              "      <th>Style_Roadster</th>\n",
              "      <th>Style_SUV</th>\n",
              "      <th>Style_Sedan</th>\n",
              "      <th>Style_Universal</th>\n",
              "      <th>Fuel_type_Diesel</th>\n",
              "      <th>Fuel_type_Electric</th>\n",
              "      <th>Fuel_type_Hybrid</th>\n",
              "      <th>Fuel_type_Metan/Propan</th>\n",
              "      <th>Fuel_type_Petrol</th>\n",
              "      <th>Fuel_type_Plug-in Hybrid</th>\n",
              "    </tr>\n",
              "  </thead>\n",
              "  <tbody>\n",
              "    <tr>\n",
              "      <th>0</th>\n",
              "      <td>0</td>\n",
              "      <td>0</td>\n",
              "      <td>0</td>\n",
              "      <td>0</td>\n",
              "      <td>0</td>\n",
              "      <td>0</td>\n",
              "      <td>0</td>\n",
              "      <td>0</td>\n",
              "      <td>0</td>\n",
              "      <td>0</td>\n",
              "      <td>...</td>\n",
              "      <td>0</td>\n",
              "      <td>0</td>\n",
              "      <td>0</td>\n",
              "      <td>0</td>\n",
              "      <td>0</td>\n",
              "      <td>0</td>\n",
              "      <td>1</td>\n",
              "      <td>0</td>\n",
              "      <td>0</td>\n",
              "      <td>0</td>\n",
              "    </tr>\n",
              "    <tr>\n",
              "      <th>1</th>\n",
              "      <td>0</td>\n",
              "      <td>0</td>\n",
              "      <td>0</td>\n",
              "      <td>0</td>\n",
              "      <td>0</td>\n",
              "      <td>0</td>\n",
              "      <td>0</td>\n",
              "      <td>0</td>\n",
              "      <td>0</td>\n",
              "      <td>0</td>\n",
              "      <td>...</td>\n",
              "      <td>0</td>\n",
              "      <td>0</td>\n",
              "      <td>0</td>\n",
              "      <td>1</td>\n",
              "      <td>1</td>\n",
              "      <td>0</td>\n",
              "      <td>0</td>\n",
              "      <td>0</td>\n",
              "      <td>0</td>\n",
              "      <td>0</td>\n",
              "    </tr>\n",
              "    <tr>\n",
              "      <th>2</th>\n",
              "      <td>0</td>\n",
              "      <td>0</td>\n",
              "      <td>0</td>\n",
              "      <td>0</td>\n",
              "      <td>0</td>\n",
              "      <td>0</td>\n",
              "      <td>0</td>\n",
              "      <td>0</td>\n",
              "      <td>0</td>\n",
              "      <td>0</td>\n",
              "      <td>...</td>\n",
              "      <td>0</td>\n",
              "      <td>0</td>\n",
              "      <td>0</td>\n",
              "      <td>1</td>\n",
              "      <td>1</td>\n",
              "      <td>0</td>\n",
              "      <td>0</td>\n",
              "      <td>0</td>\n",
              "      <td>0</td>\n",
              "      <td>0</td>\n",
              "    </tr>\n",
              "    <tr>\n",
              "      <th>3</th>\n",
              "      <td>0</td>\n",
              "      <td>0</td>\n",
              "      <td>0</td>\n",
              "      <td>0</td>\n",
              "      <td>0</td>\n",
              "      <td>0</td>\n",
              "      <td>0</td>\n",
              "      <td>0</td>\n",
              "      <td>0</td>\n",
              "      <td>0</td>\n",
              "      <td>...</td>\n",
              "      <td>0</td>\n",
              "      <td>0</td>\n",
              "      <td>0</td>\n",
              "      <td>1</td>\n",
              "      <td>0</td>\n",
              "      <td>0</td>\n",
              "      <td>0</td>\n",
              "      <td>1</td>\n",
              "      <td>0</td>\n",
              "      <td>0</td>\n",
              "    </tr>\n",
              "    <tr>\n",
              "      <th>4</th>\n",
              "      <td>0</td>\n",
              "      <td>0</td>\n",
              "      <td>0</td>\n",
              "      <td>0</td>\n",
              "      <td>0</td>\n",
              "      <td>0</td>\n",
              "      <td>0</td>\n",
              "      <td>0</td>\n",
              "      <td>0</td>\n",
              "      <td>0</td>\n",
              "      <td>...</td>\n",
              "      <td>0</td>\n",
              "      <td>0</td>\n",
              "      <td>0</td>\n",
              "      <td>0</td>\n",
              "      <td>1</td>\n",
              "      <td>0</td>\n",
              "      <td>0</td>\n",
              "      <td>0</td>\n",
              "      <td>0</td>\n",
              "      <td>0</td>\n",
              "    </tr>\n",
              "    <tr>\n",
              "      <th>...</th>\n",
              "      <td>...</td>\n",
              "      <td>...</td>\n",
              "      <td>...</td>\n",
              "      <td>...</td>\n",
              "      <td>...</td>\n",
              "      <td>...</td>\n",
              "      <td>...</td>\n",
              "      <td>...</td>\n",
              "      <td>...</td>\n",
              "      <td>...</td>\n",
              "      <td>...</td>\n",
              "      <td>...</td>\n",
              "      <td>...</td>\n",
              "      <td>...</td>\n",
              "      <td>...</td>\n",
              "      <td>...</td>\n",
              "      <td>...</td>\n",
              "      <td>...</td>\n",
              "      <td>...</td>\n",
              "      <td>...</td>\n",
              "      <td>...</td>\n",
              "    </tr>\n",
              "    <tr>\n",
              "      <th>32469</th>\n",
              "      <td>0</td>\n",
              "      <td>0</td>\n",
              "      <td>0</td>\n",
              "      <td>0</td>\n",
              "      <td>0</td>\n",
              "      <td>0</td>\n",
              "      <td>0</td>\n",
              "      <td>0</td>\n",
              "      <td>0</td>\n",
              "      <td>0</td>\n",
              "      <td>...</td>\n",
              "      <td>0</td>\n",
              "      <td>0</td>\n",
              "      <td>1</td>\n",
              "      <td>0</td>\n",
              "      <td>0</td>\n",
              "      <td>0</td>\n",
              "      <td>0</td>\n",
              "      <td>0</td>\n",
              "      <td>1</td>\n",
              "      <td>0</td>\n",
              "    </tr>\n",
              "    <tr>\n",
              "      <th>32470</th>\n",
              "      <td>0</td>\n",
              "      <td>0</td>\n",
              "      <td>0</td>\n",
              "      <td>0</td>\n",
              "      <td>0</td>\n",
              "      <td>0</td>\n",
              "      <td>0</td>\n",
              "      <td>0</td>\n",
              "      <td>0</td>\n",
              "      <td>0</td>\n",
              "      <td>...</td>\n",
              "      <td>0</td>\n",
              "      <td>0</td>\n",
              "      <td>0</td>\n",
              "      <td>0</td>\n",
              "      <td>0</td>\n",
              "      <td>0</td>\n",
              "      <td>0</td>\n",
              "      <td>1</td>\n",
              "      <td>0</td>\n",
              "      <td>0</td>\n",
              "    </tr>\n",
              "    <tr>\n",
              "      <th>32471</th>\n",
              "      <td>0</td>\n",
              "      <td>0</td>\n",
              "      <td>0</td>\n",
              "      <td>0</td>\n",
              "      <td>0</td>\n",
              "      <td>0</td>\n",
              "      <td>1</td>\n",
              "      <td>0</td>\n",
              "      <td>0</td>\n",
              "      <td>0</td>\n",
              "      <td>...</td>\n",
              "      <td>0</td>\n",
              "      <td>0</td>\n",
              "      <td>0</td>\n",
              "      <td>1</td>\n",
              "      <td>1</td>\n",
              "      <td>0</td>\n",
              "      <td>0</td>\n",
              "      <td>0</td>\n",
              "      <td>0</td>\n",
              "      <td>0</td>\n",
              "    </tr>\n",
              "    <tr>\n",
              "      <th>32472</th>\n",
              "      <td>0</td>\n",
              "      <td>0</td>\n",
              "      <td>0</td>\n",
              "      <td>0</td>\n",
              "      <td>0</td>\n",
              "      <td>0</td>\n",
              "      <td>0</td>\n",
              "      <td>0</td>\n",
              "      <td>0</td>\n",
              "      <td>0</td>\n",
              "      <td>...</td>\n",
              "      <td>0</td>\n",
              "      <td>0</td>\n",
              "      <td>0</td>\n",
              "      <td>0</td>\n",
              "      <td>1</td>\n",
              "      <td>0</td>\n",
              "      <td>0</td>\n",
              "      <td>0</td>\n",
              "      <td>0</td>\n",
              "      <td>0</td>\n",
              "    </tr>\n",
              "    <tr>\n",
              "      <th>32473</th>\n",
              "      <td>0</td>\n",
              "      <td>0</td>\n",
              "      <td>0</td>\n",
              "      <td>0</td>\n",
              "      <td>0</td>\n",
              "      <td>0</td>\n",
              "      <td>0</td>\n",
              "      <td>0</td>\n",
              "      <td>0</td>\n",
              "      <td>0</td>\n",
              "      <td>...</td>\n",
              "      <td>0</td>\n",
              "      <td>0</td>\n",
              "      <td>0</td>\n",
              "      <td>0</td>\n",
              "      <td>1</td>\n",
              "      <td>0</td>\n",
              "      <td>0</td>\n",
              "      <td>0</td>\n",
              "      <td>0</td>\n",
              "      <td>0</td>\n",
              "    </tr>\n",
              "  </tbody>\n",
              "</table>\n",
              "<p>32474 rows × 845 columns</p>\n",
              "</div>\n",
              "      <button class=\"colab-df-convert\" onclick=\"convertToInteractive('df-0feff7ea-269d-41ab-9fa3-7025915ce347')\"\n",
              "              title=\"Convert this dataframe to an interactive table.\"\n",
              "              style=\"display:none;\">\n",
              "        \n",
              "  <svg xmlns=\"http://www.w3.org/2000/svg\" height=\"24px\"viewBox=\"0 0 24 24\"\n",
              "       width=\"24px\">\n",
              "    <path d=\"M0 0h24v24H0V0z\" fill=\"none\"/>\n",
              "    <path d=\"M18.56 5.44l.94 2.06.94-2.06 2.06-.94-2.06-.94-.94-2.06-.94 2.06-2.06.94zm-11 1L8.5 8.5l.94-2.06 2.06-.94-2.06-.94L8.5 2.5l-.94 2.06-2.06.94zm10 10l.94 2.06.94-2.06 2.06-.94-2.06-.94-.94-2.06-.94 2.06-2.06.94z\"/><path d=\"M17.41 7.96l-1.37-1.37c-.4-.4-.92-.59-1.43-.59-.52 0-1.04.2-1.43.59L10.3 9.45l-7.72 7.72c-.78.78-.78 2.05 0 2.83L4 21.41c.39.39.9.59 1.41.59.51 0 1.02-.2 1.41-.59l7.78-7.78 2.81-2.81c.8-.78.8-2.07 0-2.86zM5.41 20L4 18.59l7.72-7.72 1.47 1.35L5.41 20z\"/>\n",
              "  </svg>\n",
              "      </button>\n",
              "      \n",
              "  <style>\n",
              "    .colab-df-container {\n",
              "      display:flex;\n",
              "      flex-wrap:wrap;\n",
              "      gap: 12px;\n",
              "    }\n",
              "\n",
              "    .colab-df-convert {\n",
              "      background-color: #E8F0FE;\n",
              "      border: none;\n",
              "      border-radius: 50%;\n",
              "      cursor: pointer;\n",
              "      display: none;\n",
              "      fill: #1967D2;\n",
              "      height: 32px;\n",
              "      padding: 0 0 0 0;\n",
              "      width: 32px;\n",
              "    }\n",
              "\n",
              "    .colab-df-convert:hover {\n",
              "      background-color: #E2EBFA;\n",
              "      box-shadow: 0px 1px 2px rgba(60, 64, 67, 0.3), 0px 1px 3px 1px rgba(60, 64, 67, 0.15);\n",
              "      fill: #174EA6;\n",
              "    }\n",
              "\n",
              "    [theme=dark] .colab-df-convert {\n",
              "      background-color: #3B4455;\n",
              "      fill: #D2E3FC;\n",
              "    }\n",
              "\n",
              "    [theme=dark] .colab-df-convert:hover {\n",
              "      background-color: #434B5C;\n",
              "      box-shadow: 0px 1px 3px 1px rgba(0, 0, 0, 0.15);\n",
              "      filter: drop-shadow(0px 1px 2px rgba(0, 0, 0, 0.3));\n",
              "      fill: #FFFFFF;\n",
              "    }\n",
              "  </style>\n",
              "\n",
              "      <script>\n",
              "        const buttonEl =\n",
              "          document.querySelector('#df-0feff7ea-269d-41ab-9fa3-7025915ce347 button.colab-df-convert');\n",
              "        buttonEl.style.display =\n",
              "          google.colab.kernel.accessAllowed ? 'block' : 'none';\n",
              "\n",
              "        async function convertToInteractive(key) {\n",
              "          const element = document.querySelector('#df-0feff7ea-269d-41ab-9fa3-7025915ce347');\n",
              "          const dataTable =\n",
              "            await google.colab.kernel.invokeFunction('convertToInteractive',\n",
              "                                                     [key], {});\n",
              "          if (!dataTable) return;\n",
              "\n",
              "          const docLinkHtml = 'Like what you see? Visit the ' +\n",
              "            '<a target=\"_blank\" href=https://colab.research.google.com/notebooks/data_table.ipynb>data table notebook</a>'\n",
              "            + ' to learn more about interactive tables.';\n",
              "          element.innerHTML = '';\n",
              "          dataTable['output_type'] = 'display_data';\n",
              "          await google.colab.output.renderOutput(dataTable, element);\n",
              "          const docLink = document.createElement('div');\n",
              "          docLink.innerHTML = docLinkHtml;\n",
              "          element.appendChild(docLink);\n",
              "        }\n",
              "      </script>\n",
              "    </div>\n",
              "  </div>\n",
              "  "
            ]
          },
          "metadata": {},
          "execution_count": 376
        }
      ]
    },
    {
      "cell_type": "code",
      "source": [
        "df_dum['Year'] = df_scaled['Year']\n",
        "df_dum['Distance'] = df_scaled['Distance']\n",
        "df_dum['Engine_capacity(cm3)'] = df_scaled['Engine_capacity(cm3)']\n",
        "df_dum['Price(euro)'] = df_scaled['Price(euro)']\n",
        "df_dum['km_year'] = df_scaled['km_year']\n",
        "df_dum['Price_mean_make'] = df_scaled['Price_mean_make']\n",
        "df_dum['Transmission'] = df_scaled['Transmission']\n",
        "df_dum.head(2)"
      ],
      "metadata": {
        "colab": {
          "base_uri": "https://localhost:8080/",
          "height": 223
        },
        "id": "43b7UxjfHDDF",
        "outputId": "c3303b33-42f0-4b9e-a74a-07fae7a37bad"
      },
      "execution_count": null,
      "outputs": [
        {
          "output_type": "execute_result",
          "data": {
            "text/plain": [
              "   Make_Alfa Romeo  Make_Audi  Make_BMW  Make_Chevrolet  Make_Chrysler  \\\n",
              "0                0          0         0               0              0   \n",
              "1                0          0         0               0              0   \n",
              "\n",
              "   Make_Citroen  Make_Dacia  Make_Daewoo  Make_Daihatsu  Make_Dodge  ...  \\\n",
              "0             0           0            0              0           0  ...   \n",
              "1             0           0            0              0           0  ...   \n",
              "\n",
              "   Fuel_type_Metan/Propan  Fuel_type_Petrol  Fuel_type_Plug-in Hybrid  \\\n",
              "0                       0                 0                         0   \n",
              "1                       0                 0                         0   \n",
              "\n",
              "       Year  Distance  Engine_capacity(cm3)  Price(euro)   km_year  \\\n",
              "0  0.383647  0.142253             -0.110171    -0.174700  0.389158   \n",
              "1  0.797815 -0.471631             -0.602326    -0.090635  0.274376   \n",
              "\n",
              "   Price_mean_make  Transmission  \n",
              "0         0.050383             0  \n",
              "1        -0.647607             1  \n",
              "\n",
              "[2 rows x 852 columns]"
            ],
            "text/html": [
              "\n",
              "  <div id=\"df-f5ad8f58-3eae-4f0d-b3c3-7a716212e316\">\n",
              "    <div class=\"colab-df-container\">\n",
              "      <div>\n",
              "<style scoped>\n",
              "    .dataframe tbody tr th:only-of-type {\n",
              "        vertical-align: middle;\n",
              "    }\n",
              "\n",
              "    .dataframe tbody tr th {\n",
              "        vertical-align: top;\n",
              "    }\n",
              "\n",
              "    .dataframe thead th {\n",
              "        text-align: right;\n",
              "    }\n",
              "</style>\n",
              "<table border=\"1\" class=\"dataframe\">\n",
              "  <thead>\n",
              "    <tr style=\"text-align: right;\">\n",
              "      <th></th>\n",
              "      <th>Make_Alfa Romeo</th>\n",
              "      <th>Make_Audi</th>\n",
              "      <th>Make_BMW</th>\n",
              "      <th>Make_Chevrolet</th>\n",
              "      <th>Make_Chrysler</th>\n",
              "      <th>Make_Citroen</th>\n",
              "      <th>Make_Dacia</th>\n",
              "      <th>Make_Daewoo</th>\n",
              "      <th>Make_Daihatsu</th>\n",
              "      <th>Make_Dodge</th>\n",
              "      <th>...</th>\n",
              "      <th>Fuel_type_Metan/Propan</th>\n",
              "      <th>Fuel_type_Petrol</th>\n",
              "      <th>Fuel_type_Plug-in Hybrid</th>\n",
              "      <th>Year</th>\n",
              "      <th>Distance</th>\n",
              "      <th>Engine_capacity(cm3)</th>\n",
              "      <th>Price(euro)</th>\n",
              "      <th>km_year</th>\n",
              "      <th>Price_mean_make</th>\n",
              "      <th>Transmission</th>\n",
              "    </tr>\n",
              "  </thead>\n",
              "  <tbody>\n",
              "    <tr>\n",
              "      <th>0</th>\n",
              "      <td>0</td>\n",
              "      <td>0</td>\n",
              "      <td>0</td>\n",
              "      <td>0</td>\n",
              "      <td>0</td>\n",
              "      <td>0</td>\n",
              "      <td>0</td>\n",
              "      <td>0</td>\n",
              "      <td>0</td>\n",
              "      <td>0</td>\n",
              "      <td>...</td>\n",
              "      <td>0</td>\n",
              "      <td>0</td>\n",
              "      <td>0</td>\n",
              "      <td>0.383647</td>\n",
              "      <td>0.142253</td>\n",
              "      <td>-0.110171</td>\n",
              "      <td>-0.174700</td>\n",
              "      <td>0.389158</td>\n",
              "      <td>0.050383</td>\n",
              "      <td>0</td>\n",
              "    </tr>\n",
              "    <tr>\n",
              "      <th>1</th>\n",
              "      <td>0</td>\n",
              "      <td>0</td>\n",
              "      <td>0</td>\n",
              "      <td>0</td>\n",
              "      <td>0</td>\n",
              "      <td>0</td>\n",
              "      <td>0</td>\n",
              "      <td>0</td>\n",
              "      <td>0</td>\n",
              "      <td>0</td>\n",
              "      <td>...</td>\n",
              "      <td>0</td>\n",
              "      <td>0</td>\n",
              "      <td>0</td>\n",
              "      <td>0.797815</td>\n",
              "      <td>-0.471631</td>\n",
              "      <td>-0.602326</td>\n",
              "      <td>-0.090635</td>\n",
              "      <td>0.274376</td>\n",
              "      <td>-0.647607</td>\n",
              "      <td>1</td>\n",
              "    </tr>\n",
              "  </tbody>\n",
              "</table>\n",
              "<p>2 rows × 852 columns</p>\n",
              "</div>\n",
              "      <button class=\"colab-df-convert\" onclick=\"convertToInteractive('df-f5ad8f58-3eae-4f0d-b3c3-7a716212e316')\"\n",
              "              title=\"Convert this dataframe to an interactive table.\"\n",
              "              style=\"display:none;\">\n",
              "        \n",
              "  <svg xmlns=\"http://www.w3.org/2000/svg\" height=\"24px\"viewBox=\"0 0 24 24\"\n",
              "       width=\"24px\">\n",
              "    <path d=\"M0 0h24v24H0V0z\" fill=\"none\"/>\n",
              "    <path d=\"M18.56 5.44l.94 2.06.94-2.06 2.06-.94-2.06-.94-.94-2.06-.94 2.06-2.06.94zm-11 1L8.5 8.5l.94-2.06 2.06-.94-2.06-.94L8.5 2.5l-.94 2.06-2.06.94zm10 10l.94 2.06.94-2.06 2.06-.94-2.06-.94-.94-2.06-.94 2.06-2.06.94z\"/><path d=\"M17.41 7.96l-1.37-1.37c-.4-.4-.92-.59-1.43-.59-.52 0-1.04.2-1.43.59L10.3 9.45l-7.72 7.72c-.78.78-.78 2.05 0 2.83L4 21.41c.39.39.9.59 1.41.59.51 0 1.02-.2 1.41-.59l7.78-7.78 2.81-2.81c.8-.78.8-2.07 0-2.86zM5.41 20L4 18.59l7.72-7.72 1.47 1.35L5.41 20z\"/>\n",
              "  </svg>\n",
              "      </button>\n",
              "      \n",
              "  <style>\n",
              "    .colab-df-container {\n",
              "      display:flex;\n",
              "      flex-wrap:wrap;\n",
              "      gap: 12px;\n",
              "    }\n",
              "\n",
              "    .colab-df-convert {\n",
              "      background-color: #E8F0FE;\n",
              "      border: none;\n",
              "      border-radius: 50%;\n",
              "      cursor: pointer;\n",
              "      display: none;\n",
              "      fill: #1967D2;\n",
              "      height: 32px;\n",
              "      padding: 0 0 0 0;\n",
              "      width: 32px;\n",
              "    }\n",
              "\n",
              "    .colab-df-convert:hover {\n",
              "      background-color: #E2EBFA;\n",
              "      box-shadow: 0px 1px 2px rgba(60, 64, 67, 0.3), 0px 1px 3px 1px rgba(60, 64, 67, 0.15);\n",
              "      fill: #174EA6;\n",
              "    }\n",
              "\n",
              "    [theme=dark] .colab-df-convert {\n",
              "      background-color: #3B4455;\n",
              "      fill: #D2E3FC;\n",
              "    }\n",
              "\n",
              "    [theme=dark] .colab-df-convert:hover {\n",
              "      background-color: #434B5C;\n",
              "      box-shadow: 0px 1px 3px 1px rgba(0, 0, 0, 0.15);\n",
              "      filter: drop-shadow(0px 1px 2px rgba(0, 0, 0, 0.3));\n",
              "      fill: #FFFFFF;\n",
              "    }\n",
              "  </style>\n",
              "\n",
              "      <script>\n",
              "        const buttonEl =\n",
              "          document.querySelector('#df-f5ad8f58-3eae-4f0d-b3c3-7a716212e316 button.colab-df-convert');\n",
              "        buttonEl.style.display =\n",
              "          google.colab.kernel.accessAllowed ? 'block' : 'none';\n",
              "\n",
              "        async function convertToInteractive(key) {\n",
              "          const element = document.querySelector('#df-f5ad8f58-3eae-4f0d-b3c3-7a716212e316');\n",
              "          const dataTable =\n",
              "            await google.colab.kernel.invokeFunction('convertToInteractive',\n",
              "                                                     [key], {});\n",
              "          if (!dataTable) return;\n",
              "\n",
              "          const docLinkHtml = 'Like what you see? Visit the ' +\n",
              "            '<a target=\"_blank\" href=https://colab.research.google.com/notebooks/data_table.ipynb>data table notebook</a>'\n",
              "            + ' to learn more about interactive tables.';\n",
              "          element.innerHTML = '';\n",
              "          dataTable['output_type'] = 'display_data';\n",
              "          await google.colab.output.renderOutput(dataTable, element);\n",
              "          const docLink = document.createElement('div');\n",
              "          docLink.innerHTML = docLinkHtml;\n",
              "          element.appendChild(docLink);\n",
              "        }\n",
              "      </script>\n",
              "    </div>\n",
              "  </div>\n",
              "  "
            ]
          },
          "metadata": {},
          "execution_count": 377
        }
      ]
    },
    {
      "cell_type": "markdown",
      "source": [
        "Разбиваем данные на тестовую и тренировочную выборки"
      ],
      "metadata": {
        "id": "RQ6WOgU3E0Zt"
      }
    },
    {
      "cell_type": "code",
      "source": [
        "X,y = df_dum.drop(columns = ['Transmission']).values,df_dum['Transmission'].values\n",
        "features_names = df_dum.drop(columns = ['Transmission']).columns\n",
        "\n",
        "X3_train, X3_test, y3_train, y3_test = train_test_split(X, y, test_size=0.3, random_state=42)\n",
        "\n",
        "\n",
        "scaler  = MinMaxScaler()\n",
        "X3_train = scaler.fit_transform(X3_train)\n",
        "X3_test  = scaler.transform(X3_test) \n",
        "pd.DataFrame(X3_train).tail()"
      ],
      "metadata": {
        "colab": {
          "base_uri": "https://localhost:8080/",
          "height": 236
        },
        "id": "Z41uISK6IyUF",
        "outputId": "198c9fb6-6c20-4fd9-b2fe-fe053656986d"
      },
      "execution_count": null,
      "outputs": [
        {
          "output_type": "execute_result",
          "data": {
            "text/plain": [
              "       0    1    2    3    4    5    6    7    8    9    ...  841  842  843  \\\n",
              "22726  0.0  0.0  0.0  0.0  0.0  0.0  0.0  0.0  0.0  0.0  ...  0.0  1.0  0.0   \n",
              "22727  0.0  1.0  0.0  0.0  0.0  0.0  0.0  0.0  0.0  0.0  ...  0.0  0.0  1.0   \n",
              "22728  0.0  0.0  0.0  0.0  0.0  0.0  0.0  0.0  0.0  0.0  ...  0.0  0.0  0.0   \n",
              "22729  0.0  0.0  0.0  0.0  0.0  0.0  0.0  0.0  0.0  0.0  ...  0.0  0.0  0.0   \n",
              "22730  0.0  0.0  0.0  0.0  0.0  0.0  0.0  0.0  0.0  0.0  ...  0.0  1.0  0.0   \n",
              "\n",
              "       844   845       846       847       848       849       850  \n",
              "22726  0.0  0.64  0.269999  0.687500  0.043086  0.284196  0.226527  \n",
              "22727  0.0  0.88  0.050999  0.375000  0.148297  0.145697  0.240927  \n",
              "22728  0.0  0.78  0.194999  0.375000  0.096192  0.324986  0.121252  \n",
              "22729  0.0  0.60  0.002499  0.520833  0.023046  0.002361  0.250410  \n",
              "22730  0.0  0.48  0.284666  0.374375  0.024048  0.210849  0.032811  \n",
              "\n",
              "[5 rows x 851 columns]"
            ],
            "text/html": [
              "\n",
              "  <div id=\"df-a0d54e97-4fe5-48f9-9f7c-63ac6e544ec1\">\n",
              "    <div class=\"colab-df-container\">\n",
              "      <div>\n",
              "<style scoped>\n",
              "    .dataframe tbody tr th:only-of-type {\n",
              "        vertical-align: middle;\n",
              "    }\n",
              "\n",
              "    .dataframe tbody tr th {\n",
              "        vertical-align: top;\n",
              "    }\n",
              "\n",
              "    .dataframe thead th {\n",
              "        text-align: right;\n",
              "    }\n",
              "</style>\n",
              "<table border=\"1\" class=\"dataframe\">\n",
              "  <thead>\n",
              "    <tr style=\"text-align: right;\">\n",
              "      <th></th>\n",
              "      <th>0</th>\n",
              "      <th>1</th>\n",
              "      <th>2</th>\n",
              "      <th>3</th>\n",
              "      <th>4</th>\n",
              "      <th>5</th>\n",
              "      <th>6</th>\n",
              "      <th>7</th>\n",
              "      <th>8</th>\n",
              "      <th>9</th>\n",
              "      <th>...</th>\n",
              "      <th>841</th>\n",
              "      <th>842</th>\n",
              "      <th>843</th>\n",
              "      <th>844</th>\n",
              "      <th>845</th>\n",
              "      <th>846</th>\n",
              "      <th>847</th>\n",
              "      <th>848</th>\n",
              "      <th>849</th>\n",
              "      <th>850</th>\n",
              "    </tr>\n",
              "  </thead>\n",
              "  <tbody>\n",
              "    <tr>\n",
              "      <th>22726</th>\n",
              "      <td>0.0</td>\n",
              "      <td>0.0</td>\n",
              "      <td>0.0</td>\n",
              "      <td>0.0</td>\n",
              "      <td>0.0</td>\n",
              "      <td>0.0</td>\n",
              "      <td>0.0</td>\n",
              "      <td>0.0</td>\n",
              "      <td>0.0</td>\n",
              "      <td>0.0</td>\n",
              "      <td>...</td>\n",
              "      <td>0.0</td>\n",
              "      <td>1.0</td>\n",
              "      <td>0.0</td>\n",
              "      <td>0.0</td>\n",
              "      <td>0.64</td>\n",
              "      <td>0.269999</td>\n",
              "      <td>0.687500</td>\n",
              "      <td>0.043086</td>\n",
              "      <td>0.284196</td>\n",
              "      <td>0.226527</td>\n",
              "    </tr>\n",
              "    <tr>\n",
              "      <th>22727</th>\n",
              "      <td>0.0</td>\n",
              "      <td>1.0</td>\n",
              "      <td>0.0</td>\n",
              "      <td>0.0</td>\n",
              "      <td>0.0</td>\n",
              "      <td>0.0</td>\n",
              "      <td>0.0</td>\n",
              "      <td>0.0</td>\n",
              "      <td>0.0</td>\n",
              "      <td>0.0</td>\n",
              "      <td>...</td>\n",
              "      <td>0.0</td>\n",
              "      <td>0.0</td>\n",
              "      <td>1.0</td>\n",
              "      <td>0.0</td>\n",
              "      <td>0.88</td>\n",
              "      <td>0.050999</td>\n",
              "      <td>0.375000</td>\n",
              "      <td>0.148297</td>\n",
              "      <td>0.145697</td>\n",
              "      <td>0.240927</td>\n",
              "    </tr>\n",
              "    <tr>\n",
              "      <th>22728</th>\n",
              "      <td>0.0</td>\n",
              "      <td>0.0</td>\n",
              "      <td>0.0</td>\n",
              "      <td>0.0</td>\n",
              "      <td>0.0</td>\n",
              "      <td>0.0</td>\n",
              "      <td>0.0</td>\n",
              "      <td>0.0</td>\n",
              "      <td>0.0</td>\n",
              "      <td>0.0</td>\n",
              "      <td>...</td>\n",
              "      <td>0.0</td>\n",
              "      <td>0.0</td>\n",
              "      <td>0.0</td>\n",
              "      <td>0.0</td>\n",
              "      <td>0.78</td>\n",
              "      <td>0.194999</td>\n",
              "      <td>0.375000</td>\n",
              "      <td>0.096192</td>\n",
              "      <td>0.324986</td>\n",
              "      <td>0.121252</td>\n",
              "    </tr>\n",
              "    <tr>\n",
              "      <th>22729</th>\n",
              "      <td>0.0</td>\n",
              "      <td>0.0</td>\n",
              "      <td>0.0</td>\n",
              "      <td>0.0</td>\n",
              "      <td>0.0</td>\n",
              "      <td>0.0</td>\n",
              "      <td>0.0</td>\n",
              "      <td>0.0</td>\n",
              "      <td>0.0</td>\n",
              "      <td>0.0</td>\n",
              "      <td>...</td>\n",
              "      <td>0.0</td>\n",
              "      <td>0.0</td>\n",
              "      <td>0.0</td>\n",
              "      <td>0.0</td>\n",
              "      <td>0.60</td>\n",
              "      <td>0.002499</td>\n",
              "      <td>0.520833</td>\n",
              "      <td>0.023046</td>\n",
              "      <td>0.002361</td>\n",
              "      <td>0.250410</td>\n",
              "    </tr>\n",
              "    <tr>\n",
              "      <th>22730</th>\n",
              "      <td>0.0</td>\n",
              "      <td>0.0</td>\n",
              "      <td>0.0</td>\n",
              "      <td>0.0</td>\n",
              "      <td>0.0</td>\n",
              "      <td>0.0</td>\n",
              "      <td>0.0</td>\n",
              "      <td>0.0</td>\n",
              "      <td>0.0</td>\n",
              "      <td>0.0</td>\n",
              "      <td>...</td>\n",
              "      <td>0.0</td>\n",
              "      <td>1.0</td>\n",
              "      <td>0.0</td>\n",
              "      <td>0.0</td>\n",
              "      <td>0.48</td>\n",
              "      <td>0.284666</td>\n",
              "      <td>0.374375</td>\n",
              "      <td>0.024048</td>\n",
              "      <td>0.210849</td>\n",
              "      <td>0.032811</td>\n",
              "    </tr>\n",
              "  </tbody>\n",
              "</table>\n",
              "<p>5 rows × 851 columns</p>\n",
              "</div>\n",
              "      <button class=\"colab-df-convert\" onclick=\"convertToInteractive('df-a0d54e97-4fe5-48f9-9f7c-63ac6e544ec1')\"\n",
              "              title=\"Convert this dataframe to an interactive table.\"\n",
              "              style=\"display:none;\">\n",
              "        \n",
              "  <svg xmlns=\"http://www.w3.org/2000/svg\" height=\"24px\"viewBox=\"0 0 24 24\"\n",
              "       width=\"24px\">\n",
              "    <path d=\"M0 0h24v24H0V0z\" fill=\"none\"/>\n",
              "    <path d=\"M18.56 5.44l.94 2.06.94-2.06 2.06-.94-2.06-.94-.94-2.06-.94 2.06-2.06.94zm-11 1L8.5 8.5l.94-2.06 2.06-.94-2.06-.94L8.5 2.5l-.94 2.06-2.06.94zm10 10l.94 2.06.94-2.06 2.06-.94-2.06-.94-.94-2.06-.94 2.06-2.06.94z\"/><path d=\"M17.41 7.96l-1.37-1.37c-.4-.4-.92-.59-1.43-.59-.52 0-1.04.2-1.43.59L10.3 9.45l-7.72 7.72c-.78.78-.78 2.05 0 2.83L4 21.41c.39.39.9.59 1.41.59.51 0 1.02-.2 1.41-.59l7.78-7.78 2.81-2.81c.8-.78.8-2.07 0-2.86zM5.41 20L4 18.59l7.72-7.72 1.47 1.35L5.41 20z\"/>\n",
              "  </svg>\n",
              "      </button>\n",
              "      \n",
              "  <style>\n",
              "    .colab-df-container {\n",
              "      display:flex;\n",
              "      flex-wrap:wrap;\n",
              "      gap: 12px;\n",
              "    }\n",
              "\n",
              "    .colab-df-convert {\n",
              "      background-color: #E8F0FE;\n",
              "      border: none;\n",
              "      border-radius: 50%;\n",
              "      cursor: pointer;\n",
              "      display: none;\n",
              "      fill: #1967D2;\n",
              "      height: 32px;\n",
              "      padding: 0 0 0 0;\n",
              "      width: 32px;\n",
              "    }\n",
              "\n",
              "    .colab-df-convert:hover {\n",
              "      background-color: #E2EBFA;\n",
              "      box-shadow: 0px 1px 2px rgba(60, 64, 67, 0.3), 0px 1px 3px 1px rgba(60, 64, 67, 0.15);\n",
              "      fill: #174EA6;\n",
              "    }\n",
              "\n",
              "    [theme=dark] .colab-df-convert {\n",
              "      background-color: #3B4455;\n",
              "      fill: #D2E3FC;\n",
              "    }\n",
              "\n",
              "    [theme=dark] .colab-df-convert:hover {\n",
              "      background-color: #434B5C;\n",
              "      box-shadow: 0px 1px 3px 1px rgba(0, 0, 0, 0.15);\n",
              "      filter: drop-shadow(0px 1px 2px rgba(0, 0, 0, 0.3));\n",
              "      fill: #FFFFFF;\n",
              "    }\n",
              "  </style>\n",
              "\n",
              "      <script>\n",
              "        const buttonEl =\n",
              "          document.querySelector('#df-a0d54e97-4fe5-48f9-9f7c-63ac6e544ec1 button.colab-df-convert');\n",
              "        buttonEl.style.display =\n",
              "          google.colab.kernel.accessAllowed ? 'block' : 'none';\n",
              "\n",
              "        async function convertToInteractive(key) {\n",
              "          const element = document.querySelector('#df-a0d54e97-4fe5-48f9-9f7c-63ac6e544ec1');\n",
              "          const dataTable =\n",
              "            await google.colab.kernel.invokeFunction('convertToInteractive',\n",
              "                                                     [key], {});\n",
              "          if (!dataTable) return;\n",
              "\n",
              "          const docLinkHtml = 'Like what you see? Visit the ' +\n",
              "            '<a target=\"_blank\" href=https://colab.research.google.com/notebooks/data_table.ipynb>data table notebook</a>'\n",
              "            + ' to learn more about interactive tables.';\n",
              "          element.innerHTML = '';\n",
              "          dataTable['output_type'] = 'display_data';\n",
              "          await google.colab.output.renderOutput(dataTable, element);\n",
              "          const docLink = document.createElement('div');\n",
              "          docLink.innerHTML = docLinkHtml;\n",
              "          element.appendChild(docLink);\n",
              "        }\n",
              "      </script>\n",
              "    </div>\n",
              "  </div>\n",
              "  "
            ]
          },
          "metadata": {},
          "execution_count": 385
        }
      ]
    },
    {
      "cell_type": "markdown",
      "source": [
        "Строим модель"
      ],
      "metadata": {
        "id": "qlnrfe9AJj8l"
      }
    },
    {
      "cell_type": "code",
      "source": [
        "Log3= LogisticRegression(fit_intercept=True, penalty='l2', solver='saga', C=1, max_iter=100000)"
      ],
      "metadata": {
        "id": "_L9JP6mvI2j9"
      },
      "execution_count": null,
      "outputs": []
    },
    {
      "cell_type": "code",
      "source": [
        "Log3.fit(X3_train, y3_train)"
      ],
      "metadata": {
        "colab": {
          "base_uri": "https://localhost:8080/"
        },
        "id": "RNMMjo8QJIz5",
        "outputId": "ddcfb2e0-13cb-4ca0-a7ed-13d1599fa00a"
      },
      "execution_count": null,
      "outputs": [
        {
          "output_type": "execute_result",
          "data": {
            "text/plain": [
              "LogisticRegression(C=1, max_iter=100000, solver='saga')"
            ]
          },
          "metadata": {},
          "execution_count": 386
        }
      ]
    },
    {
      "cell_type": "code",
      "source": [
        "y3_pred = Log3.predict(X3_test)"
      ],
      "metadata": {
        "id": "Zew9dY-aJNsL"
      },
      "execution_count": null,
      "outputs": []
    },
    {
      "cell_type": "markdown",
      "source": [
        "Смотрим результат"
      ],
      "metadata": {
        "id": "6QGgWVMmJnZ2"
      }
    },
    {
      "cell_type": "code",
      "source": [
        "print('Оценка обучающего набора: {:.4f}'.format(Log3.score(X3_train, y3_train)))\n",
        "print('Оценка тестового набора: {:.4f}'.format(Log3.score(X3_test, y3_test)))"
      ],
      "metadata": {
        "colab": {
          "base_uri": "https://localhost:8080/"
        },
        "id": "tFl-6TRPJmm2",
        "outputId": "b26484bf-3b42-48f4-807d-33b05c624f16"
      },
      "execution_count": null,
      "outputs": [
        {
          "output_type": "stream",
          "name": "stdout",
          "text": [
            "Оценка обучающего набора: 0.8602\n",
            "Оценка тестового набора: 0.8602\n"
          ]
        }
      ]
    },
    {
      "cell_type": "code",
      "source": [
        "model(y3_test, y3_pred)"
      ],
      "metadata": {
        "colab": {
          "base_uri": "https://localhost:8080/",
          "height": 470
        },
        "id": "EiCcl_MsJz2Q",
        "outputId": "9218a6a6-1c7c-4d11-e33e-c0d022e08582"
      },
      "execution_count": null,
      "outputs": [
        {
          "output_type": "display_data",
          "data": {
            "text/plain": [
              "<Figure size 432x288 with 2 Axes>"
            ],
            "image/png": "[encoded data removed]"
          },
          "metadata": {
            "needs_background": "light"
          }
        },
        {
          "output_type": "stream",
          "name": "stdout",
          "text": [
            "Модель правильно классифицировала  3621  показатель, который принадлежал к классу 0 (истинно отрицательные исходы)\n",
            "Модель правильно классифицировала  4760  показатель, который принадлежал к классу 1 (истинно положительные исходы)\n",
            "Модель ошибочно классифицировала  801  показатель, из класса 0 как класс 1 (ложноположительные исходы)\n",
            "Модель ошибочно классифицировала  561  показатель, из класса 1 как класс 0 (ложноотрицательные исходы)\n",
            "\n",
            "Точность модели = TP+TN/(TP+TN+FP+FN) =  0.8602\n",
            "Чувствительность или доля истинно положительных результатов = TP/(TP+FN) =  0.8946\n",
            "Доля истинно отрицательных результатов = TN/(TN+FP) =  0.8189\n",
            "Положительное прогностическое значение = TP/(TP+FP) =  0.856\n",
            "Отрицательное прогностическое значение = TN/(TN+FN) =  0.8659\n"
          ]
        }
      ]
    },
    {
      "cell_type": "code",
      "source": [
        "print (classification_report(y3_test, y3_pred, target_names=['Manual','Automatic']))"
      ],
      "metadata": {
        "colab": {
          "base_uri": "https://localhost:8080/"
        },
        "id": "byODAIyFJ4to",
        "outputId": "2d10a1ee-4b13-4ff2-b3ba-663b53799e0c"
      },
      "execution_count": null,
      "outputs": [
        {
          "output_type": "stream",
          "name": "stdout",
          "text": [
            "              precision    recall  f1-score   support\n",
            "\n",
            "      Manual       0.87      0.82      0.84      4422\n",
            "   Automatic       0.86      0.89      0.87      5321\n",
            "\n",
            "    accuracy                           0.86      9743\n",
            "   macro avg       0.86      0.86      0.86      9743\n",
            "weighted avg       0.86      0.86      0.86      9743\n",
            "\n"
          ]
        }
      ]
    },
    {
      "cell_type": "markdown",
      "source": [
        "Выводы - модель лучше всего показала себя при one-hot кодировании"
      ],
      "metadata": {
        "id": "ELCXPHpMKBkp"
      }
    }
  ]
}